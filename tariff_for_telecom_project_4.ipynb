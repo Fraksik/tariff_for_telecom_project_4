{
 "cells": [
  {
   "cell_type": "markdown",
   "metadata": {},
   "source": [
    "# Определение перспективного тарифа для телеком-компании"
   ]
  },
  {
   "cell_type": "markdown",
   "metadata": {},
   "source": [
    "### Описание проекта\n",
    "\n",
    "Вы аналитик компании «Мегалайн» — федерального оператора сотовой связи. Клиентам предлагают два тарифных плана: «Смарт» и «Ультра». Чтобы скорректировать рекламный бюджет, коммерческий департамент хочет понять, какой тариф приносит больше денег.  \n",
    "Вам предстоит сделать предварительный анализ тарифов на небольшой выборке клиентов. В вашем распоряжении данные 500 пользователей «Мегалайна»: кто они, откуда, каким тарифом пользуются, сколько звонков и сообщений каждый отправил за 2018 год. Нужно проанализировать поведение клиентов и сделать вывод — какой тариф лучше.\n",
    "\n",
    "### Описание тарифов\n",
    "#### Тариф «Смарт»\n",
    "Ежемесячная плата: 550 рублей  \n",
    "Включено 500 минут разговора, 50 сообщений и 15 Гб интернет-трафика  \n",
    "Стоимость услуг сверх тарифного пакета: \n",
    "1. минута разговора: 3 рубля («Мегалайн» всегда округляет вверх значения минут и мегабайтов. Если пользователь проговорил всего 1 секунду, в тарифе засчитывается целая минута); \n",
    "2. сообщение: 3 рубля; \n",
    "3. 1 Гб интернет-трафика: 200 рублей.\n",
    "  \n",
    "#### Тариф «Ультра»\n",
    "Ежемесячная плата: 1950 рублей  \n",
    "Включено 3000 минут разговора, 1000 сообщений и 30 Гб интернет-трафика  \n",
    "Стоимость услуг сверх тарифного пакета: \n",
    "1. минута разговора: 1 рубль; \n",
    "2. сообщение: 1 рубль; \n",
    "3. 1 Гб интернет-трафика: 150 рублей."
   ]
  },
  {
   "cell_type": "markdown",
   "metadata": {},
   "source": [
    "## Общая информация"
   ]
  },
  {
   "cell_type": "markdown",
   "metadata": {},
   "source": [
    "### Открываем файлы и изучаем данные"
   ]
  },
  {
   "cell_type": "code",
   "execution_count": 1,
   "metadata": {},
   "outputs": [],
   "source": [
    "import pandas as pd\n",
    "import matplotlib.pyplot as plt \n",
    "import numpy as np\n",
    "from scipy import stats as st"
   ]
  },
  {
   "cell_type": "code",
   "execution_count": 2,
   "metadata": {
    "scrolled": true
   },
   "outputs": [],
   "source": [
    "calls = pd.read_csv('calls.csv')\n",
    "internet = pd.read_csv('internet.csv')\n",
    "messages = pd.read_csv('messages.csv')\n",
    "tariffs = pd.read_csv('tariffs.csv')\n",
    "users = pd.read_csv('users.csv')"
   ]
  },
  {
   "cell_type": "markdown",
   "metadata": {},
   "source": [
    "Проверим, что данные отображаются корректно и с ними можно работать."
   ]
  },
  {
   "cell_type": "code",
   "execution_count": 3,
   "metadata": {
    "scrolled": true
   },
   "outputs": [
    {
     "data": {
      "text/html": [
       "<div>\n",
       "<style scoped>\n",
       "    .dataframe tbody tr th:only-of-type {\n",
       "        vertical-align: middle;\n",
       "    }\n",
       "\n",
       "    .dataframe tbody tr th {\n",
       "        vertical-align: top;\n",
       "    }\n",
       "\n",
       "    .dataframe thead th {\n",
       "        text-align: right;\n",
       "    }\n",
       "</style>\n",
       "<table border=\"1\" class=\"dataframe\">\n",
       "  <thead>\n",
       "    <tr style=\"text-align: right;\">\n",
       "      <th></th>\n",
       "      <th>id</th>\n",
       "      <th>call_date</th>\n",
       "      <th>duration</th>\n",
       "      <th>user_id</th>\n",
       "    </tr>\n",
       "  </thead>\n",
       "  <tbody>\n",
       "    <tr>\n",
       "      <td>0</td>\n",
       "      <td>1000_0</td>\n",
       "      <td>2018-07-25</td>\n",
       "      <td>0.00</td>\n",
       "      <td>1000</td>\n",
       "    </tr>\n",
       "    <tr>\n",
       "      <td>1</td>\n",
       "      <td>1000_1</td>\n",
       "      <td>2018-08-17</td>\n",
       "      <td>0.00</td>\n",
       "      <td>1000</td>\n",
       "    </tr>\n",
       "    <tr>\n",
       "      <td>2</td>\n",
       "      <td>1000_2</td>\n",
       "      <td>2018-06-11</td>\n",
       "      <td>2.85</td>\n",
       "      <td>1000</td>\n",
       "    </tr>\n",
       "    <tr>\n",
       "      <td>3</td>\n",
       "      <td>1000_3</td>\n",
       "      <td>2018-09-21</td>\n",
       "      <td>13.80</td>\n",
       "      <td>1000</td>\n",
       "    </tr>\n",
       "    <tr>\n",
       "      <td>4</td>\n",
       "      <td>1000_4</td>\n",
       "      <td>2018-12-15</td>\n",
       "      <td>5.18</td>\n",
       "      <td>1000</td>\n",
       "    </tr>\n",
       "  </tbody>\n",
       "</table>\n",
       "</div>"
      ],
      "text/plain": [
       "       id   call_date  duration  user_id\n",
       "0  1000_0  2018-07-25      0.00     1000\n",
       "1  1000_1  2018-08-17      0.00     1000\n",
       "2  1000_2  2018-06-11      2.85     1000\n",
       "3  1000_3  2018-09-21     13.80     1000\n",
       "4  1000_4  2018-12-15      5.18     1000"
      ]
     },
     "execution_count": 3,
     "metadata": {},
     "output_type": "execute_result"
    }
   ],
   "source": [
    "calls.head()"
   ]
  },
  {
   "cell_type": "code",
   "execution_count": 4,
   "metadata": {},
   "outputs": [
    {
     "data": {
      "text/html": [
       "<div>\n",
       "<style scoped>\n",
       "    .dataframe tbody tr th:only-of-type {\n",
       "        vertical-align: middle;\n",
       "    }\n",
       "\n",
       "    .dataframe tbody tr th {\n",
       "        vertical-align: top;\n",
       "    }\n",
       "\n",
       "    .dataframe thead th {\n",
       "        text-align: right;\n",
       "    }\n",
       "</style>\n",
       "<table border=\"1\" class=\"dataframe\">\n",
       "  <thead>\n",
       "    <tr style=\"text-align: right;\">\n",
       "      <th></th>\n",
       "      <th>Unnamed: 0</th>\n",
       "      <th>id</th>\n",
       "      <th>mb_used</th>\n",
       "      <th>session_date</th>\n",
       "      <th>user_id</th>\n",
       "    </tr>\n",
       "  </thead>\n",
       "  <tbody>\n",
       "    <tr>\n",
       "      <td>0</td>\n",
       "      <td>0</td>\n",
       "      <td>1000_0</td>\n",
       "      <td>112.95</td>\n",
       "      <td>2018-11-25</td>\n",
       "      <td>1000</td>\n",
       "    </tr>\n",
       "    <tr>\n",
       "      <td>1</td>\n",
       "      <td>1</td>\n",
       "      <td>1000_1</td>\n",
       "      <td>1052.81</td>\n",
       "      <td>2018-09-07</td>\n",
       "      <td>1000</td>\n",
       "    </tr>\n",
       "    <tr>\n",
       "      <td>2</td>\n",
       "      <td>2</td>\n",
       "      <td>1000_2</td>\n",
       "      <td>1197.26</td>\n",
       "      <td>2018-06-25</td>\n",
       "      <td>1000</td>\n",
       "    </tr>\n",
       "    <tr>\n",
       "      <td>3</td>\n",
       "      <td>3</td>\n",
       "      <td>1000_3</td>\n",
       "      <td>550.27</td>\n",
       "      <td>2018-08-22</td>\n",
       "      <td>1000</td>\n",
       "    </tr>\n",
       "    <tr>\n",
       "      <td>4</td>\n",
       "      <td>4</td>\n",
       "      <td>1000_4</td>\n",
       "      <td>302.56</td>\n",
       "      <td>2018-09-24</td>\n",
       "      <td>1000</td>\n",
       "    </tr>\n",
       "  </tbody>\n",
       "</table>\n",
       "</div>"
      ],
      "text/plain": [
       "   Unnamed: 0      id  mb_used session_date  user_id\n",
       "0           0  1000_0   112.95   2018-11-25     1000\n",
       "1           1  1000_1  1052.81   2018-09-07     1000\n",
       "2           2  1000_2  1197.26   2018-06-25     1000\n",
       "3           3  1000_3   550.27   2018-08-22     1000\n",
       "4           4  1000_4   302.56   2018-09-24     1000"
      ]
     },
     "execution_count": 4,
     "metadata": {},
     "output_type": "execute_result"
    }
   ],
   "source": [
    "internet.head()"
   ]
  },
  {
   "cell_type": "code",
   "execution_count": 5,
   "metadata": {},
   "outputs": [
    {
     "data": {
      "text/html": [
       "<div>\n",
       "<style scoped>\n",
       "    .dataframe tbody tr th:only-of-type {\n",
       "        vertical-align: middle;\n",
       "    }\n",
       "\n",
       "    .dataframe tbody tr th {\n",
       "        vertical-align: top;\n",
       "    }\n",
       "\n",
       "    .dataframe thead th {\n",
       "        text-align: right;\n",
       "    }\n",
       "</style>\n",
       "<table border=\"1\" class=\"dataframe\">\n",
       "  <thead>\n",
       "    <tr style=\"text-align: right;\">\n",
       "      <th></th>\n",
       "      <th>id</th>\n",
       "      <th>message_date</th>\n",
       "      <th>user_id</th>\n",
       "    </tr>\n",
       "  </thead>\n",
       "  <tbody>\n",
       "    <tr>\n",
       "      <td>0</td>\n",
       "      <td>1000_0</td>\n",
       "      <td>2018-06-27</td>\n",
       "      <td>1000</td>\n",
       "    </tr>\n",
       "    <tr>\n",
       "      <td>1</td>\n",
       "      <td>1000_1</td>\n",
       "      <td>2018-10-08</td>\n",
       "      <td>1000</td>\n",
       "    </tr>\n",
       "    <tr>\n",
       "      <td>2</td>\n",
       "      <td>1000_2</td>\n",
       "      <td>2018-08-04</td>\n",
       "      <td>1000</td>\n",
       "    </tr>\n",
       "    <tr>\n",
       "      <td>3</td>\n",
       "      <td>1000_3</td>\n",
       "      <td>2018-06-16</td>\n",
       "      <td>1000</td>\n",
       "    </tr>\n",
       "    <tr>\n",
       "      <td>4</td>\n",
       "      <td>1000_4</td>\n",
       "      <td>2018-12-05</td>\n",
       "      <td>1000</td>\n",
       "    </tr>\n",
       "  </tbody>\n",
       "</table>\n",
       "</div>"
      ],
      "text/plain": [
       "       id message_date  user_id\n",
       "0  1000_0   2018-06-27     1000\n",
       "1  1000_1   2018-10-08     1000\n",
       "2  1000_2   2018-08-04     1000\n",
       "3  1000_3   2018-06-16     1000\n",
       "4  1000_4   2018-12-05     1000"
      ]
     },
     "execution_count": 5,
     "metadata": {},
     "output_type": "execute_result"
    }
   ],
   "source": [
    "messages.head()"
   ]
  },
  {
   "cell_type": "code",
   "execution_count": 6,
   "metadata": {},
   "outputs": [
    {
     "data": {
      "text/html": [
       "<div>\n",
       "<style scoped>\n",
       "    .dataframe tbody tr th:only-of-type {\n",
       "        vertical-align: middle;\n",
       "    }\n",
       "\n",
       "    .dataframe tbody tr th {\n",
       "        vertical-align: top;\n",
       "    }\n",
       "\n",
       "    .dataframe thead th {\n",
       "        text-align: right;\n",
       "    }\n",
       "</style>\n",
       "<table border=\"1\" class=\"dataframe\">\n",
       "  <thead>\n",
       "    <tr style=\"text-align: right;\">\n",
       "      <th></th>\n",
       "      <th>messages_included</th>\n",
       "      <th>mb_per_month_included</th>\n",
       "      <th>minutes_included</th>\n",
       "      <th>rub_monthly_fee</th>\n",
       "      <th>rub_per_gb</th>\n",
       "      <th>rub_per_message</th>\n",
       "      <th>rub_per_minute</th>\n",
       "      <th>tariff_name</th>\n",
       "    </tr>\n",
       "  </thead>\n",
       "  <tbody>\n",
       "    <tr>\n",
       "      <td>0</td>\n",
       "      <td>50</td>\n",
       "      <td>15360</td>\n",
       "      <td>500</td>\n",
       "      <td>550</td>\n",
       "      <td>200</td>\n",
       "      <td>3</td>\n",
       "      <td>3</td>\n",
       "      <td>smart</td>\n",
       "    </tr>\n",
       "    <tr>\n",
       "      <td>1</td>\n",
       "      <td>1000</td>\n",
       "      <td>30720</td>\n",
       "      <td>3000</td>\n",
       "      <td>1950</td>\n",
       "      <td>150</td>\n",
       "      <td>1</td>\n",
       "      <td>1</td>\n",
       "      <td>ultra</td>\n",
       "    </tr>\n",
       "  </tbody>\n",
       "</table>\n",
       "</div>"
      ],
      "text/plain": [
       "   messages_included  mb_per_month_included  minutes_included  \\\n",
       "0                 50                  15360               500   \n",
       "1               1000                  30720              3000   \n",
       "\n",
       "   rub_monthly_fee  rub_per_gb  rub_per_message  rub_per_minute tariff_name  \n",
       "0              550         200                3               3       smart  \n",
       "1             1950         150                1               1       ultra  "
      ]
     },
     "execution_count": 6,
     "metadata": {},
     "output_type": "execute_result"
    }
   ],
   "source": [
    "tariffs.head()"
   ]
  },
  {
   "cell_type": "code",
   "execution_count": 7,
   "metadata": {},
   "outputs": [
    {
     "data": {
      "text/html": [
       "<div>\n",
       "<style scoped>\n",
       "    .dataframe tbody tr th:only-of-type {\n",
       "        vertical-align: middle;\n",
       "    }\n",
       "\n",
       "    .dataframe tbody tr th {\n",
       "        vertical-align: top;\n",
       "    }\n",
       "\n",
       "    .dataframe thead th {\n",
       "        text-align: right;\n",
       "    }\n",
       "</style>\n",
       "<table border=\"1\" class=\"dataframe\">\n",
       "  <thead>\n",
       "    <tr style=\"text-align: right;\">\n",
       "      <th></th>\n",
       "      <th>user_id</th>\n",
       "      <th>age</th>\n",
       "      <th>churn_date</th>\n",
       "      <th>city</th>\n",
       "      <th>first_name</th>\n",
       "      <th>last_name</th>\n",
       "      <th>reg_date</th>\n",
       "      <th>tariff</th>\n",
       "    </tr>\n",
       "  </thead>\n",
       "  <tbody>\n",
       "    <tr>\n",
       "      <td>0</td>\n",
       "      <td>1000</td>\n",
       "      <td>52</td>\n",
       "      <td>NaN</td>\n",
       "      <td>Краснодар</td>\n",
       "      <td>Рафаил</td>\n",
       "      <td>Верещагин</td>\n",
       "      <td>2018-05-25</td>\n",
       "      <td>ultra</td>\n",
       "    </tr>\n",
       "    <tr>\n",
       "      <td>1</td>\n",
       "      <td>1001</td>\n",
       "      <td>41</td>\n",
       "      <td>NaN</td>\n",
       "      <td>Москва</td>\n",
       "      <td>Иван</td>\n",
       "      <td>Ежов</td>\n",
       "      <td>2018-11-01</td>\n",
       "      <td>smart</td>\n",
       "    </tr>\n",
       "    <tr>\n",
       "      <td>2</td>\n",
       "      <td>1002</td>\n",
       "      <td>59</td>\n",
       "      <td>NaN</td>\n",
       "      <td>Стерлитамак</td>\n",
       "      <td>Евгений</td>\n",
       "      <td>Абрамович</td>\n",
       "      <td>2018-06-17</td>\n",
       "      <td>smart</td>\n",
       "    </tr>\n",
       "    <tr>\n",
       "      <td>3</td>\n",
       "      <td>1003</td>\n",
       "      <td>23</td>\n",
       "      <td>NaN</td>\n",
       "      <td>Москва</td>\n",
       "      <td>Белла</td>\n",
       "      <td>Белякова</td>\n",
       "      <td>2018-08-17</td>\n",
       "      <td>ultra</td>\n",
       "    </tr>\n",
       "    <tr>\n",
       "      <td>4</td>\n",
       "      <td>1004</td>\n",
       "      <td>68</td>\n",
       "      <td>NaN</td>\n",
       "      <td>Новокузнецк</td>\n",
       "      <td>Татьяна</td>\n",
       "      <td>Авдеенко</td>\n",
       "      <td>2018-05-14</td>\n",
       "      <td>ultra</td>\n",
       "    </tr>\n",
       "  </tbody>\n",
       "</table>\n",
       "</div>"
      ],
      "text/plain": [
       "   user_id  age churn_date         city first_name  last_name    reg_date  \\\n",
       "0     1000   52        NaN    Краснодар     Рафаил  Верещагин  2018-05-25   \n",
       "1     1001   41        NaN       Москва       Иван       Ежов  2018-11-01   \n",
       "2     1002   59        NaN  Стерлитамак    Евгений  Абрамович  2018-06-17   \n",
       "3     1003   23        NaN       Москва      Белла   Белякова  2018-08-17   \n",
       "4     1004   68        NaN  Новокузнецк    Татьяна   Авдеенко  2018-05-14   \n",
       "\n",
       "  tariff  \n",
       "0  ultra  \n",
       "1  smart  \n",
       "2  smart  \n",
       "3  ultra  \n",
       "4  ultra  "
      ]
     },
     "execution_count": 7,
     "metadata": {},
     "output_type": "execute_result"
    }
   ],
   "source": [
    "users.head()"
   ]
  },
  {
   "cell_type": "markdown",
   "metadata": {},
   "source": [
    "Данные выгрузились нормально.  \n",
    "Посмотрим что представляют из себя данные."
   ]
  },
  {
   "cell_type": "code",
   "execution_count": 8,
   "metadata": {},
   "outputs": [
    {
     "name": "stdout",
     "output_type": "stream",
     "text": [
      "<class 'pandas.core.frame.DataFrame'>\n",
      "RangeIndex: 202607 entries, 0 to 202606\n",
      "Data columns (total 4 columns):\n",
      "id           202607 non-null object\n",
      "call_date    202607 non-null object\n",
      "duration     202607 non-null float64\n",
      "user_id      202607 non-null int64\n",
      "dtypes: float64(1), int64(1), object(2)\n",
      "memory usage: 6.2+ MB\n"
     ]
    }
   ],
   "source": [
    "calls.info()"
   ]
  },
  {
   "cell_type": "code",
   "execution_count": 9,
   "metadata": {},
   "outputs": [
    {
     "name": "stdout",
     "output_type": "stream",
     "text": [
      "<class 'pandas.core.frame.DataFrame'>\n",
      "RangeIndex: 149396 entries, 0 to 149395\n",
      "Data columns (total 5 columns):\n",
      "Unnamed: 0      149396 non-null int64\n",
      "id              149396 non-null object\n",
      "mb_used         149396 non-null float64\n",
      "session_date    149396 non-null object\n",
      "user_id         149396 non-null int64\n",
      "dtypes: float64(1), int64(2), object(2)\n",
      "memory usage: 5.7+ MB\n"
     ]
    }
   ],
   "source": [
    "internet.info()"
   ]
  },
  {
   "cell_type": "code",
   "execution_count": 10,
   "metadata": {},
   "outputs": [
    {
     "name": "stdout",
     "output_type": "stream",
     "text": [
      "<class 'pandas.core.frame.DataFrame'>\n",
      "RangeIndex: 123036 entries, 0 to 123035\n",
      "Data columns (total 3 columns):\n",
      "id              123036 non-null object\n",
      "message_date    123036 non-null object\n",
      "user_id         123036 non-null int64\n",
      "dtypes: int64(1), object(2)\n",
      "memory usage: 2.8+ MB\n"
     ]
    }
   ],
   "source": [
    "messages.info()"
   ]
  },
  {
   "cell_type": "code",
   "execution_count": 11,
   "metadata": {},
   "outputs": [
    {
     "name": "stdout",
     "output_type": "stream",
     "text": [
      "<class 'pandas.core.frame.DataFrame'>\n",
      "RangeIndex: 2 entries, 0 to 1\n",
      "Data columns (total 8 columns):\n",
      "messages_included        2 non-null int64\n",
      "mb_per_month_included    2 non-null int64\n",
      "minutes_included         2 non-null int64\n",
      "rub_monthly_fee          2 non-null int64\n",
      "rub_per_gb               2 non-null int64\n",
      "rub_per_message          2 non-null int64\n",
      "rub_per_minute           2 non-null int64\n",
      "tariff_name              2 non-null object\n",
      "dtypes: int64(7), object(1)\n",
      "memory usage: 256.0+ bytes\n"
     ]
    }
   ],
   "source": [
    "tariffs.info()"
   ]
  },
  {
   "cell_type": "code",
   "execution_count": 12,
   "metadata": {},
   "outputs": [
    {
     "name": "stdout",
     "output_type": "stream",
     "text": [
      "<class 'pandas.core.frame.DataFrame'>\n",
      "RangeIndex: 500 entries, 0 to 499\n",
      "Data columns (total 8 columns):\n",
      "user_id       500 non-null int64\n",
      "age           500 non-null int64\n",
      "churn_date    38 non-null object\n",
      "city          500 non-null object\n",
      "first_name    500 non-null object\n",
      "last_name     500 non-null object\n",
      "reg_date      500 non-null object\n",
      "tariff        500 non-null object\n",
      "dtypes: int64(2), object(6)\n",
      "memory usage: 31.4+ KB\n"
     ]
    }
   ],
   "source": [
    "users.info()"
   ]
  },
  {
   "cell_type": "markdown",
   "metadata": {},
   "source": [
    "### Описание данных"
   ]
  },
  {
   "cell_type": "markdown",
   "metadata": {},
   "source": [
    "##### Таблица users (информация о пользователях):\n",
    "* user_id — уникальный идентификатор пользователя\n",
    "* first_name — имя пользователя\n",
    "* last_name — фамилия пользователя\n",
    "* age — возраст пользователя (годы)\n",
    "* reg_date — дата подключения тарифа (день, месяц, год)\n",
    "* churn_date — дата прекращения пользования тарифом (если значение пропущено, то тариф ещё действовал на момент выгрузки данных)\n",
    "* city — город проживания пользователя\n",
    "* tarif — название тарифного плана  \n",
    "  \n",
    "##### Таблица calls (информация о звонках):\n",
    "* id — уникальный номер звонка\n",
    "* call_date — дата звонка\n",
    "* duration — длительность звонка в минутах\n",
    "* user_id — идентификатор пользователя, сделавшего звонок  \n",
    "  \n",
    "##### Таблица messages (информация о сообщениях):\n",
    "* id — уникальный номер сообщения\n",
    "* message_date — дата сообщения\n",
    "* user_id — идентификатор пользователя, отправившего сообщение  \n",
    "  \n",
    "##### Таблица internet (информация об интернет-сессиях):\n",
    "* id — уникальный номер сессии\n",
    "* mb_used — объём потраченного за сессию интернет-трафика (в мегабайтах)\n",
    "* session_date — дата интернет-сессии\n",
    "* user_id — идентификатор пользователя  \n",
    "  \n",
    "##### Таблица tariffs (информация о тарифах):\n",
    "* tariff_name — название тарифа\n",
    "* rub_monthly_fee — ежемесячная абонентская плата в рублях\n",
    "* minutes_included — количество минут разговора в месяц, включённых в абонентскую плату\n",
    "* messages_included — количество сообщений в месяц, включённых в абонентскую плату\n",
    "* mb_per_month_included — объём интернет-трафика, включённого в абонентскую плату (в мегабайтах)\n",
    "* rub_per_minute — стоимость минуты разговора сверх тарифного пакета (например, если в тарифе 100 минут разговора в месяц, то со 101 минуты будет взиматься плата)\n",
    "* rub_per_message — стоимость отправки сообщения сверх тарифного пакета\n",
    "* rub_per_gb — стоимость дополнительного гигабайта интернет-трафика сверх тарифного пакета (1 гигабайт = 1024 мегабайта)"
   ]
  },
  {
   "cell_type": "markdown",
   "metadata": {},
   "source": [
    "### Вывод"
   ]
  },
  {
   "cell_type": "markdown",
   "metadata": {},
   "source": [
    "Данные разделены на пять датасетов.  \n",
    "Четыре из них связаны по столбцу `user_id`: \n",
    "* users - данные о пользователях\n",
    "* calls - данные о звонках\n",
    "* messages - данные о сообщениях\n",
    "* internet - данные об использовании интернета\n",
    "  \n",
    "И один независимый:\n",
    "* tariffs - данные о двух тарифах, предлагаемых компанией  \n",
    "\n",
    "##### Задачи на предобработку данных:\n",
    "* Объединитиь таблицы `calls`, `internet`, `messages`, сгруппировав их по месяцам.\n",
    "* Проверить на дубликаты.\n",
    "* Поиск ошибок в данных и проверка методом `describe()`.\n",
    "\n",
    "##### Задачи по расчету промежуточных итогов по каждому пользователю:\n",
    "* Количество сделанных звонков и израсходованных минут разговора по месяцам.\n",
    "* Количество отправленных сообщений по месяцам.\n",
    "* Объем израсходованного интернет-трафика по месяцам.\n",
    "* Помесячную выручку с каждого пользователя (вычитаем бесплатный лимит из суммарного количества звонков, сообщений и интернет-трафика; остаток умножаем на значение из тарифного плана; прибавляем абонентскую плату, соответствующую тарифному плану)."
   ]
  },
  {
   "cell_type": "markdown",
   "metadata": {},
   "source": [
    "## Предобработка данных"
   ]
  },
  {
   "cell_type": "markdown",
   "metadata": {},
   "source": [
    "### Объединим таблицы `calls`, `internet`, `messages`, сгруппировав их по месяцам\n",
    "Для работы с данными нас не интересуют разовые звонки или смс. Удобнее будет сразу сгруппировать данные по месяцам и пользователям и объединить их в единую таблицу.  \n",
    "Для этого мы подсчитаем:\n",
    "* Количество сделанных звонков и израсходованных минут разговора по месяцам.\n",
    "* Количество отправленных сообщений по месяцам.\n",
    "* Объем израсходованного интернет-трафика по месяцам.\n",
    "\n",
    "После чего объединим три таблиццы в одну."
   ]
  },
  {
   "cell_type": "markdown",
   "metadata": {},
   "source": [
    "Приведем столбец с датой в таблицах к удобному формату."
   ]
  },
  {
   "cell_type": "code",
   "execution_count": 13,
   "metadata": {},
   "outputs": [
    {
     "name": "stdout",
     "output_type": "stream",
     "text": [
      "datetime64[ns]\n"
     ]
    }
   ],
   "source": [
    "calls['call_date'] = pd.to_datetime(calls['call_date'], format='%Y-%m-%d')\n",
    "print(calls.call_date.dtype)"
   ]
  },
  {
   "cell_type": "code",
   "execution_count": 14,
   "metadata": {},
   "outputs": [
    {
     "name": "stdout",
     "output_type": "stream",
     "text": [
      "datetime64[ns]\n"
     ]
    }
   ],
   "source": [
    "internet['session_date'] = pd.to_datetime(internet['session_date'], format='%Y-%m-%d')\n",
    "print(internet.session_date.dtype)"
   ]
  },
  {
   "cell_type": "code",
   "execution_count": 15,
   "metadata": {},
   "outputs": [
    {
     "name": "stdout",
     "output_type": "stream",
     "text": [
      "datetime64[ns]\n"
     ]
    }
   ],
   "source": [
    "messages['message_date'] = pd.to_datetime(messages['message_date'], format='%Y-%m-%d')\n",
    "print(messages.message_date.dtype)"
   ]
  },
  {
   "cell_type": "markdown",
   "metadata": {},
   "source": [
    "Добавим в таблицы столбец с месяцем, который возьмем из столбца с датой."
   ]
  },
  {
   "cell_type": "code",
   "execution_count": 16,
   "metadata": {},
   "outputs": [],
   "source": [
    "calls['month'] = calls['call_date'].dt.month\n",
    "internet['month'] = internet['session_date'].dt.month\n",
    "messages['month'] = messages['message_date'].dt.month"
   ]
  },
  {
   "cell_type": "markdown",
   "metadata": {},
   "source": [
    "Округлим кол-во минут разговора до целого в большую сторону. Это соответствует политике оператора."
   ]
  },
  {
   "cell_type": "code",
   "execution_count": 17,
   "metadata": {},
   "outputs": [],
   "source": [
    "calls['duration'] = calls['duration'].apply(np.ceil)"
   ]
  },
  {
   "cell_type": "markdown",
   "metadata": {},
   "source": [
    "Сгруппируем таблицы по двум столбцам: `user_id` и `month`.  \n",
    "* В `calls` суммируем данные из столбца `duration`.\n",
    "* В `internet` суммируем данные из столбца `mb_used`.\n",
    "* В `messages` подсчитаем кол-во смс по столбцу `id`."
   ]
  },
  {
   "cell_type": "code",
   "execution_count": 18,
   "metadata": {},
   "outputs": [],
   "source": [
    "calls_g = calls.groupby(by=['user_id', 'month']).agg({'duration': ['count', 'sum']}).reset_index()\n",
    "internet_g = internet.groupby(by=['user_id', 'month'])['mb_used'].sum().reset_index()\n",
    "messages_g = messages.groupby(by=['user_id', 'month'])['id'].count().reset_index()"
   ]
  },
  {
   "cell_type": "markdown",
   "metadata": {},
   "source": [
    "Приведем в порядок названия столбцов."
   ]
  },
  {
   "cell_type": "code",
   "execution_count": 19,
   "metadata": {},
   "outputs": [],
   "source": [
    "calls_g.columns = ['user_id', 'month', 'count_calls', 'talk_time']\n",
    "messages_g.columns = ['user_id', 'month', 'count_messages']"
   ]
  },
  {
   "cell_type": "markdown",
   "metadata": {},
   "source": [
    "Объединим таблицы методом `merge` в одну общую таблицу."
   ]
  },
  {
   "cell_type": "code",
   "execution_count": 20,
   "metadata": {
    "scrolled": true
   },
   "outputs": [
    {
     "data": {
      "text/html": [
       "<div>\n",
       "<style scoped>\n",
       "    .dataframe tbody tr th:only-of-type {\n",
       "        vertical-align: middle;\n",
       "    }\n",
       "\n",
       "    .dataframe tbody tr th {\n",
       "        vertical-align: top;\n",
       "    }\n",
       "\n",
       "    .dataframe thead th {\n",
       "        text-align: right;\n",
       "    }\n",
       "</style>\n",
       "<table border=\"1\" class=\"dataframe\">\n",
       "  <thead>\n",
       "    <tr style=\"text-align: right;\">\n",
       "      <th></th>\n",
       "      <th>user_id</th>\n",
       "      <th>month</th>\n",
       "      <th>count_calls</th>\n",
       "      <th>talk_time</th>\n",
       "      <th>mb_used</th>\n",
       "      <th>count_messages</th>\n",
       "    </tr>\n",
       "  </thead>\n",
       "  <tbody>\n",
       "    <tr>\n",
       "      <td>0</td>\n",
       "      <td>1000</td>\n",
       "      <td>5</td>\n",
       "      <td>22.0</td>\n",
       "      <td>159.0</td>\n",
       "      <td>2253.49</td>\n",
       "      <td>22.0</td>\n",
       "    </tr>\n",
       "    <tr>\n",
       "      <td>1</td>\n",
       "      <td>1000</td>\n",
       "      <td>6</td>\n",
       "      <td>43.0</td>\n",
       "      <td>172.0</td>\n",
       "      <td>23233.77</td>\n",
       "      <td>60.0</td>\n",
       "    </tr>\n",
       "    <tr>\n",
       "      <td>2</td>\n",
       "      <td>1000</td>\n",
       "      <td>7</td>\n",
       "      <td>47.0</td>\n",
       "      <td>340.0</td>\n",
       "      <td>14003.64</td>\n",
       "      <td>75.0</td>\n",
       "    </tr>\n",
       "    <tr>\n",
       "      <td>3</td>\n",
       "      <td>1000</td>\n",
       "      <td>8</td>\n",
       "      <td>52.0</td>\n",
       "      <td>408.0</td>\n",
       "      <td>14055.93</td>\n",
       "      <td>81.0</td>\n",
       "    </tr>\n",
       "    <tr>\n",
       "      <td>4</td>\n",
       "      <td>1000</td>\n",
       "      <td>9</td>\n",
       "      <td>58.0</td>\n",
       "      <td>466.0</td>\n",
       "      <td>14568.91</td>\n",
       "      <td>57.0</td>\n",
       "    </tr>\n",
       "  </tbody>\n",
       "</table>\n",
       "</div>"
      ],
      "text/plain": [
       "   user_id  month  count_calls  talk_time   mb_used  count_messages\n",
       "0     1000      5         22.0      159.0   2253.49            22.0\n",
       "1     1000      6         43.0      172.0  23233.77            60.0\n",
       "2     1000      7         47.0      340.0  14003.64            75.0\n",
       "3     1000      8         52.0      408.0  14055.93            81.0\n",
       "4     1000      9         58.0      466.0  14568.91            57.0"
      ]
     },
     "execution_count": 20,
     "metadata": {},
     "output_type": "execute_result"
    }
   ],
   "source": [
    "users_info = calls_g.merge(internet_g, on = ['user_id', 'month'], how = 'outer')\n",
    "users_info = users_info.merge(messages_g, on = ['user_id', 'month'], how = 'outer')\n",
    "users_info.head()"
   ]
  },
  {
   "cell_type": "code",
   "execution_count": 21,
   "metadata": {
    "scrolled": true
   },
   "outputs": [
    {
     "name": "stdout",
     "output_type": "stream",
     "text": [
      "<class 'pandas.core.frame.DataFrame'>\n",
      "Int64Index: 3214 entries, 0 to 3213\n",
      "Data columns (total 6 columns):\n",
      "user_id           3214 non-null int64\n",
      "month             3214 non-null int64\n",
      "count_calls       3174 non-null float64\n",
      "talk_time         3174 non-null float64\n",
      "mb_used           3203 non-null float64\n",
      "count_messages    2717 non-null float64\n",
      "dtypes: float64(4), int64(2)\n",
      "memory usage: 175.8 KB\n"
     ]
    }
   ],
   "source": [
    "users_info.info()"
   ]
  },
  {
   "cell_type": "markdown",
   "metadata": {},
   "source": [
    "Округлим МБ интернет трафика до ГБ, в соответствии с политикой компании в большую сторону."
   ]
  },
  {
   "cell_type": "code",
   "execution_count": 22,
   "metadata": {},
   "outputs": [],
   "source": [
    "def internet_to_gb(mb_used):\n",
    "    if (mb_used % 1024) > 0:\n",
    "        return (mb_used // 1024) + 1\n",
    "    else:\n",
    "        return mb_used // 1024"
   ]
  },
  {
   "cell_type": "code",
   "execution_count": 23,
   "metadata": {},
   "outputs": [
    {
     "data": {
      "text/html": [
       "<div>\n",
       "<style scoped>\n",
       "    .dataframe tbody tr th:only-of-type {\n",
       "        vertical-align: middle;\n",
       "    }\n",
       "\n",
       "    .dataframe tbody tr th {\n",
       "        vertical-align: top;\n",
       "    }\n",
       "\n",
       "    .dataframe thead th {\n",
       "        text-align: right;\n",
       "    }\n",
       "</style>\n",
       "<table border=\"1\" class=\"dataframe\">\n",
       "  <thead>\n",
       "    <tr style=\"text-align: right;\">\n",
       "      <th></th>\n",
       "      <th>user_id</th>\n",
       "      <th>month</th>\n",
       "      <th>count_calls</th>\n",
       "      <th>talk_time</th>\n",
       "      <th>mb_used</th>\n",
       "      <th>count_messages</th>\n",
       "      <th>gb_used</th>\n",
       "    </tr>\n",
       "  </thead>\n",
       "  <tbody>\n",
       "    <tr>\n",
       "      <td>0</td>\n",
       "      <td>1000</td>\n",
       "      <td>5</td>\n",
       "      <td>22.0</td>\n",
       "      <td>159.0</td>\n",
       "      <td>2253.49</td>\n",
       "      <td>22.0</td>\n",
       "      <td>3.0</td>\n",
       "    </tr>\n",
       "    <tr>\n",
       "      <td>1</td>\n",
       "      <td>1000</td>\n",
       "      <td>6</td>\n",
       "      <td>43.0</td>\n",
       "      <td>172.0</td>\n",
       "      <td>23233.77</td>\n",
       "      <td>60.0</td>\n",
       "      <td>23.0</td>\n",
       "    </tr>\n",
       "    <tr>\n",
       "      <td>2</td>\n",
       "      <td>1000</td>\n",
       "      <td>7</td>\n",
       "      <td>47.0</td>\n",
       "      <td>340.0</td>\n",
       "      <td>14003.64</td>\n",
       "      <td>75.0</td>\n",
       "      <td>14.0</td>\n",
       "    </tr>\n",
       "    <tr>\n",
       "      <td>3</td>\n",
       "      <td>1000</td>\n",
       "      <td>8</td>\n",
       "      <td>52.0</td>\n",
       "      <td>408.0</td>\n",
       "      <td>14055.93</td>\n",
       "      <td>81.0</td>\n",
       "      <td>14.0</td>\n",
       "    </tr>\n",
       "    <tr>\n",
       "      <td>4</td>\n",
       "      <td>1000</td>\n",
       "      <td>9</td>\n",
       "      <td>58.0</td>\n",
       "      <td>466.0</td>\n",
       "      <td>14568.91</td>\n",
       "      <td>57.0</td>\n",
       "      <td>15.0</td>\n",
       "    </tr>\n",
       "  </tbody>\n",
       "</table>\n",
       "</div>"
      ],
      "text/plain": [
       "   user_id  month  count_calls  talk_time   mb_used  count_messages  gb_used\n",
       "0     1000      5         22.0      159.0   2253.49            22.0      3.0\n",
       "1     1000      6         43.0      172.0  23233.77            60.0     23.0\n",
       "2     1000      7         47.0      340.0  14003.64            75.0     14.0\n",
       "3     1000      8         52.0      408.0  14055.93            81.0     14.0\n",
       "4     1000      9         58.0      466.0  14568.91            57.0     15.0"
      ]
     },
     "execution_count": 23,
     "metadata": {},
     "output_type": "execute_result"
    }
   ],
   "source": [
    "users_info['gb_used'] = users_info['mb_used'].apply(internet_to_gb)\n",
    "users_info.head()"
   ]
  },
  {
   "cell_type": "markdown",
   "metadata": {},
   "source": [
    "### Поиск ошибок в данных и проверка методом describe( )\n",
    "Далее мы будем работать с таблицами:\n",
    "* `users`\n",
    "* `users_info`\n",
    "* `tariffs`\n",
    "  \n",
    "Остальные таблицы нам не понадобятся."
   ]
  },
  {
   "cell_type": "markdown",
   "metadata": {},
   "source": [
    "Посмотрим на эти таблицы методом describe()."
   ]
  },
  {
   "cell_type": "code",
   "execution_count": 24,
   "metadata": {},
   "outputs": [
    {
     "data": {
      "text/html": [
       "<div>\n",
       "<style scoped>\n",
       "    .dataframe tbody tr th:only-of-type {\n",
       "        vertical-align: middle;\n",
       "    }\n",
       "\n",
       "    .dataframe tbody tr th {\n",
       "        vertical-align: top;\n",
       "    }\n",
       "\n",
       "    .dataframe thead th {\n",
       "        text-align: right;\n",
       "    }\n",
       "</style>\n",
       "<table border=\"1\" class=\"dataframe\">\n",
       "  <thead>\n",
       "    <tr style=\"text-align: right;\">\n",
       "      <th></th>\n",
       "      <th>count</th>\n",
       "      <th>mean</th>\n",
       "      <th>std</th>\n",
       "      <th>min</th>\n",
       "      <th>25%</th>\n",
       "      <th>50%</th>\n",
       "      <th>75%</th>\n",
       "      <th>max</th>\n",
       "    </tr>\n",
       "  </thead>\n",
       "  <tbody>\n",
       "    <tr>\n",
       "      <td>user_id</td>\n",
       "      <td>500.0</td>\n",
       "      <td>1249.500</td>\n",
       "      <td>144.481833</td>\n",
       "      <td>1000.0</td>\n",
       "      <td>1124.75</td>\n",
       "      <td>1249.5</td>\n",
       "      <td>1374.25</td>\n",
       "      <td>1499.0</td>\n",
       "    </tr>\n",
       "    <tr>\n",
       "      <td>age</td>\n",
       "      <td>500.0</td>\n",
       "      <td>46.588</td>\n",
       "      <td>16.667630</td>\n",
       "      <td>18.0</td>\n",
       "      <td>32.00</td>\n",
       "      <td>46.0</td>\n",
       "      <td>62.00</td>\n",
       "      <td>75.0</td>\n",
       "    </tr>\n",
       "  </tbody>\n",
       "</table>\n",
       "</div>"
      ],
      "text/plain": [
       "         count      mean         std     min      25%     50%      75%     max\n",
       "user_id  500.0  1249.500  144.481833  1000.0  1124.75  1249.5  1374.25  1499.0\n",
       "age      500.0    46.588   16.667630    18.0    32.00    46.0    62.00    75.0"
      ]
     },
     "execution_count": 24,
     "metadata": {},
     "output_type": "execute_result"
    }
   ],
   "source": [
    "users.describe().T"
   ]
  },
  {
   "cell_type": "code",
   "execution_count": 25,
   "metadata": {},
   "outputs": [
    {
     "data": {
      "text/html": [
       "<div>\n",
       "<style scoped>\n",
       "    .dataframe tbody tr th:only-of-type {\n",
       "        vertical-align: middle;\n",
       "    }\n",
       "\n",
       "    .dataframe tbody tr th {\n",
       "        vertical-align: top;\n",
       "    }\n",
       "\n",
       "    .dataframe thead th {\n",
       "        text-align: right;\n",
       "    }\n",
       "</style>\n",
       "<table border=\"1\" class=\"dataframe\">\n",
       "  <thead>\n",
       "    <tr style=\"text-align: right;\">\n",
       "      <th></th>\n",
       "      <th>count</th>\n",
       "      <th>mean</th>\n",
       "      <th>std</th>\n",
       "      <th>min</th>\n",
       "      <th>25%</th>\n",
       "      <th>50%</th>\n",
       "      <th>75%</th>\n",
       "      <th>max</th>\n",
       "    </tr>\n",
       "  </thead>\n",
       "  <tbody>\n",
       "    <tr>\n",
       "      <td>user_id</td>\n",
       "      <td>3214.0</td>\n",
       "      <td>1251.590230</td>\n",
       "      <td>144.659172</td>\n",
       "      <td>1000.0</td>\n",
       "      <td>1125.000</td>\n",
       "      <td>1253.00</td>\n",
       "      <td>1378.750</td>\n",
       "      <td>1499.00</td>\n",
       "    </tr>\n",
       "    <tr>\n",
       "      <td>month</td>\n",
       "      <td>3214.0</td>\n",
       "      <td>8.317362</td>\n",
       "      <td>2.905413</td>\n",
       "      <td>1.0</td>\n",
       "      <td>6.000</td>\n",
       "      <td>9.00</td>\n",
       "      <td>11.000</td>\n",
       "      <td>12.00</td>\n",
       "    </tr>\n",
       "    <tr>\n",
       "      <td>count_calls</td>\n",
       "      <td>3174.0</td>\n",
       "      <td>63.833333</td>\n",
       "      <td>32.678036</td>\n",
       "      <td>1.0</td>\n",
       "      <td>41.000</td>\n",
       "      <td>63.00</td>\n",
       "      <td>83.000</td>\n",
       "      <td>244.00</td>\n",
       "    </tr>\n",
       "    <tr>\n",
       "      <td>talk_time</td>\n",
       "      <td>3174.0</td>\n",
       "      <td>456.931632</td>\n",
       "      <td>238.031270</td>\n",
       "      <td>0.0</td>\n",
       "      <td>290.000</td>\n",
       "      <td>447.00</td>\n",
       "      <td>592.000</td>\n",
       "      <td>1673.00</td>\n",
       "    </tr>\n",
       "    <tr>\n",
       "      <td>mb_used</td>\n",
       "      <td>3203.0</td>\n",
       "      <td>17266.708626</td>\n",
       "      <td>7516.356902</td>\n",
       "      <td>0.0</td>\n",
       "      <td>12526.905</td>\n",
       "      <td>16963.11</td>\n",
       "      <td>21432.175</td>\n",
       "      <td>49745.69</td>\n",
       "    </tr>\n",
       "    <tr>\n",
       "      <td>count_messages</td>\n",
       "      <td>2717.0</td>\n",
       "      <td>45.283769</td>\n",
       "      <td>35.051363</td>\n",
       "      <td>1.0</td>\n",
       "      <td>19.000</td>\n",
       "      <td>38.00</td>\n",
       "      <td>63.000</td>\n",
       "      <td>224.00</td>\n",
       "    </tr>\n",
       "    <tr>\n",
       "      <td>gb_used</td>\n",
       "      <td>3203.0</td>\n",
       "      <td>17.358414</td>\n",
       "      <td>7.343379</td>\n",
       "      <td>0.0</td>\n",
       "      <td>13.000</td>\n",
       "      <td>17.00</td>\n",
       "      <td>21.000</td>\n",
       "      <td>49.00</td>\n",
       "    </tr>\n",
       "  </tbody>\n",
       "</table>\n",
       "</div>"
      ],
      "text/plain": [
       "                 count          mean          std     min        25%  \\\n",
       "user_id         3214.0   1251.590230   144.659172  1000.0   1125.000   \n",
       "month           3214.0      8.317362     2.905413     1.0      6.000   \n",
       "count_calls     3174.0     63.833333    32.678036     1.0     41.000   \n",
       "talk_time       3174.0    456.931632   238.031270     0.0    290.000   \n",
       "mb_used         3203.0  17266.708626  7516.356902     0.0  12526.905   \n",
       "count_messages  2717.0     45.283769    35.051363     1.0     19.000   \n",
       "gb_used         3203.0     17.358414     7.343379     0.0     13.000   \n",
       "\n",
       "                     50%        75%       max  \n",
       "user_id          1253.00   1378.750   1499.00  \n",
       "month               9.00     11.000     12.00  \n",
       "count_calls        63.00     83.000    244.00  \n",
       "talk_time         447.00    592.000   1673.00  \n",
       "mb_used         16963.11  21432.175  49745.69  \n",
       "count_messages     38.00     63.000    224.00  \n",
       "gb_used            17.00     21.000     49.00  "
      ]
     },
     "execution_count": 25,
     "metadata": {},
     "output_type": "execute_result"
    }
   ],
   "source": [
    "users_info.describe().T"
   ]
  },
  {
   "cell_type": "code",
   "execution_count": 26,
   "metadata": {},
   "outputs": [
    {
     "data": {
      "text/html": [
       "<div>\n",
       "<style scoped>\n",
       "    .dataframe tbody tr th:only-of-type {\n",
       "        vertical-align: middle;\n",
       "    }\n",
       "\n",
       "    .dataframe tbody tr th {\n",
       "        vertical-align: top;\n",
       "    }\n",
       "\n",
       "    .dataframe thead th {\n",
       "        text-align: right;\n",
       "    }\n",
       "</style>\n",
       "<table border=\"1\" class=\"dataframe\">\n",
       "  <thead>\n",
       "    <tr style=\"text-align: right;\">\n",
       "      <th></th>\n",
       "      <th>count</th>\n",
       "      <th>mean</th>\n",
       "      <th>std</th>\n",
       "      <th>min</th>\n",
       "      <th>25%</th>\n",
       "      <th>50%</th>\n",
       "      <th>75%</th>\n",
       "      <th>max</th>\n",
       "    </tr>\n",
       "  </thead>\n",
       "  <tbody>\n",
       "    <tr>\n",
       "      <td>messages_included</td>\n",
       "      <td>2.0</td>\n",
       "      <td>525.0</td>\n",
       "      <td>671.751442</td>\n",
       "      <td>50.0</td>\n",
       "      <td>287.5</td>\n",
       "      <td>525.0</td>\n",
       "      <td>762.5</td>\n",
       "      <td>1000.0</td>\n",
       "    </tr>\n",
       "    <tr>\n",
       "      <td>mb_per_month_included</td>\n",
       "      <td>2.0</td>\n",
       "      <td>23040.0</td>\n",
       "      <td>10861.160159</td>\n",
       "      <td>15360.0</td>\n",
       "      <td>19200.0</td>\n",
       "      <td>23040.0</td>\n",
       "      <td>26880.0</td>\n",
       "      <td>30720.0</td>\n",
       "    </tr>\n",
       "    <tr>\n",
       "      <td>minutes_included</td>\n",
       "      <td>2.0</td>\n",
       "      <td>1750.0</td>\n",
       "      <td>1767.766953</td>\n",
       "      <td>500.0</td>\n",
       "      <td>1125.0</td>\n",
       "      <td>1750.0</td>\n",
       "      <td>2375.0</td>\n",
       "      <td>3000.0</td>\n",
       "    </tr>\n",
       "    <tr>\n",
       "      <td>rub_monthly_fee</td>\n",
       "      <td>2.0</td>\n",
       "      <td>1250.0</td>\n",
       "      <td>989.949494</td>\n",
       "      <td>550.0</td>\n",
       "      <td>900.0</td>\n",
       "      <td>1250.0</td>\n",
       "      <td>1600.0</td>\n",
       "      <td>1950.0</td>\n",
       "    </tr>\n",
       "    <tr>\n",
       "      <td>rub_per_gb</td>\n",
       "      <td>2.0</td>\n",
       "      <td>175.0</td>\n",
       "      <td>35.355339</td>\n",
       "      <td>150.0</td>\n",
       "      <td>162.5</td>\n",
       "      <td>175.0</td>\n",
       "      <td>187.5</td>\n",
       "      <td>200.0</td>\n",
       "    </tr>\n",
       "    <tr>\n",
       "      <td>rub_per_message</td>\n",
       "      <td>2.0</td>\n",
       "      <td>2.0</td>\n",
       "      <td>1.414214</td>\n",
       "      <td>1.0</td>\n",
       "      <td>1.5</td>\n",
       "      <td>2.0</td>\n",
       "      <td>2.5</td>\n",
       "      <td>3.0</td>\n",
       "    </tr>\n",
       "    <tr>\n",
       "      <td>rub_per_minute</td>\n",
       "      <td>2.0</td>\n",
       "      <td>2.0</td>\n",
       "      <td>1.414214</td>\n",
       "      <td>1.0</td>\n",
       "      <td>1.5</td>\n",
       "      <td>2.0</td>\n",
       "      <td>2.5</td>\n",
       "      <td>3.0</td>\n",
       "    </tr>\n",
       "  </tbody>\n",
       "</table>\n",
       "</div>"
      ],
      "text/plain": [
       "                       count     mean           std      min      25%  \\\n",
       "messages_included        2.0    525.0    671.751442     50.0    287.5   \n",
       "mb_per_month_included    2.0  23040.0  10861.160159  15360.0  19200.0   \n",
       "minutes_included         2.0   1750.0   1767.766953    500.0   1125.0   \n",
       "rub_monthly_fee          2.0   1250.0    989.949494    550.0    900.0   \n",
       "rub_per_gb               2.0    175.0     35.355339    150.0    162.5   \n",
       "rub_per_message          2.0      2.0      1.414214      1.0      1.5   \n",
       "rub_per_minute           2.0      2.0      1.414214      1.0      1.5   \n",
       "\n",
       "                           50%      75%      max  \n",
       "messages_included        525.0    762.5   1000.0  \n",
       "mb_per_month_included  23040.0  26880.0  30720.0  \n",
       "minutes_included        1750.0   2375.0   3000.0  \n",
       "rub_monthly_fee         1250.0   1600.0   1950.0  \n",
       "rub_per_gb               175.0    187.5    200.0  \n",
       "rub_per_message            2.0      2.5      3.0  \n",
       "rub_per_minute             2.0      2.5      3.0  "
      ]
     },
     "execution_count": 26,
     "metadata": {},
     "output_type": "execute_result"
    }
   ],
   "source": [
    "tariffs.describe().T"
   ]
  },
  {
   "cell_type": "markdown",
   "metadata": {},
   "source": [
    "#### Краткие выводы\n",
    "* Таблица `users` выглядит нормально.\n",
    "* Таблица `users_info` требует доработки, у некоторых пользователей отсутствуют значения в данных. Нули в данных о времени разговора и мб интернета говорят о том, что пользователь не пользовался данной услугой: либо не дозвонился, либо не подключился к интернету.\n",
    "* Таблица `tariffs` выглядит нормально."
   ]
  },
  {
   "cell_type": "markdown",
   "metadata": {},
   "source": [
    "#### Заполним пустые значения в таблице `users_info`.\n",
    "Учитывая, что мы объединяли таблицы, вполне допустимо, что данные по некоторым пользователям отсутствовали, по причине их неактивности в заданном сегменте услуг. Заполним эти значения нулями. "
   ]
  },
  {
   "cell_type": "code",
   "execution_count": 27,
   "metadata": {},
   "outputs": [
    {
     "name": "stdout",
     "output_type": "stream",
     "text": [
      "<class 'pandas.core.frame.DataFrame'>\n",
      "Int64Index: 3214 entries, 0 to 3213\n",
      "Data columns (total 7 columns):\n",
      "user_id           3214 non-null int64\n",
      "month             3214 non-null int64\n",
      "count_calls       3214 non-null float64\n",
      "talk_time         3214 non-null float64\n",
      "mb_used           3214 non-null float64\n",
      "count_messages    3214 non-null float64\n",
      "gb_used           3214 non-null float64\n",
      "dtypes: float64(5), int64(2)\n",
      "memory usage: 200.9 KB\n"
     ]
    }
   ],
   "source": [
    "users_info = users_info.fillna(0)\n",
    "users_info.info()"
   ]
  },
  {
   "cell_type": "markdown",
   "metadata": {},
   "source": [
    "#### Проверим значения, указанные в таблице `users`.\n",
    "В первую очередь нас интересуют города и тарифные планы."
   ]
  },
  {
   "cell_type": "code",
   "execution_count": 28,
   "metadata": {
    "scrolled": false
   },
   "outputs": [
    {
     "data": {
      "text/html": [
       "<div>\n",
       "<style scoped>\n",
       "    .dataframe tbody tr th:only-of-type {\n",
       "        vertical-align: middle;\n",
       "    }\n",
       "\n",
       "    .dataframe tbody tr th {\n",
       "        vertical-align: top;\n",
       "    }\n",
       "\n",
       "    .dataframe thead th {\n",
       "        text-align: right;\n",
       "    }\n",
       "</style>\n",
       "<table border=\"1\" class=\"dataframe\">\n",
       "  <thead>\n",
       "    <tr style=\"text-align: right;\">\n",
       "      <th></th>\n",
       "      <th>user_id</th>\n",
       "      <th>age</th>\n",
       "      <th>churn_date</th>\n",
       "      <th>city</th>\n",
       "      <th>first_name</th>\n",
       "      <th>last_name</th>\n",
       "      <th>reg_date</th>\n",
       "      <th>tariff</th>\n",
       "    </tr>\n",
       "  </thead>\n",
       "  <tbody>\n",
       "    <tr>\n",
       "      <td>0</td>\n",
       "      <td>1000</td>\n",
       "      <td>52</td>\n",
       "      <td>NaN</td>\n",
       "      <td>Краснодар</td>\n",
       "      <td>Рафаил</td>\n",
       "      <td>Верещагин</td>\n",
       "      <td>2018-05-25</td>\n",
       "      <td>ultra</td>\n",
       "    </tr>\n",
       "    <tr>\n",
       "      <td>1</td>\n",
       "      <td>1001</td>\n",
       "      <td>41</td>\n",
       "      <td>NaN</td>\n",
       "      <td>Москва</td>\n",
       "      <td>Иван</td>\n",
       "      <td>Ежов</td>\n",
       "      <td>2018-11-01</td>\n",
       "      <td>smart</td>\n",
       "    </tr>\n",
       "    <tr>\n",
       "      <td>2</td>\n",
       "      <td>1002</td>\n",
       "      <td>59</td>\n",
       "      <td>NaN</td>\n",
       "      <td>Стерлитамак</td>\n",
       "      <td>Евгений</td>\n",
       "      <td>Абрамович</td>\n",
       "      <td>2018-06-17</td>\n",
       "      <td>smart</td>\n",
       "    </tr>\n",
       "    <tr>\n",
       "      <td>3</td>\n",
       "      <td>1003</td>\n",
       "      <td>23</td>\n",
       "      <td>NaN</td>\n",
       "      <td>Москва</td>\n",
       "      <td>Белла</td>\n",
       "      <td>Белякова</td>\n",
       "      <td>2018-08-17</td>\n",
       "      <td>ultra</td>\n",
       "    </tr>\n",
       "    <tr>\n",
       "      <td>4</td>\n",
       "      <td>1004</td>\n",
       "      <td>68</td>\n",
       "      <td>NaN</td>\n",
       "      <td>Новокузнецк</td>\n",
       "      <td>Татьяна</td>\n",
       "      <td>Авдеенко</td>\n",
       "      <td>2018-05-14</td>\n",
       "      <td>ultra</td>\n",
       "    </tr>\n",
       "  </tbody>\n",
       "</table>\n",
       "</div>"
      ],
      "text/plain": [
       "   user_id  age churn_date         city first_name  last_name    reg_date  \\\n",
       "0     1000   52        NaN    Краснодар     Рафаил  Верещагин  2018-05-25   \n",
       "1     1001   41        NaN       Москва       Иван       Ежов  2018-11-01   \n",
       "2     1002   59        NaN  Стерлитамак    Евгений  Абрамович  2018-06-17   \n",
       "3     1003   23        NaN       Москва      Белла   Белякова  2018-08-17   \n",
       "4     1004   68        NaN  Новокузнецк    Татьяна   Авдеенко  2018-05-14   \n",
       "\n",
       "  tariff  \n",
       "0  ultra  \n",
       "1  smart  \n",
       "2  smart  \n",
       "3  ultra  \n",
       "4  ultra  "
      ]
     },
     "execution_count": 28,
     "metadata": {},
     "output_type": "execute_result"
    }
   ],
   "source": [
    "users.head()"
   ]
  },
  {
   "cell_type": "code",
   "execution_count": 29,
   "metadata": {
    "scrolled": true
   },
   "outputs": [
    {
     "data": {
      "text/plain": [
       "array(['Краснодар', 'Москва', 'Стерлитамак', 'Новокузнецк',\n",
       "       'Набережные Челны', 'Ульяновск', 'Челябинск', 'Пермь', 'Тюмень',\n",
       "       'Самара', 'Санкт-Петербург', 'Иваново', 'Чебоксары', 'Омск', 'Уфа',\n",
       "       'Томск', 'Чита', 'Мурманск', 'Петрозаводск', 'Тверь',\n",
       "       'Екатеринбург', 'Махачкала', 'Вологда', 'Череповец', 'Ярославль',\n",
       "       'Сочи', 'Хабаровск', 'Ставрополь', 'Рязань', 'Улан-Удэ', 'Тула',\n",
       "       'Саратов', 'Ростов-на-Дону', 'Казань', 'Иркутск', 'Курск',\n",
       "       'Калуга', 'Якутск', 'Астрахань', 'Химки', 'Владикавказ',\n",
       "       'Волгоград', 'Саранск', 'Ижевск', 'Новосибирск', 'Брянск',\n",
       "       'Тольятти', 'Нижний Тагил', 'Орёл', 'Белгород', 'Воронеж',\n",
       "       'Волжский', 'Курган', 'Барнаул', 'Красноярск', 'Архангельск',\n",
       "       'Липецк', 'Кемерово', 'Киров', 'Сургут', 'Пенза', 'Магнитогорск',\n",
       "       'Нижний Новгород', 'Кострома', 'Владивосток', 'Тамбов', 'Балашиха',\n",
       "       'Севастополь', 'Калининград', 'Оренбург', 'Смоленск',\n",
       "       'Нижневартовск', 'Владимир', 'Новороссийск', 'Грозный', 'Подольск'],\n",
       "      dtype=object)"
      ]
     },
     "execution_count": 29,
     "metadata": {},
     "output_type": "execute_result"
    }
   ],
   "source": [
    "users.city.unique()"
   ]
  },
  {
   "cell_type": "code",
   "execution_count": 30,
   "metadata": {},
   "outputs": [
    {
     "data": {
      "text/plain": [
       "array(['ultra', 'smart'], dtype=object)"
      ]
     },
     "execution_count": 30,
     "metadata": {},
     "output_type": "execute_result"
    }
   ],
   "source": [
    "users.tariff.unique()"
   ]
  },
  {
   "cell_type": "markdown",
   "metadata": {},
   "source": [
    "Все выглядит нормально."
   ]
  },
  {
   "cell_type": "markdown",
   "metadata": {},
   "source": [
    "### Дополнительные проверки"
   ]
  },
  {
   "cell_type": "markdown",
   "metadata": {},
   "source": [
    "#### Дата оттока всегда позже даты регистрации"
   ]
  },
  {
   "cell_type": "code",
   "execution_count": 31,
   "metadata": {},
   "outputs": [
    {
     "data": {
      "text/html": [
       "<div>\n",
       "<style scoped>\n",
       "    .dataframe tbody tr th:only-of-type {\n",
       "        vertical-align: middle;\n",
       "    }\n",
       "\n",
       "    .dataframe tbody tr th {\n",
       "        vertical-align: top;\n",
       "    }\n",
       "\n",
       "    .dataframe thead th {\n",
       "        text-align: right;\n",
       "    }\n",
       "</style>\n",
       "<table border=\"1\" class=\"dataframe\">\n",
       "  <thead>\n",
       "    <tr style=\"text-align: right;\">\n",
       "      <th></th>\n",
       "      <th>user_id</th>\n",
       "      <th>age</th>\n",
       "      <th>churn_date</th>\n",
       "      <th>city</th>\n",
       "      <th>first_name</th>\n",
       "      <th>last_name</th>\n",
       "      <th>reg_date</th>\n",
       "      <th>tariff</th>\n",
       "    </tr>\n",
       "  </thead>\n",
       "  <tbody>\n",
       "    <tr>\n",
       "      <td>0</td>\n",
       "      <td>1000</td>\n",
       "      <td>52</td>\n",
       "      <td>NaN</td>\n",
       "      <td>Краснодар</td>\n",
       "      <td>Рафаил</td>\n",
       "      <td>Верещагин</td>\n",
       "      <td>2018-05-25</td>\n",
       "      <td>ultra</td>\n",
       "    </tr>\n",
       "    <tr>\n",
       "      <td>1</td>\n",
       "      <td>1001</td>\n",
       "      <td>41</td>\n",
       "      <td>NaN</td>\n",
       "      <td>Москва</td>\n",
       "      <td>Иван</td>\n",
       "      <td>Ежов</td>\n",
       "      <td>2018-11-01</td>\n",
       "      <td>smart</td>\n",
       "    </tr>\n",
       "    <tr>\n",
       "      <td>2</td>\n",
       "      <td>1002</td>\n",
       "      <td>59</td>\n",
       "      <td>NaN</td>\n",
       "      <td>Стерлитамак</td>\n",
       "      <td>Евгений</td>\n",
       "      <td>Абрамович</td>\n",
       "      <td>2018-06-17</td>\n",
       "      <td>smart</td>\n",
       "    </tr>\n",
       "    <tr>\n",
       "      <td>3</td>\n",
       "      <td>1003</td>\n",
       "      <td>23</td>\n",
       "      <td>NaN</td>\n",
       "      <td>Москва</td>\n",
       "      <td>Белла</td>\n",
       "      <td>Белякова</td>\n",
       "      <td>2018-08-17</td>\n",
       "      <td>ultra</td>\n",
       "    </tr>\n",
       "    <tr>\n",
       "      <td>4</td>\n",
       "      <td>1004</td>\n",
       "      <td>68</td>\n",
       "      <td>NaN</td>\n",
       "      <td>Новокузнецк</td>\n",
       "      <td>Татьяна</td>\n",
       "      <td>Авдеенко</td>\n",
       "      <td>2018-05-14</td>\n",
       "      <td>ultra</td>\n",
       "    </tr>\n",
       "  </tbody>\n",
       "</table>\n",
       "</div>"
      ],
      "text/plain": [
       "   user_id  age churn_date         city first_name  last_name    reg_date  \\\n",
       "0     1000   52        NaN    Краснодар     Рафаил  Верещагин  2018-05-25   \n",
       "1     1001   41        NaN       Москва       Иван       Ежов  2018-11-01   \n",
       "2     1002   59        NaN  Стерлитамак    Евгений  Абрамович  2018-06-17   \n",
       "3     1003   23        NaN       Москва      Белла   Белякова  2018-08-17   \n",
       "4     1004   68        NaN  Новокузнецк    Татьяна   Авдеенко  2018-05-14   \n",
       "\n",
       "  tariff  \n",
       "0  ultra  \n",
       "1  smart  \n",
       "2  smart  \n",
       "3  ultra  \n",
       "4  ultra  "
      ]
     },
     "execution_count": 31,
     "metadata": {},
     "output_type": "execute_result"
    }
   ],
   "source": [
    "users.head()"
   ]
  },
  {
   "cell_type": "code",
   "execution_count": 69,
   "metadata": {},
   "outputs": [
    {
     "name": "stdout",
     "output_type": "stream",
     "text": [
      "datetime64[ns]\n"
     ]
    }
   ],
   "source": [
    "users['churn_date'] = pd.to_datetime(users['churn_date'], format='%Y-%m-%d')\n",
    "print(users.churn_date.dtype)"
   ]
  },
  {
   "cell_type": "code",
   "execution_count": 70,
   "metadata": {},
   "outputs": [
    {
     "name": "stdout",
     "output_type": "stream",
     "text": [
      "datetime64[ns]\n"
     ]
    }
   ],
   "source": [
    "users['reg_date'] = pd.to_datetime(users['reg_date'], format='%Y-%m-%d')\n",
    "print(users.reg_date.dtype)"
   ]
  },
  {
   "cell_type": "code",
   "execution_count": 66,
   "metadata": {},
   "outputs": [
    {
     "data": {
      "text/plain": [
       "0"
      ]
     },
     "execution_count": 66,
     "metadata": {},
     "output_type": "execute_result"
    }
   ],
   "source": [
    "users[users['reg_date'] > users['churn_date']]['user_id'].count()"
   ]
  },
  {
   "cell_type": "markdown",
   "metadata": {},
   "source": [
    "#### Нет действий пользователя до регистрации"
   ]
  },
  {
   "cell_type": "code",
   "execution_count": 85,
   "metadata": {},
   "outputs": [
    {
     "data": {
      "text/plain": [
       "0"
      ]
     },
     "execution_count": 85,
     "metadata": {},
     "output_type": "execute_result"
    }
   ],
   "source": [
    "calls_reg_date = calls.merge(users[['user_id', 'reg_date']], on = ['user_id'])\n",
    "calls_reg_date['call_date'] = pd.to_datetime(calls_reg_date['call_date'], format='%Y-%m-%d')\n",
    "calls_reg_date[calls_reg_date['reg_date'] > calls_reg_date['call_date']]['user_id'].count()"
   ]
  },
  {
   "cell_type": "code",
   "execution_count": 87,
   "metadata": {},
   "outputs": [
    {
     "data": {
      "text/plain": [
       "0"
      ]
     },
     "execution_count": 87,
     "metadata": {},
     "output_type": "execute_result"
    }
   ],
   "source": [
    "internet_reg_date = internet.merge(users[['user_id', 'reg_date']], on = ['user_id'])\n",
    "internet_reg_date['session_date'] = pd.to_datetime(internet_reg_date['session_date'], format='%Y-%m-%d')\n",
    "internet_reg_date[internet_reg_date['reg_date'] > internet_reg_date['session_date']]['user_id'].count()"
   ]
  },
  {
   "cell_type": "code",
   "execution_count": 89,
   "metadata": {},
   "outputs": [
    {
     "data": {
      "text/plain": [
       "0"
      ]
     },
     "execution_count": 89,
     "metadata": {},
     "output_type": "execute_result"
    }
   ],
   "source": [
    "messages_reg_date = messages.merge(users[['user_id', 'reg_date']], on = ['user_id'])\n",
    "messages_reg_date['message_date'] = pd.to_datetime(messages_reg_date['message_date'], format='%Y-%m-%d')\n",
    "messages_reg_date[messages_reg_date['reg_date'] > messages_reg_date['message_date']]['user_id'].count()"
   ]
  },
  {
   "cell_type": "markdown",
   "metadata": {},
   "source": [
    "Можно было бы написать функцию, но так быстрее и дальше она не пригодится."
   ]
  },
  {
   "cell_type": "markdown",
   "metadata": {},
   "source": [
    "#### Нет действий пользователя после оттока"
   ]
  },
  {
   "cell_type": "code",
   "execution_count": 95,
   "metadata": {},
   "outputs": [
    {
     "data": {
      "text/plain": [
       "0"
      ]
     },
     "execution_count": 95,
     "metadata": {},
     "output_type": "execute_result"
    }
   ],
   "source": [
    "calls_churn_date = calls.merge(users[['user_id', 'churn_date']], on = ['user_id'])\n",
    "calls_churn_date['call_date'] = pd.to_datetime(calls_churn_date['call_date'], format='%Y-%m-%d')\n",
    "calls_churn_date[calls_churn_date['churn_date'] < calls_churn_date['call_date']]['user_id'].count()"
   ]
  },
  {
   "cell_type": "code",
   "execution_count": 92,
   "metadata": {},
   "outputs": [
    {
     "data": {
      "text/plain": [
       "0"
      ]
     },
     "execution_count": 92,
     "metadata": {},
     "output_type": "execute_result"
    }
   ],
   "source": [
    "internet_churn_date = internet.merge(users[['user_id', 'churn_date']], on = ['user_id'])\n",
    "internet_churn_date['session_date'] = pd.to_datetime(internet_churn_date['session_date'], format='%Y-%m-%d')\n",
    "internet_churn_date[internet_churn_date['churn_date'] < internet_churn_date['session_date']]['user_id'].count()"
   ]
  },
  {
   "cell_type": "code",
   "execution_count": 93,
   "metadata": {},
   "outputs": [
    {
     "data": {
      "text/plain": [
       "0"
      ]
     },
     "execution_count": 93,
     "metadata": {},
     "output_type": "execute_result"
    }
   ],
   "source": [
    "messages_churn_date = messages.merge(users[['user_id', 'churn_date']], on = ['user_id'])\n",
    "messages_churn_date['message_date'] = pd.to_datetime(messages_churn_date['message_date'], format='%Y-%m-%d')\n",
    "messages_churn_date[messages_churn_date['churn_date'] < messages_churn_date['message_date']]['user_id'].count()"
   ]
  },
  {
   "cell_type": "markdown",
   "metadata": {},
   "source": [
    "Можно было бы сразу добавить и дату регистрации и дату отключения в звонки и делать проверки сразу на все.  \n",
    "Но я только сейчас до этого додумался, а в рамках этого маленького проекта такая оптимизация не играет большой роли."
   ]
  },
  {
   "cell_type": "markdown",
   "metadata": {},
   "source": [
    "### Проверка дубликатов\n",
    "На всякий случай проверим дубликаты."
   ]
  },
  {
   "cell_type": "code",
   "execution_count": 32,
   "metadata": {},
   "outputs": [
    {
     "data": {
      "text/plain": [
       "0"
      ]
     },
     "execution_count": 32,
     "metadata": {},
     "output_type": "execute_result"
    }
   ],
   "source": [
    "users.duplicated().sum()"
   ]
  },
  {
   "cell_type": "code",
   "execution_count": 33,
   "metadata": {},
   "outputs": [
    {
     "data": {
      "text/plain": [
       "0"
      ]
     },
     "execution_count": 33,
     "metadata": {},
     "output_type": "execute_result"
    }
   ],
   "source": [
    "users_info.duplicated().sum()"
   ]
  },
  {
   "cell_type": "markdown",
   "metadata": {},
   "source": [
    "### Проверка диапазона данных\n",
    "Проверим данные пользователей на слишком высокие значения. В рамках исследования они могут помешать нам исследовать предпочтения пользователей. Для этого воспользуемся функцией из одного из прошлых проектов."
   ]
  },
  {
   "cell_type": "code",
   "execution_count": 34,
   "metadata": {},
   "outputs": [],
   "source": [
    "def rare_values(df):\n",
    "    numerics = (['int8', 'int16', 'int32', 'int64', \n",
    "                 'uint8', 'uint16', 'uint32', 'uint64',\n",
    "                 'float16', 'float32', 'float64'])\n",
    "    df_test = df.select_dtypes(include=numerics)\n",
    "    for col in df_test.columns:\n",
    "        q1 = df_test[col].quantile(0.25)\n",
    "        q3 = df_test[col].quantile(0.75)\n",
    "        iqr = q3 - q1\n",
    "        bot_border = q1 - iqr*1.5\n",
    "        top_border = q3 + iqr*1.5\n",
    "        rare_values_bot = df.query(f'{col} < @bot_border')[col].count()\n",
    "        rare_values_top = df.query(f'{col} > @top_border')[col].count()\n",
    "        print (f'Колонка - {col}\\n'\n",
    "                f'Первый квартиль = {q1}, Третий квартиль = {q3}\\n'\n",
    "                f'Нижняя граница = {bot_border}, Верхняя граница = {top_border}\\n'\n",
    "                f'Редкие значения меньше нижней границы = {rare_values_bot}\\n'\n",
    "                f'Редкие значения больше верхней границы = {rare_values_top}\\n'\n",
    "               )"
   ]
  },
  {
   "cell_type": "code",
   "execution_count": 35,
   "metadata": {},
   "outputs": [
    {
     "name": "stdout",
     "output_type": "stream",
     "text": [
      "Колонка - talk_time\n",
      "Первый квартиль = 282.0, Третий квартиль = 589.0\n",
      "Нижняя граница = -178.5, Верхняя граница = 1049.5\n",
      "Редкие значения меньше нижней границы = 0\n",
      "Редкие значения больше верхней границы = 63\n",
      "\n",
      "Колонка - mb_used\n",
      "Первый квартиль = 12491.89, Третий квартиль = 21424.624999999996\n",
      "Нижняя граница = -907.212499999996, Верхняя граница = 34823.72749999999\n",
      "Редкие значения меньше нижней границы = 0\n",
      "Редкие значения больше верхней границы = 77\n",
      "\n",
      "Колонка - count_messages\n",
      "Первый квартиль = 9.0, Третий квартиль = 57.0\n",
      "Нижняя граница = -63.0, Верхняя граница = 129.0\n",
      "Редкие значения меньше нижней границы = 0\n",
      "Редкие значения больше верхней границы = 91\n",
      "\n"
     ]
    }
   ],
   "source": [
    "rare_values(users_info[['talk_time', 'mb_used', 'count_messages']])"
   ]
  },
  {
   "cell_type": "markdown",
   "metadata": {},
   "source": [
    "Выходящих за общие рамки значений не так много, поэтому уберем их на всякий случай."
   ]
  },
  {
   "cell_type": "code",
   "execution_count": 36,
   "metadata": {},
   "outputs": [],
   "source": [
    "users_info = users_info[users_info['talk_time'] <= 1050]\n",
    "users_info = users_info[users_info['mb_used'] <= 34824]                        \n",
    "users_info = users_info[users_info['count_messages'] <= 129]"
   ]
  },
  {
   "cell_type": "code",
   "execution_count": 37,
   "metadata": {},
   "outputs": [
    {
     "data": {
      "text/html": [
       "<div>\n",
       "<style scoped>\n",
       "    .dataframe tbody tr th:only-of-type {\n",
       "        vertical-align: middle;\n",
       "    }\n",
       "\n",
       "    .dataframe tbody tr th {\n",
       "        vertical-align: top;\n",
       "    }\n",
       "\n",
       "    .dataframe thead th {\n",
       "        text-align: right;\n",
       "    }\n",
       "</style>\n",
       "<table border=\"1\" class=\"dataframe\">\n",
       "  <thead>\n",
       "    <tr style=\"text-align: right;\">\n",
       "      <th></th>\n",
       "      <th>count</th>\n",
       "      <th>mean</th>\n",
       "      <th>std</th>\n",
       "      <th>min</th>\n",
       "      <th>25%</th>\n",
       "      <th>50%</th>\n",
       "      <th>75%</th>\n",
       "      <th>max</th>\n",
       "    </tr>\n",
       "  </thead>\n",
       "  <tbody>\n",
       "    <tr>\n",
       "      <td>user_id</td>\n",
       "      <td>3012.0</td>\n",
       "      <td>1251.886786</td>\n",
       "      <td>145.953381</td>\n",
       "      <td>1000.0</td>\n",
       "      <td>1122.75</td>\n",
       "      <td>1251.000</td>\n",
       "      <td>1382.00</td>\n",
       "      <td>1499.00</td>\n",
       "    </tr>\n",
       "    <tr>\n",
       "      <td>month</td>\n",
       "      <td>3012.0</td>\n",
       "      <td>8.260956</td>\n",
       "      <td>2.921359</td>\n",
       "      <td>1.0</td>\n",
       "      <td>6.00</td>\n",
       "      <td>9.000</td>\n",
       "      <td>11.00</td>\n",
       "      <td>12.00</td>\n",
       "    </tr>\n",
       "    <tr>\n",
       "      <td>count_calls</td>\n",
       "      <td>3012.0</td>\n",
       "      <td>60.599270</td>\n",
       "      <td>29.338434</td>\n",
       "      <td>0.0</td>\n",
       "      <td>40.00</td>\n",
       "      <td>61.000</td>\n",
       "      <td>80.00</td>\n",
       "      <td>165.00</td>\n",
       "    </tr>\n",
       "    <tr>\n",
       "      <td>talk_time</td>\n",
       "      <td>3012.0</td>\n",
       "      <td>433.510624</td>\n",
       "      <td>213.348154</td>\n",
       "      <td>0.0</td>\n",
       "      <td>281.00</td>\n",
       "      <td>437.000</td>\n",
       "      <td>570.25</td>\n",
       "      <td>1045.00</td>\n",
       "    </tr>\n",
       "    <tr>\n",
       "      <td>mb_used</td>\n",
       "      <td>3012.0</td>\n",
       "      <td>16476.040435</td>\n",
       "      <td>6693.070387</td>\n",
       "      <td>0.0</td>\n",
       "      <td>12272.17</td>\n",
       "      <td>16618.955</td>\n",
       "      <td>20812.66</td>\n",
       "      <td>34709.11</td>\n",
       "    </tr>\n",
       "    <tr>\n",
       "      <td>count_messages</td>\n",
       "      <td>3012.0</td>\n",
       "      <td>34.752988</td>\n",
       "      <td>30.196996</td>\n",
       "      <td>0.0</td>\n",
       "      <td>9.00</td>\n",
       "      <td>29.000</td>\n",
       "      <td>54.00</td>\n",
       "      <td>129.00</td>\n",
       "    </tr>\n",
       "    <tr>\n",
       "      <td>gb_used</td>\n",
       "      <td>3012.0</td>\n",
       "      <td>16.583997</td>\n",
       "      <td>6.541586</td>\n",
       "      <td>0.0</td>\n",
       "      <td>12.00</td>\n",
       "      <td>17.000</td>\n",
       "      <td>21.00</td>\n",
       "      <td>34.00</td>\n",
       "    </tr>\n",
       "  </tbody>\n",
       "</table>\n",
       "</div>"
      ],
      "text/plain": [
       "                 count          mean          std     min       25%  \\\n",
       "user_id         3012.0   1251.886786   145.953381  1000.0   1122.75   \n",
       "month           3012.0      8.260956     2.921359     1.0      6.00   \n",
       "count_calls     3012.0     60.599270    29.338434     0.0     40.00   \n",
       "talk_time       3012.0    433.510624   213.348154     0.0    281.00   \n",
       "mb_used         3012.0  16476.040435  6693.070387     0.0  12272.17   \n",
       "count_messages  3012.0     34.752988    30.196996     0.0      9.00   \n",
       "gb_used         3012.0     16.583997     6.541586     0.0     12.00   \n",
       "\n",
       "                      50%       75%       max  \n",
       "user_id          1251.000   1382.00   1499.00  \n",
       "month               9.000     11.00     12.00  \n",
       "count_calls        61.000     80.00    165.00  \n",
       "talk_time         437.000    570.25   1045.00  \n",
       "mb_used         16618.955  20812.66  34709.11  \n",
       "count_messages     29.000     54.00    129.00  \n",
       "gb_used            17.000     21.00     34.00  "
      ]
     },
     "execution_count": 37,
     "metadata": {},
     "output_type": "execute_result"
    }
   ],
   "source": [
    "users_info.describe().T"
   ]
  },
  {
   "cell_type": "markdown",
   "metadata": {},
   "source": [
    "### Посчитаем помесячную выручку с каждого пользователя\n",
    "Вычитаем бесплатный лимит из суммарного количества звонков, сообщений и интернет-трафика; остаток умножаем на значение из тарифного плана; прибавляем абонентскую плату, соответствующую тарифному плану."
   ]
  },
  {
   "cell_type": "markdown",
   "metadata": {},
   "source": [
    "Сперва добавим в таблицу `users_info` информацию о тарифе, для удобства."
   ]
  },
  {
   "cell_type": "code",
   "execution_count": 38,
   "metadata": {},
   "outputs": [],
   "source": [
    "users_info = users_info.merge(users[['user_id', 'tariff']], on = ['user_id'])"
   ]
  },
  {
   "cell_type": "markdown",
   "metadata": {},
   "source": [
    "Теперь напишем функцию для подсчета выручки."
   ]
  },
  {
   "cell_type": "code",
   "execution_count": 39,
   "metadata": {},
   "outputs": [
    {
     "data": {
      "text/html": [
       "<div>\n",
       "<style scoped>\n",
       "    .dataframe tbody tr th:only-of-type {\n",
       "        vertical-align: middle;\n",
       "    }\n",
       "\n",
       "    .dataframe tbody tr th {\n",
       "        vertical-align: top;\n",
       "    }\n",
       "\n",
       "    .dataframe thead th {\n",
       "        text-align: right;\n",
       "    }\n",
       "</style>\n",
       "<table border=\"1\" class=\"dataframe\">\n",
       "  <thead>\n",
       "    <tr style=\"text-align: right;\">\n",
       "      <th></th>\n",
       "      <th>messages_included</th>\n",
       "      <th>mb_per_month_included</th>\n",
       "      <th>minutes_included</th>\n",
       "      <th>rub_monthly_fee</th>\n",
       "      <th>rub_per_gb</th>\n",
       "      <th>rub_per_message</th>\n",
       "      <th>rub_per_minute</th>\n",
       "      <th>tariff_name</th>\n",
       "    </tr>\n",
       "  </thead>\n",
       "  <tbody>\n",
       "    <tr>\n",
       "      <td>0</td>\n",
       "      <td>50</td>\n",
       "      <td>15360</td>\n",
       "      <td>500</td>\n",
       "      <td>550</td>\n",
       "      <td>200</td>\n",
       "      <td>3</td>\n",
       "      <td>3</td>\n",
       "      <td>smart</td>\n",
       "    </tr>\n",
       "    <tr>\n",
       "      <td>1</td>\n",
       "      <td>1000</td>\n",
       "      <td>30720</td>\n",
       "      <td>3000</td>\n",
       "      <td>1950</td>\n",
       "      <td>150</td>\n",
       "      <td>1</td>\n",
       "      <td>1</td>\n",
       "      <td>ultra</td>\n",
       "    </tr>\n",
       "  </tbody>\n",
       "</table>\n",
       "</div>"
      ],
      "text/plain": [
       "   messages_included  mb_per_month_included  minutes_included  \\\n",
       "0                 50                  15360               500   \n",
       "1               1000                  30720              3000   \n",
       "\n",
       "   rub_monthly_fee  rub_per_gb  rub_per_message  rub_per_minute tariff_name  \n",
       "0              550         200                3               3       smart  \n",
       "1             1950         150                1               1       ultra  "
      ]
     },
     "execution_count": 39,
     "metadata": {},
     "output_type": "execute_result"
    }
   ],
   "source": [
    "tariffs"
   ]
  },
  {
   "cell_type": "code",
   "execution_count": 109,
   "metadata": {},
   "outputs": [],
   "source": [
    "def user_earnings(row):\n",
    "    # старая функция, первый вариант\n",
    "    if row.tariff == 'smart':\n",
    "        earnings = 550\n",
    "        if row.count_messages > 50:\n",
    "            earnings += (row.count_messages - 50) * 3\n",
    "        if row.gb_used > (15360/1024):\n",
    "            earnings += (row.gb_used - 15360/1024) * 200\n",
    "        if row.talk_time > 500:\n",
    "            earnings += (row.talk_time - 500) * 3\n",
    "        return earnings\n",
    "    elif row.tariff == 'ultra':\n",
    "        earnings = 1950\n",
    "        if row.count_messages > 1000:\n",
    "            earnings += (row.count_messages - 1000) * 1\n",
    "        if row.gb_used > (30720/1024):\n",
    "            earnings += (row.gb_used - 30720/1024) * 150\n",
    "        if row.talk_time > 3000:\n",
    "            earnings += (row.talk_time - 3000) * 1\n",
    "        return earnings\n",
    "    \n",
    "    \n",
    "def user_earnings_2(row):\n",
    "    # переписал функцию, оптимизировав под любой тариф в заданной структуре\n",
    "    index = tariffs.index[tariffs['tariff_name'] == row.tariff].tolist()[0]\n",
    "    earnings = tariffs.loc[index, 'rub_monthly_fee']\n",
    "    messages_included = tariffs.loc[index, 'messages_included']\n",
    "    mb_per_month_included = tariffs.loc[index, 'mb_per_month_included']    \n",
    "    minutes_included = tariffs.loc[index, 'minutes_included']\n",
    "    rub_per_gb = tariffs.loc[index, 'rub_per_gb'] \n",
    "    rub_per_message = tariffs.loc[index, 'rub_per_message'] \n",
    "    rub_per_minute = tariffs.loc[index, 'rub_per_minute'] \n",
    "\n",
    "    if row.count_messages > messages_included:\n",
    "        earnings += (row.count_messages - messages_included) * rub_per_message\n",
    "    if row.gb_used > (mb_per_month_included/1024):\n",
    "        earnings += (row.gb_used - mb_per_month_included/1024) * rub_per_gb\n",
    "    if row.talk_time > minutes_included:\n",
    "        earnings += (row.talk_time - minutes_included) * rub_per_minute\n",
    "        \n",
    "    return earnings    \n"
   ]
  },
  {
   "cell_type": "code",
   "execution_count": 107,
   "metadata": {},
   "outputs": [],
   "source": [
    "users_info['earnings'] = users_info.apply(user_earnings_2, axis=1)"
   ]
  },
  {
   "cell_type": "code",
   "execution_count": 108,
   "metadata": {},
   "outputs": [
    {
     "data": {
      "text/html": [
       "<div>\n",
       "<style scoped>\n",
       "    .dataframe tbody tr th:only-of-type {\n",
       "        vertical-align: middle;\n",
       "    }\n",
       "\n",
       "    .dataframe tbody tr th {\n",
       "        vertical-align: top;\n",
       "    }\n",
       "\n",
       "    .dataframe thead th {\n",
       "        text-align: right;\n",
       "    }\n",
       "</style>\n",
       "<table border=\"1\" class=\"dataframe\">\n",
       "  <thead>\n",
       "    <tr style=\"text-align: right;\">\n",
       "      <th></th>\n",
       "      <th>user_id</th>\n",
       "      <th>month</th>\n",
       "      <th>count_calls</th>\n",
       "      <th>talk_time</th>\n",
       "      <th>mb_used</th>\n",
       "      <th>count_messages</th>\n",
       "      <th>gb_used</th>\n",
       "      <th>tariff</th>\n",
       "      <th>earnings</th>\n",
       "    </tr>\n",
       "  </thead>\n",
       "  <tbody>\n",
       "    <tr>\n",
       "      <td>0</td>\n",
       "      <td>1000</td>\n",
       "      <td>5</td>\n",
       "      <td>22.0</td>\n",
       "      <td>159.0</td>\n",
       "      <td>2253.49</td>\n",
       "      <td>22.0</td>\n",
       "      <td>3.0</td>\n",
       "      <td>ultra</td>\n",
       "      <td>1950.0</td>\n",
       "    </tr>\n",
       "    <tr>\n",
       "      <td>1</td>\n",
       "      <td>1000</td>\n",
       "      <td>6</td>\n",
       "      <td>43.0</td>\n",
       "      <td>172.0</td>\n",
       "      <td>23233.77</td>\n",
       "      <td>60.0</td>\n",
       "      <td>23.0</td>\n",
       "      <td>ultra</td>\n",
       "      <td>1950.0</td>\n",
       "    </tr>\n",
       "    <tr>\n",
       "      <td>2</td>\n",
       "      <td>1000</td>\n",
       "      <td>7</td>\n",
       "      <td>47.0</td>\n",
       "      <td>340.0</td>\n",
       "      <td>14003.64</td>\n",
       "      <td>75.0</td>\n",
       "      <td>14.0</td>\n",
       "      <td>ultra</td>\n",
       "      <td>1950.0</td>\n",
       "    </tr>\n",
       "    <tr>\n",
       "      <td>3</td>\n",
       "      <td>1000</td>\n",
       "      <td>8</td>\n",
       "      <td>52.0</td>\n",
       "      <td>408.0</td>\n",
       "      <td>14055.93</td>\n",
       "      <td>81.0</td>\n",
       "      <td>14.0</td>\n",
       "      <td>ultra</td>\n",
       "      <td>1950.0</td>\n",
       "    </tr>\n",
       "    <tr>\n",
       "      <td>4</td>\n",
       "      <td>1000</td>\n",
       "      <td>9</td>\n",
       "      <td>58.0</td>\n",
       "      <td>466.0</td>\n",
       "      <td>14568.91</td>\n",
       "      <td>57.0</td>\n",
       "      <td>15.0</td>\n",
       "      <td>ultra</td>\n",
       "      <td>1950.0</td>\n",
       "    </tr>\n",
       "  </tbody>\n",
       "</table>\n",
       "</div>"
      ],
      "text/plain": [
       "   user_id  month  count_calls  talk_time   mb_used  count_messages  gb_used  \\\n",
       "0     1000      5         22.0      159.0   2253.49            22.0      3.0   \n",
       "1     1000      6         43.0      172.0  23233.77            60.0     23.0   \n",
       "2     1000      7         47.0      340.0  14003.64            75.0     14.0   \n",
       "3     1000      8         52.0      408.0  14055.93            81.0     14.0   \n",
       "4     1000      9         58.0      466.0  14568.91            57.0     15.0   \n",
       "\n",
       "  tariff  earnings  \n",
       "0  ultra    1950.0  \n",
       "1  ultra    1950.0  \n",
       "2  ultra    1950.0  \n",
       "3  ultra    1950.0  \n",
       "4  ultra    1950.0  "
      ]
     },
     "execution_count": 108,
     "metadata": {},
     "output_type": "execute_result"
    }
   ],
   "source": [
    "users_info.head()"
   ]
  },
  {
   "cell_type": "markdown",
   "metadata": {},
   "source": [
    "Проверим правильность подсчетов.  \n",
    "Тариф *ultra* не может быть меньше 1950, а тариф *smart* меньше 550. "
   ]
  },
  {
   "cell_type": "code",
   "execution_count": 43,
   "metadata": {},
   "outputs": [
    {
     "data": {
      "text/plain": [
       "0"
      ]
     },
     "execution_count": 43,
     "metadata": {},
     "output_type": "execute_result"
    }
   ],
   "source": [
    "users_info[(users_info['tariff'] == 'smart') & (users_info['earnings'] < 550)]['earnings'].count()"
   ]
  },
  {
   "cell_type": "code",
   "execution_count": 44,
   "metadata": {},
   "outputs": [
    {
     "data": {
      "text/plain": [
       "0"
      ]
     },
     "execution_count": 44,
     "metadata": {},
     "output_type": "execute_result"
    }
   ],
   "source": [
    "users_info[(users_info['tariff'] == 'ultra') & (users_info['earnings'] < 1950)]['earnings'].count()"
   ]
  },
  {
   "cell_type": "markdown",
   "metadata": {},
   "source": [
    "## Анализ данных\n",
    "Описываем поведение клиентов оператора, исходя из выборки:  \n",
    "* Сколько минут разговора, сколько сообщений и какой объём интернет-трафика требуется пользователям каждого тарифа в месяц.  \n",
    "* Посчитаем среднее количество, дисперсию и стандартное отклонение.   \n",
    "* Построим гистограммы.   \n",
    "* Опишем распределения."
   ]
  },
  {
   "cell_type": "markdown",
   "metadata": {},
   "source": [
    "### Сравним использование тарифов *smart* и *ultra* помесяцам"
   ]
  },
  {
   "cell_type": "markdown",
   "metadata": {},
   "source": [
    "#### Сравним общие показатели по тарифам"
   ]
  },
  {
   "cell_type": "code",
   "execution_count": 45,
   "metadata": {},
   "outputs": [
    {
     "data": {
      "text/plain": [
       "Text(0, 0.5, 'Кол-во минут')"
      ]
     },
     "execution_count": 45,
     "metadata": {},
     "output_type": "execute_result"
    },
    {
     "data": {
      "image/png": "[encoded data removed]",
      "text/plain": [
       "<Figure size 576x360 with 1 Axes>"
      ]
     },
     "metadata": {
      "needs_background": "light"
     },
     "output_type": "display_data"
    }
   ],
   "source": [
    "(users_info\n",
    " .pivot_table(index='month', columns='tariff', values='talk_time', aggfunc=sum)\n",
    " .plot(kind='bar', figsize=(8,5), \n",
    "       title='Кол-во минут, затраченных пользователями по месяцам', grid=True))\n",
    "plt.xlabel('Месяц')\n",
    "plt.ylabel('Кол-во минут')"
   ]
  },
  {
   "cell_type": "code",
   "execution_count": 46,
   "metadata": {},
   "outputs": [
    {
     "data": {
      "text/plain": [
       "Text(0, 0.5, 'Кол-во сообщений, шт')"
      ]
     },
     "execution_count": 46,
     "metadata": {},
     "output_type": "execute_result"
    },
    {
     "data": {
      "image/png": "[encoded data removed]",
      "text/plain": [
       "<Figure size 576x360 with 1 Axes>"
      ]
     },
     "metadata": {
      "needs_background": "light"
     },
     "output_type": "display_data"
    }
   ],
   "source": [
    "(users_info\n",
    " .pivot_table(index='month', columns='tariff', values='count_messages', aggfunc=sum)\n",
    " .plot(kind='bar', figsize=(8,5), \n",
    "       title='Кол-во сообщений, отправленных пользователями по месяцам', grid=True))\n",
    "plt.xlabel('Месяц')\n",
    "plt.ylabel('Кол-во сообщений, шт')"
   ]
  },
  {
   "cell_type": "code",
   "execution_count": 47,
   "metadata": {},
   "outputs": [
    {
     "data": {
      "text/plain": [
       "Text(0, 0.5, 'Объем трафика, ГБ')"
      ]
     },
     "execution_count": 47,
     "metadata": {},
     "output_type": "execute_result"
    },
    {
     "data": {
      "image/png": "[encoded data removed]",
      "text/plain": [
       "<Figure size 576x360 with 1 Axes>"
      ]
     },
     "metadata": {
      "needs_background": "light"
     },
     "output_type": "display_data"
    }
   ],
   "source": [
    "(users_info\n",
    " .pivot_table(index='month', columns='tariff', values='gb_used', aggfunc=sum)\n",
    " .plot(kind='bar', figsize=(8,5), \n",
    "       title='Объем интернет трафика, израсходованный пользователями по месяцам', grid=True))\n",
    "plt.xlabel('Месяц')\n",
    "plt.ylabel('Объем трафика, ГБ')"
   ]
  },
  {
   "cell_type": "markdown",
   "metadata": {},
   "source": [
    "### Строим гистограммы распределение каждого ресурса (смс, звонки, интернет)"
   ]
  },
  {
   "cell_type": "code",
   "execution_count": 136,
   "metadata": {},
   "outputs": [
    {
     "data": {
      "image/png": "[encoded data removed]",
      "text/plain": [
       "<Figure size 576x216 with 1 Axes>"
      ]
     },
     "metadata": {
      "needs_background": "light"
     },
     "output_type": "display_data"
    },
    {
     "data": {
      "image/png": "[encoded data removed]",
      "text/plain": [
       "<Figure size 576x216 with 1 Axes>"
      ]
     },
     "metadata": {
      "needs_background": "light"
     },
     "output_type": "display_data"
    }
   ],
   "source": [
    "(users_info[users_info['tariff'] == 'ultra']['talk_time']\n",
    " .plot(kind='hist', figsize=(8,3), bins = 50,\n",
    "       title='Кол-во минут, затраченных пользователями тарифа ultra', grid=True))\n",
    "plt.xlabel('Кол-во минут')\n",
    "plt.ylabel('Кол-во пользователей')\n",
    "plt.show()\n",
    "\n",
    "(users_info[users_info['tariff'] == 'smart']['talk_time']\n",
    " .plot(kind='hist', figsize=(8,3), bins = 50,\n",
    "       title='Кол-во минут, затраченных пользователями тарифа smart', grid=True))\n",
    "plt.xlabel('Кол-во минут')\n",
    "plt.ylabel('Кол-во пользователей')\n",
    "plt.show()"
   ]
  },
  {
   "cell_type": "code",
   "execution_count": 135,
   "metadata": {},
   "outputs": [
    {
     "data": {
      "image/png": "[encoded data removed]",
      "text/plain": [
       "<Figure size 576x216 with 1 Axes>"
      ]
     },
     "metadata": {
      "needs_background": "light"
     },
     "output_type": "display_data"
    },
    {
     "data": {
      "image/png": "[encoded data removed]",
      "text/plain": [
       "<Figure size 576x216 with 1 Axes>"
      ]
     },
     "metadata": {
      "needs_background": "light"
     },
     "output_type": "display_data"
    }
   ],
   "source": [
    "(users_info[users_info['tariff'] == 'ultra']['count_messages']\n",
    " .plot(kind='hist', figsize=(8,3), bins = 50,\n",
    "       title='Кол-во сообщений, отправленных пользователями тарифа ultra', grid=True))\n",
    "plt.xlabel('Кол-во сообщений')\n",
    "plt.ylabel('Кол-во пользователей')\n",
    "plt.show()\n",
    "\n",
    "(users_info[users_info['tariff'] == 'smart']['count_messages']\n",
    " .plot(kind='hist', figsize=(8,3), bins = 50,\n",
    "       title='Кол-во сообщений, отправленных пользователями тарифа smart', grid=True))\n",
    "plt.xlabel('Кол-во сообщений')\n",
    "plt.ylabel('Кол-во пользователей')\n",
    "plt.show()"
   ]
  },
  {
   "cell_type": "code",
   "execution_count": 137,
   "metadata": {},
   "outputs": [
    {
     "data": {
      "image/png": "[encoded data removed]",
      "text/plain": [
       "<Figure size 648x216 with 1 Axes>"
      ]
     },
     "metadata": {
      "needs_background": "light"
     },
     "output_type": "display_data"
    },
    {
     "data": {
      "image/png": "[encoded data removed]",
      "text/plain": [
       "<Figure size 648x216 with 1 Axes>"
      ]
     },
     "metadata": {
      "needs_background": "light"
     },
     "output_type": "display_data"
    }
   ],
   "source": [
    "(users_info[users_info['tariff'] == 'ultra']['gb_used']\n",
    " .plot(kind='hist', figsize=(9,3), bins = 20,\n",
    "       title='Объем интернет трафика, израсходованный пользователями тарифа ultra', grid=True))\n",
    "plt.xlabel('Объем интернет трафика, ГБ')\n",
    "plt.ylabel('Кол-во пользователей')\n",
    "plt.show()\n",
    "\n",
    "(users_info[users_info['tariff'] == 'smart']['gb_used']\n",
    " .plot(kind='hist', figsize=(9,3), bins = 20,\n",
    "       title='Объем интернет трафика, израсходованный пользователями тарифа smart', grid=True))\n",
    "plt.xlabel('Объем интернет трафика, ГБ')\n",
    "plt.ylabel('Кол-во пользователей')\n",
    "plt.show()"
   ]
  },
  {
   "cell_type": "markdown",
   "metadata": {},
   "source": [
    "#### Вывод по гистограммам\n",
    "* По кол-ву затраченных минут тариф *ultra* более равномерный. Распределение по тарифу *smart* напоминает нормальное распределение. Многие пользователя тарифа *ultra* не используют телефон для звонков.\n",
    "* Большое кол-во людей в обоих тарифах не пользуются смс. Скорее всего их заменяют месенджеры.\n",
    "* Пользователи тарифа *ultra* гораздо больше используют интернет. Использование интернета в тарифе *smart* напоминает нормальное.\n",
    "  \n",
    "Возможно на гистограммы повлиял тот факт, что выборка по тарифам разная и не очень большая."
   ]
  },
  {
   "cell_type": "markdown",
   "metadata": {},
   "source": [
    "#### Посчитаем среднее количество, дисперсию и стандартное отклонение"
   ]
  },
  {
   "cell_type": "code",
   "execution_count": 48,
   "metadata": {},
   "outputs": [
    {
     "data": {
      "text/html": [
       "<div>\n",
       "<style scoped>\n",
       "    .dataframe tbody tr th:only-of-type {\n",
       "        vertical-align: middle;\n",
       "    }\n",
       "\n",
       "    .dataframe tbody tr th {\n",
       "        vertical-align: top;\n",
       "    }\n",
       "\n",
       "    .dataframe thead tr th {\n",
       "        text-align: left;\n",
       "    }\n",
       "\n",
       "    .dataframe thead tr:last-of-type th {\n",
       "        text-align: right;\n",
       "    }\n",
       "</style>\n",
       "<table border=\"1\" class=\"dataframe\">\n",
       "  <thead>\n",
       "    <tr>\n",
       "      <th></th>\n",
       "      <th colspan=\"2\" halign=\"left\">count_messages</th>\n",
       "      <th colspan=\"2\" halign=\"left\">gb_used</th>\n",
       "      <th colspan=\"2\" halign=\"left\">talk_time</th>\n",
       "    </tr>\n",
       "    <tr>\n",
       "      <th>tariff</th>\n",
       "      <th>smart</th>\n",
       "      <th>ultra</th>\n",
       "      <th>smart</th>\n",
       "      <th>ultra</th>\n",
       "      <th>smart</th>\n",
       "      <th>ultra</th>\n",
       "    </tr>\n",
       "    <tr>\n",
       "      <th>month</th>\n",
       "      <th></th>\n",
       "      <th></th>\n",
       "      <th></th>\n",
       "      <th></th>\n",
       "      <th></th>\n",
       "      <th></th>\n",
       "    </tr>\n",
       "  </thead>\n",
       "  <tbody>\n",
       "    <tr>\n",
       "      <td>1</td>\n",
       "      <td>18.235294</td>\n",
       "      <td>33.777778</td>\n",
       "      <td>8.735294</td>\n",
       "      <td>13.222222</td>\n",
       "      <td>203.852941</td>\n",
       "      <td>428.111111</td>\n",
       "    </tr>\n",
       "    <tr>\n",
       "      <td>2</td>\n",
       "      <td>24.086207</td>\n",
       "      <td>21.958333</td>\n",
       "      <td>11.844828</td>\n",
       "      <td>12.000000</td>\n",
       "      <td>298.689655</td>\n",
       "      <td>297.125000</td>\n",
       "    </tr>\n",
       "    <tr>\n",
       "      <td>3</td>\n",
       "      <td>31.857143</td>\n",
       "      <td>23.903226</td>\n",
       "      <td>15.233766</td>\n",
       "      <td>16.709677</td>\n",
       "      <td>390.051948</td>\n",
       "      <td>424.161290</td>\n",
       "    </tr>\n",
       "    <tr>\n",
       "      <td>4</td>\n",
       "      <td>30.741071</td>\n",
       "      <td>28.920000</td>\n",
       "      <td>13.625000</td>\n",
       "      <td>16.400000</td>\n",
       "      <td>367.133929</td>\n",
       "      <td>456.420000</td>\n",
       "    </tr>\n",
       "    <tr>\n",
       "      <td>5</td>\n",
       "      <td>33.773050</td>\n",
       "      <td>34.406780</td>\n",
       "      <td>15.907801</td>\n",
       "      <td>18.033898</td>\n",
       "      <td>387.361702</td>\n",
       "      <td>495.661017</td>\n",
       "    </tr>\n",
       "    <tr>\n",
       "      <td>6</td>\n",
       "      <td>32.785276</td>\n",
       "      <td>34.712329</td>\n",
       "      <td>15.889571</td>\n",
       "      <td>17.739726</td>\n",
       "      <td>393.423313</td>\n",
       "      <td>462.602740</td>\n",
       "    </tr>\n",
       "    <tr>\n",
       "      <td>7</td>\n",
       "      <td>33.235000</td>\n",
       "      <td>39.059701</td>\n",
       "      <td>15.855000</td>\n",
       "      <td>17.149254</td>\n",
       "      <td>406.800000</td>\n",
       "      <td>518.343284</td>\n",
       "    </tr>\n",
       "    <tr>\n",
       "      <td>8</td>\n",
       "      <td>33.209402</td>\n",
       "      <td>39.909091</td>\n",
       "      <td>16.705128</td>\n",
       "      <td>17.329545</td>\n",
       "      <td>419.927350</td>\n",
       "      <td>471.340909</td>\n",
       "    </tr>\n",
       "    <tr>\n",
       "      <td>9</td>\n",
       "      <td>33.243243</td>\n",
       "      <td>41.074468</td>\n",
       "      <td>16.366795</td>\n",
       "      <td>18.319149</td>\n",
       "      <td>427.505792</td>\n",
       "      <td>492.042553</td>\n",
       "    </tr>\n",
       "    <tr>\n",
       "      <td>10</td>\n",
       "      <td>33.406143</td>\n",
       "      <td>46.494949</td>\n",
       "      <td>16.846416</td>\n",
       "      <td>18.151515</td>\n",
       "      <td>424.730375</td>\n",
       "      <td>503.878788</td>\n",
       "    </tr>\n",
       "    <tr>\n",
       "      <td>11</td>\n",
       "      <td>33.879365</td>\n",
       "      <td>44.173077</td>\n",
       "      <td>16.939683</td>\n",
       "      <td>17.298077</td>\n",
       "      <td>434.222222</td>\n",
       "      <td>490.740385</td>\n",
       "    </tr>\n",
       "    <tr>\n",
       "      <td>12</td>\n",
       "      <td>35.501529</td>\n",
       "      <td>47.435644</td>\n",
       "      <td>17.819572</td>\n",
       "      <td>19.019802</td>\n",
       "      <td>467.272171</td>\n",
       "      <td>533.277228</td>\n",
       "    </tr>\n",
       "  </tbody>\n",
       "</table>\n",
       "</div>"
      ],
      "text/plain": [
       "       count_messages               gb_used              talk_time            \n",
       "tariff          smart      ultra      smart      ultra       smart       ultra\n",
       "month                                                                         \n",
       "1           18.235294  33.777778   8.735294  13.222222  203.852941  428.111111\n",
       "2           24.086207  21.958333  11.844828  12.000000  298.689655  297.125000\n",
       "3           31.857143  23.903226  15.233766  16.709677  390.051948  424.161290\n",
       "4           30.741071  28.920000  13.625000  16.400000  367.133929  456.420000\n",
       "5           33.773050  34.406780  15.907801  18.033898  387.361702  495.661017\n",
       "6           32.785276  34.712329  15.889571  17.739726  393.423313  462.602740\n",
       "7           33.235000  39.059701  15.855000  17.149254  406.800000  518.343284\n",
       "8           33.209402  39.909091  16.705128  17.329545  419.927350  471.340909\n",
       "9           33.243243  41.074468  16.366795  18.319149  427.505792  492.042553\n",
       "10          33.406143  46.494949  16.846416  18.151515  424.730375  503.878788\n",
       "11          33.879365  44.173077  16.939683  17.298077  434.222222  490.740385\n",
       "12          35.501529  47.435644  17.819572  19.019802  467.272171  533.277228"
      ]
     },
     "execution_count": 48,
     "metadata": {},
     "output_type": "execute_result"
    }
   ],
   "source": [
    "(users_info.\n",
    "    pivot_table(index='month', columns='tariff', \n",
    "                values = ['talk_time', 'count_messages', 'gb_used'], \n",
    "                aggfunc ='mean'))"
   ]
  },
  {
   "cell_type": "code",
   "execution_count": 49,
   "metadata": {},
   "outputs": [
    {
     "data": {
      "text/html": [
       "<div>\n",
       "<style scoped>\n",
       "    .dataframe tbody tr th:only-of-type {\n",
       "        vertical-align: middle;\n",
       "    }\n",
       "\n",
       "    .dataframe tbody tr th {\n",
       "        vertical-align: top;\n",
       "    }\n",
       "\n",
       "    .dataframe thead tr th {\n",
       "        text-align: left;\n",
       "    }\n",
       "\n",
       "    .dataframe thead tr:last-of-type th {\n",
       "        text-align: right;\n",
       "    }\n",
       "</style>\n",
       "<table border=\"1\" class=\"dataframe\">\n",
       "  <thead>\n",
       "    <tr>\n",
       "      <th></th>\n",
       "      <th colspan=\"3\" halign=\"left\">mean</th>\n",
       "      <th colspan=\"3\" halign=\"left\">var</th>\n",
       "      <th colspan=\"3\" halign=\"left\">std</th>\n",
       "    </tr>\n",
       "    <tr>\n",
       "      <th></th>\n",
       "      <th>count_messages</th>\n",
       "      <th>gb_used</th>\n",
       "      <th>talk_time</th>\n",
       "      <th>count_messages</th>\n",
       "      <th>gb_used</th>\n",
       "      <th>talk_time</th>\n",
       "      <th>count_messages</th>\n",
       "      <th>gb_used</th>\n",
       "      <th>talk_time</th>\n",
       "    </tr>\n",
       "    <tr>\n",
       "      <th>tariff</th>\n",
       "      <th></th>\n",
       "      <th></th>\n",
       "      <th></th>\n",
       "      <th></th>\n",
       "      <th></th>\n",
       "      <th></th>\n",
       "      <th></th>\n",
       "      <th></th>\n",
       "      <th></th>\n",
       "    </tr>\n",
       "  </thead>\n",
       "  <tbody>\n",
       "    <tr>\n",
       "      <td>smart</td>\n",
       "      <td>33.039313</td>\n",
       "      <td>16.237686</td>\n",
       "      <td>415.058744</td>\n",
       "      <td>767.279195</td>\n",
       "      <td>31.752702</td>\n",
       "      <td>34931.467615</td>\n",
       "      <td>27.699805</td>\n",
       "      <td>5.634954</td>\n",
       "      <td>186.899619</td>\n",
       "    </tr>\n",
       "    <tr>\n",
       "      <td>ultra</td>\n",
       "      <td>39.499374</td>\n",
       "      <td>17.543179</td>\n",
       "      <td>484.617021</td>\n",
       "      <td>1283.064849</td>\n",
       "      <td>72.193309</td>\n",
       "      <td>71358.705274</td>\n",
       "      <td>35.819895</td>\n",
       "      <td>8.496665</td>\n",
       "      <td>267.130502</td>\n",
       "    </tr>\n",
       "  </tbody>\n",
       "</table>\n",
       "</div>"
      ],
      "text/plain": [
       "                 mean                                   var             \\\n",
       "       count_messages    gb_used   talk_time count_messages    gb_used   \n",
       "tariff                                                                   \n",
       "smart       33.039313  16.237686  415.058744     767.279195  31.752702   \n",
       "ultra       39.499374  17.543179  484.617021    1283.064849  72.193309   \n",
       "\n",
       "                                std                        \n",
       "           talk_time count_messages   gb_used   talk_time  \n",
       "tariff                                                     \n",
       "smart   34931.467615      27.699805  5.634954  186.899619  \n",
       "ultra   71358.705274      35.819895  8.496665  267.130502  "
      ]
     },
     "execution_count": 49,
     "metadata": {},
     "output_type": "execute_result"
    }
   ],
   "source": [
    "(users_info.\n",
    "    pivot_table(index='tariff',\n",
    "                values = ['talk_time', 'count_messages', 'gb_used'], \n",
    "                aggfunc = ['mean', np.var, np.std]))"
   ]
  },
  {
   "cell_type": "markdown",
   "metadata": {},
   "source": [
    "### Вывод\n",
    "\n",
    "* Тариф *smart* пользуется большей популярность, чем тариф *ultra*.\n",
    "* Прирост пользователей больше у тарифа *smart* ростет с каждым месяцем, при этом тариф *ultra* показывает динамику хуже.\n",
    "* Пользователи тарифа *ultra* в среднем чуть больше звонят и сидят в интернете, а так же пишут намного больше смс.\n",
    "* Дисперсия у тарифа *ultra* в 2 раза больше, что говорит о большем разбросе в значениях.\n",
    "* Стандартное отклонение у тарифа *ultra* выше в 1.5 раза.\n",
    "  \n",
    "Все больше людей стремится подключиться к тарифу *smart*, при этом в среднем они не намного меньше пользуются услугами оператора связи, чем пользователи тарифа *ultra*. Возможно людям проще контролировать свои расходы, отдавая каждый месяц плату в 550 руб. и доплачивая за перерасход пакетов, чем сразу платить практически в 4 раза больше, зная, что большая часть пакетов не будет использована."
   ]
  },
  {
   "cell_type": "markdown",
   "metadata": {},
   "source": [
    "## Проверка гипотез\n",
    "Требуется пояснить:  \n",
    "* Как была сформирована нулевая и альтернативная гипотеза.\n",
    "* Какой критерий использовался для проверки гипотез и почему."
   ]
  },
  {
   "cell_type": "markdown",
   "metadata": {},
   "source": [
    "### Cредняя выручка пользователей тарифов «Ультра» и «Смарт» различаются"
   ]
  },
  {
   "cell_type": "markdown",
   "metadata": {},
   "source": [
    "**Нулевая гипотеза** - средняя выручка пользователей тарифа \"Смарт\" равна средней выручке пользователей тарифа \"Ультра\".  \n",
    "**Альтернативная гипотеза** - средняя выручка пользователей тарифа \"Смарт\" отличается от средней выручки пользователей тарифа \"Ультра\"."
   ]
  },
  {
   "cell_type": "markdown",
   "metadata": {},
   "source": [
    "Сперва создадим две переменных, в которые сохраним выручку по каждому из тарифов."
   ]
  },
  {
   "cell_type": "code",
   "execution_count": 50,
   "metadata": {},
   "outputs": [],
   "source": [
    "smart = users_info[users_info['tariff'] == 'smart']['earnings']\n",
    "ultra = users_info[users_info['tariff'] == 'ultra']['earnings']"
   ]
  },
  {
   "cell_type": "markdown",
   "metadata": {},
   "source": [
    "Далее зададим уровень критической статистической значимости - 0.05."
   ]
  },
  {
   "cell_type": "code",
   "execution_count": 51,
   "metadata": {},
   "outputs": [],
   "source": [
    "alpha = 0.05"
   ]
  },
  {
   "cell_type": "markdown",
   "metadata": {},
   "source": [
    "Используем t-тест для независимых выборок."
   ]
  },
  {
   "cell_type": "code",
   "execution_count": 52,
   "metadata": {},
   "outputs": [
    {
     "data": {
      "text/plain": [
       "True"
      ]
     },
     "execution_count": 52,
     "metadata": {},
     "output_type": "execute_result"
    }
   ],
   "source": [
    "results = st.ttest_ind(smart, ultra) \n",
    "results.pvalue < alpha"
   ]
  },
  {
   "cell_type": "markdown",
   "metadata": {},
   "source": [
    "#### Попробуем найти среднее двух тарифов и построим график."
   ]
  },
  {
   "cell_type": "code",
   "execution_count": 53,
   "metadata": {},
   "outputs": [
    {
     "data": {
      "text/html": [
       "<div>\n",
       "<style scoped>\n",
       "    .dataframe tbody tr th:only-of-type {\n",
       "        vertical-align: middle;\n",
       "    }\n",
       "\n",
       "    .dataframe tbody tr th {\n",
       "        vertical-align: top;\n",
       "    }\n",
       "\n",
       "    .dataframe thead th {\n",
       "        text-align: right;\n",
       "    }\n",
       "</style>\n",
       "<table border=\"1\" class=\"dataframe\">\n",
       "  <thead>\n",
       "    <tr style=\"text-align: right;\">\n",
       "      <th></th>\n",
       "      <th>earnings</th>\n",
       "    </tr>\n",
       "    <tr>\n",
       "      <th>tariff</th>\n",
       "      <th></th>\n",
       "    </tr>\n",
       "  </thead>\n",
       "  <tbody>\n",
       "    <tr>\n",
       "      <td>smart</td>\n",
       "      <td>1267.406236</td>\n",
       "    </tr>\n",
       "    <tr>\n",
       "      <td>ultra</td>\n",
       "      <td>1973.466834</td>\n",
       "    </tr>\n",
       "  </tbody>\n",
       "</table>\n",
       "</div>"
      ],
      "text/plain": [
       "           earnings\n",
       "tariff             \n",
       "smart   1267.406236\n",
       "ultra   1973.466834"
      ]
     },
     "execution_count": 53,
     "metadata": {},
     "output_type": "execute_result"
    }
   ],
   "source": [
    "(users_info.pivot_table(index='tariff', values = 'earnings', aggfunc = 'mean'))"
   ]
  },
  {
   "cell_type": "code",
   "execution_count": 54,
   "metadata": {},
   "outputs": [
    {
     "data": {
      "text/plain": [
       "Text(0, 0.5, 'Объем выручки, руб')"
      ]
     },
     "execution_count": 54,
     "metadata": {},
     "output_type": "execute_result"
    },
    {
     "data": {
      "image/png": "[encoded data removed]",
      "text/plain": [
       "<Figure size 576x360 with 1 Axes>"
      ]
     },
     "metadata": {
      "needs_background": "light"
     },
     "output_type": "display_data"
    }
   ],
   "source": [
    "(users_info\n",
    " .pivot_table(index='month', columns='tariff', values='earnings', aggfunc='mean')\n",
    " .plot(kind='bar', figsize=(8,5), \n",
    "       title='Средний объем выручки на каждого пользователя в каждом тарифе', grid=True))\n",
    "plt.xlabel('Месяц')\n",
    "plt.ylabel('Объем выручки, руб')"
   ]
  },
  {
   "cell_type": "markdown",
   "metadata": {},
   "source": [
    "#### Построим гистограммы для проверки гипотез."
   ]
  },
  {
   "cell_type": "code",
   "execution_count": 142,
   "metadata": {},
   "outputs": [
    {
     "data": {
      "image/png": "[encoded data removed]",
      "text/plain": [
       "<Figure size 648x216 with 1 Axes>"
      ]
     },
     "metadata": {
      "needs_background": "light"
     },
     "output_type": "display_data"
    },
    {
     "data": {
      "image/png": "[encoded data removed]",
      "text/plain": [
       "<Figure size 648x216 with 1 Axes>"
      ]
     },
     "metadata": {
      "needs_background": "light"
     },
     "output_type": "display_data"
    }
   ],
   "source": [
    "(users_info[users_info['tariff'] == 'ultra']['earnings']\n",
    " .plot(kind='hist', figsize=(9,3), bins = 50,\n",
    "       title='Объем выручки на каждого пользователя тарифа ultra', grid=True))\n",
    "plt.xlabel('Объем выручки, руб')\n",
    "plt.ylabel('Кол-во пользователей')\n",
    "plt.show()\n",
    "\n",
    "(users_info[users_info['tariff'] == 'smart']['earnings']\n",
    " .plot(kind='hist', figsize=(9,3), bins = 50,\n",
    "       title='Объем выручки на каждого пользователя тарифа smart', grid=True))\n",
    "plt.xlabel('Объем выручки, руб')\n",
    "plt.ylabel('Кол-во пользователей')\n",
    "plt.show()"
   ]
  },
  {
   "cell_type": "markdown",
   "metadata": {},
   "source": [
    "#### Вывод\n",
    "Учитывая результаты проверки гипотезы, мы не можем опровергуть альтернативную гипотезу, т.к. результаты у двух ниже статистической значимости, а значит они могут различаться.  \n",
    "Это так же подтверждается графиком и средним значением."
   ]
  },
  {
   "cell_type": "markdown",
   "metadata": {},
   "source": [
    "### Cредняя выручка пользователей из Москвы отличается от выручки пользователей из других регионов"
   ]
  },
  {
   "cell_type": "markdown",
   "metadata": {},
   "source": [
    "**Нулевая гипотеза** - средняя выручка пользователей из Москвы равна средней выручке пользователей из других регионов.  \n",
    "**Альтернативная гипотеза** - средняя выручка пользователей из Москвы отличается от средней выручки пользователей из других регионов."
   ]
  },
  {
   "cell_type": "markdown",
   "metadata": {},
   "source": [
    "Сперва добавим в таблицу с информацией о пользователях города из таблицы пользователей."
   ]
  },
  {
   "cell_type": "code",
   "execution_count": 55,
   "metadata": {},
   "outputs": [
    {
     "data": {
      "text/html": [
       "<div>\n",
       "<style scoped>\n",
       "    .dataframe tbody tr th:only-of-type {\n",
       "        vertical-align: middle;\n",
       "    }\n",
       "\n",
       "    .dataframe tbody tr th {\n",
       "        vertical-align: top;\n",
       "    }\n",
       "\n",
       "    .dataframe thead th {\n",
       "        text-align: right;\n",
       "    }\n",
       "</style>\n",
       "<table border=\"1\" class=\"dataframe\">\n",
       "  <thead>\n",
       "    <tr style=\"text-align: right;\">\n",
       "      <th></th>\n",
       "      <th>user_id</th>\n",
       "      <th>month</th>\n",
       "      <th>count_calls</th>\n",
       "      <th>talk_time</th>\n",
       "      <th>mb_used</th>\n",
       "      <th>count_messages</th>\n",
       "      <th>gb_used</th>\n",
       "      <th>tariff</th>\n",
       "      <th>earnings</th>\n",
       "      <th>city</th>\n",
       "    </tr>\n",
       "  </thead>\n",
       "  <tbody>\n",
       "    <tr>\n",
       "      <td>0</td>\n",
       "      <td>1000</td>\n",
       "      <td>5</td>\n",
       "      <td>22.0</td>\n",
       "      <td>159.0</td>\n",
       "      <td>2253.49</td>\n",
       "      <td>22.0</td>\n",
       "      <td>3.0</td>\n",
       "      <td>ultra</td>\n",
       "      <td>1950.0</td>\n",
       "      <td>Краснодар</td>\n",
       "    </tr>\n",
       "    <tr>\n",
       "      <td>1</td>\n",
       "      <td>1000</td>\n",
       "      <td>6</td>\n",
       "      <td>43.0</td>\n",
       "      <td>172.0</td>\n",
       "      <td>23233.77</td>\n",
       "      <td>60.0</td>\n",
       "      <td>23.0</td>\n",
       "      <td>ultra</td>\n",
       "      <td>1950.0</td>\n",
       "      <td>Краснодар</td>\n",
       "    </tr>\n",
       "    <tr>\n",
       "      <td>2</td>\n",
       "      <td>1000</td>\n",
       "      <td>7</td>\n",
       "      <td>47.0</td>\n",
       "      <td>340.0</td>\n",
       "      <td>14003.64</td>\n",
       "      <td>75.0</td>\n",
       "      <td>14.0</td>\n",
       "      <td>ultra</td>\n",
       "      <td>1950.0</td>\n",
       "      <td>Краснодар</td>\n",
       "    </tr>\n",
       "    <tr>\n",
       "      <td>3</td>\n",
       "      <td>1000</td>\n",
       "      <td>8</td>\n",
       "      <td>52.0</td>\n",
       "      <td>408.0</td>\n",
       "      <td>14055.93</td>\n",
       "      <td>81.0</td>\n",
       "      <td>14.0</td>\n",
       "      <td>ultra</td>\n",
       "      <td>1950.0</td>\n",
       "      <td>Краснодар</td>\n",
       "    </tr>\n",
       "    <tr>\n",
       "      <td>4</td>\n",
       "      <td>1000</td>\n",
       "      <td>9</td>\n",
       "      <td>58.0</td>\n",
       "      <td>466.0</td>\n",
       "      <td>14568.91</td>\n",
       "      <td>57.0</td>\n",
       "      <td>15.0</td>\n",
       "      <td>ultra</td>\n",
       "      <td>1950.0</td>\n",
       "      <td>Краснодар</td>\n",
       "    </tr>\n",
       "  </tbody>\n",
       "</table>\n",
       "</div>"
      ],
      "text/plain": [
       "   user_id  month  count_calls  talk_time   mb_used  count_messages  gb_used  \\\n",
       "0     1000      5         22.0      159.0   2253.49            22.0      3.0   \n",
       "1     1000      6         43.0      172.0  23233.77            60.0     23.0   \n",
       "2     1000      7         47.0      340.0  14003.64            75.0     14.0   \n",
       "3     1000      8         52.0      408.0  14055.93            81.0     14.0   \n",
       "4     1000      9         58.0      466.0  14568.91            57.0     15.0   \n",
       "\n",
       "  tariff  earnings       city  \n",
       "0  ultra    1950.0  Краснодар  \n",
       "1  ultra    1950.0  Краснодар  \n",
       "2  ultra    1950.0  Краснодар  \n",
       "3  ultra    1950.0  Краснодар  \n",
       "4  ultra    1950.0  Краснодар  "
      ]
     },
     "execution_count": 55,
     "metadata": {},
     "output_type": "execute_result"
    }
   ],
   "source": [
    "users_info_city = users_info.merge(users[['user_id', 'city']], on = ['user_id'])\n",
    "users_info_city.head()"
   ]
  },
  {
   "cell_type": "markdown",
   "metadata": {},
   "source": [
    "Сгруппируем данные о выручке в Москве и прочих регионах. Сохраним их в переменные."
   ]
  },
  {
   "cell_type": "code",
   "execution_count": 56,
   "metadata": {},
   "outputs": [],
   "source": [
    "msc = users_info_city[users_info_city['city'] == 'Москва']['earnings']\n",
    "other = users_info_city[users_info_city['city'] != 'Москва']['earnings']"
   ]
  },
  {
   "cell_type": "markdown",
   "metadata": {},
   "source": [
    "Уровень критической статистической значимости возьмем из прошлой гипотезы.  \n",
    "Используем t-тест для независимых выборок."
   ]
  },
  {
   "cell_type": "code",
   "execution_count": 57,
   "metadata": {},
   "outputs": [
    {
     "data": {
      "text/plain": [
       "False"
      ]
     },
     "execution_count": 57,
     "metadata": {},
     "output_type": "execute_result"
    }
   ],
   "source": [
    "results = st.ttest_ind(msc, other) \n",
    "results.pvalue < alpha"
   ]
  },
  {
   "cell_type": "markdown",
   "metadata": {},
   "source": [
    "#### Найдем среднее двух тарифов и построим график."
   ]
  },
  {
   "cell_type": "code",
   "execution_count": 58,
   "metadata": {},
   "outputs": [
    {
     "data": {
      "text/plain": [
       "1477"
      ]
     },
     "execution_count": 58,
     "metadata": {},
     "output_type": "execute_result"
    }
   ],
   "source": [
    "round(msc.mean())"
   ]
  },
  {
   "cell_type": "code",
   "execution_count": 59,
   "metadata": {},
   "outputs": [
    {
     "data": {
      "text/plain": [
       "1449"
      ]
     },
     "execution_count": 59,
     "metadata": {},
     "output_type": "execute_result"
    }
   ],
   "source": [
    "round(other.mean())"
   ]
  },
  {
   "cell_type": "markdown",
   "metadata": {},
   "source": [
    "Это я делаю, чтобы отобразить нормально легенду. Она не меняется через plt."
   ]
  },
  {
   "cell_type": "code",
   "execution_count": 60,
   "metadata": {},
   "outputs": [],
   "source": [
    "msc_mean = (users_info_city[users_info_city['city'] == 'Москва'].\n",
    "            pivot_table(index='month', values='earnings', aggfunc='mean'))\n",
    "msc_mean.columns = ['Москва']\n",
    "other_mean = (users_info_city[users_info_city['city'] != 'Москва'].\n",
    "            pivot_table(index='month', values='earnings', aggfunc='mean'))\n",
    "other_mean.columns = ['регионы']"
   ]
  },
  {
   "cell_type": "code",
   "execution_count": 61,
   "metadata": {},
   "outputs": [
    {
     "data": {
      "image/png": "[encoded data removed]",
      "text/plain": [
       "<Figure size 576x360 with 1 Axes>"
      ]
     },
     "metadata": {
      "needs_background": "light"
     },
     "output_type": "display_data"
    }
   ],
   "source": [
    "ax = (msc_mean\n",
    " .plot(kind='bar', figsize=(8,5), alpha = 0.5, color = 'red', grid=True, label = 'Москва'))\n",
    "\n",
    "(other_mean\n",
    " .plot(kind='bar', figsize=(8,5), ax = ax, alpha = 0.7, label = 'регионы', \n",
    "       title ='Средний объем выручки в Москве и регионах', grid=True))\n",
    "plt.xlabel('Месяц')\n",
    "plt.ylabel('Объем выручки, руб.')\n",
    "plt.show()"
   ]
  },
  {
   "cell_type": "markdown",
   "metadata": {},
   "source": [
    "#### Построим гистограммы для проверки гипотез."
   ]
  },
  {
   "cell_type": "code",
   "execution_count": 144,
   "metadata": {},
   "outputs": [
    {
     "data": {
      "image/png": "[encoded data removed]",
      "text/plain": [
       "<Figure size 720x216 with 1 Axes>"
      ]
     },
     "metadata": {
      "needs_background": "light"
     },
     "output_type": "display_data"
    },
    {
     "data": {
      "image/png": "[encoded data removed]",
      "text/plain": [
       "<Figure size 720x216 with 1 Axes>"
      ]
     },
     "metadata": {
      "needs_background": "light"
     },
     "output_type": "display_data"
    }
   ],
   "source": [
    "(msc_mean\n",
    " .plot(kind='hist', figsize=(10,3), bins = 10,\n",
    "       title='Объем выручки на среднего пользователя Москвы', grid=True))\n",
    "plt.xlabel('Объем выручки, руб')\n",
    "plt.ylabel('Кол-во пользователей')\n",
    "plt.show()\n",
    "\n",
    "(other_mean\n",
    " .plot(kind='hist', figsize=(10,3), bins = 10,\n",
    "       title='Объем выручки на среднего пользователя из регионов', grid=True))\n",
    "plt.xlabel('Объем выручки, руб')\n",
    "plt.ylabel('Кол-во пользователей')\n",
    "plt.show()"
   ]
  },
  {
   "cell_type": "markdown",
   "metadata": {},
   "source": [
    "#### Вывод\n",
    "Учитывая результат проверки гипотезы, мы не можем опровергнуть, что выручка в Москве и регионах НЕ отличается. Значит предположение об обратном выглядит сомнительно.  \n",
    "То же самое показывает график и среднее, значения практически идентичны."
   ]
  },
  {
   "cell_type": "markdown",
   "metadata": {},
   "source": [
    "## Общий вывод\n",
    "Изначальные данные были представлены в 5 таблицах. Пропуски и ошибки в данных не обнаружены.  \n",
    "* Оба тарифа пользуются популярность, при этом *smart* показывает восходящую динамику.  \n",
    "* Пользователи тарифа *ultra* разговаривают и отправляют смс на 20% больше, при этом пользуются интернетом на 10% больше.\n",
    "___\n",
    "Мы подтвердили гипотезу о том, что средняя выручка пользователей тарифов *smart* и *ultra* различаются.Тариф *ultra* в среднем на одного пользователя, приносит бОльшую выручку по сравнению с тарифом *smart*. \n",
    "___\n",
    "Мы опровергли гипотезу, о том, что средняя выручка пользователей Москвы и регионов различается. Различие не настолько существенное, чтобы судить о значимости данного фактора."
   ]
  }
 ],
 "metadata": {
  "ExecuteTimeLog": [
   {
    "duration": 774,
    "start_time": "2021-12-27T07:23:19.593Z"
   },
   {
    "duration": 259,
    "start_time": "2021-12-27T07:26:57.337Z"
   },
   {
    "duration": 228,
    "start_time": "2021-12-27T07:27:32.132Z"
   },
   {
    "duration": 21,
    "start_time": "2021-12-27T07:27:46.681Z"
   },
   {
    "duration": 462,
    "start_time": "2021-12-27T07:28:45.255Z"
   },
   {
    "duration": 377,
    "start_time": "2021-12-27T07:28:49.721Z"
   },
   {
    "duration": 22,
    "start_time": "2021-12-27T07:28:52.804Z"
   },
   {
    "duration": 12,
    "start_time": "2021-12-27T07:28:57.996Z"
   },
   {
    "duration": 241,
    "start_time": "2021-12-27T07:29:46.811Z"
   },
   {
    "duration": 464,
    "start_time": "2021-12-27T07:29:49.884Z"
   },
   {
    "duration": 11,
    "start_time": "2021-12-27T07:29:52.462Z"
   },
   {
    "duration": 22,
    "start_time": "2021-12-27T07:29:55.822Z"
   },
   {
    "duration": 569,
    "start_time": "2021-12-27T07:30:54.303Z"
   },
   {
    "duration": 12,
    "start_time": "2021-12-27T07:31:02.841Z"
   },
   {
    "duration": 14,
    "start_time": "2021-12-27T07:31:09.843Z"
   },
   {
    "duration": 12,
    "start_time": "2021-12-27T07:34:01.433Z"
   },
   {
    "duration": 13,
    "start_time": "2021-12-27T07:34:03.152Z"
   },
   {
    "duration": 11,
    "start_time": "2021-12-27T07:34:04.882Z"
   },
   {
    "duration": 12,
    "start_time": "2021-12-27T07:34:06.043Z"
   },
   {
    "duration": 15,
    "start_time": "2021-12-27T07:34:07.113Z"
   },
   {
    "duration": 28,
    "start_time": "2021-12-27T07:50:46.633Z"
   },
   {
    "duration": 23,
    "start_time": "2021-12-27T07:50:47.778Z"
   },
   {
    "duration": 18,
    "start_time": "2021-12-27T07:50:50.898Z"
   },
   {
    "duration": 9,
    "start_time": "2021-12-27T07:50:53.138Z"
   },
   {
    "duration": 9,
    "start_time": "2021-12-27T07:50:55.290Z"
   },
   {
    "duration": 131,
    "start_time": "2021-12-27T09:14:29.038Z"
   },
   {
    "duration": 28,
    "start_time": "2021-12-27T10:02:58.643Z"
   },
   {
    "duration": 23,
    "start_time": "2021-12-27T10:02:59.410Z"
   },
   {
    "duration": 21,
    "start_time": "2021-12-27T10:03:00.023Z"
   },
   {
    "duration": 70,
    "start_time": "2021-12-27T10:03:41.171Z"
   },
   {
    "duration": 40,
    "start_time": "2021-12-27T10:03:53.227Z"
   },
   {
    "duration": 22,
    "start_time": "2021-12-27T10:04:03.210Z"
   },
   {
    "duration": 816,
    "start_time": "2021-12-27T10:06:24.710Z"
   },
   {
    "duration": 534,
    "start_time": "2021-12-27T10:06:25.529Z"
   },
   {
    "duration": 17,
    "start_time": "2021-12-27T10:06:26.066Z"
   },
   {
    "duration": 18,
    "start_time": "2021-12-27T10:06:26.087Z"
   },
   {
    "duration": 16,
    "start_time": "2021-12-27T10:06:26.108Z"
   },
   {
    "duration": 12,
    "start_time": "2021-12-27T10:06:26.163Z"
   },
   {
    "duration": 15,
    "start_time": "2021-12-27T10:06:26.177Z"
   },
   {
    "duration": 29,
    "start_time": "2021-12-27T10:06:26.194Z"
   },
   {
    "duration": 22,
    "start_time": "2021-12-27T10:06:26.265Z"
   },
   {
    "duration": 19,
    "start_time": "2021-12-27T10:06:26.290Z"
   },
   {
    "duration": 8,
    "start_time": "2021-12-27T10:06:26.312Z"
   },
   {
    "duration": 48,
    "start_time": "2021-12-27T10:06:26.322Z"
   },
   {
    "duration": 59,
    "start_time": "2021-12-27T10:06:26.372Z"
   },
   {
    "duration": 70,
    "start_time": "2021-12-27T10:06:26.434Z"
   },
   {
    "duration": 65,
    "start_time": "2021-12-27T10:06:26.506Z"
   },
   {
    "duration": 13,
    "start_time": "2021-12-27T10:10:31.118Z"
   },
   {
    "duration": 12,
    "start_time": "2021-12-27T10:11:46.268Z"
   },
   {
    "duration": 11,
    "start_time": "2021-12-27T10:12:11.886Z"
   },
   {
    "duration": 13,
    "start_time": "2021-12-27T10:13:09.228Z"
   },
   {
    "duration": 16,
    "start_time": "2021-12-27T10:13:10.200Z"
   },
   {
    "duration": 12,
    "start_time": "2021-12-27T10:13:11.080Z"
   },
   {
    "duration": 81,
    "start_time": "2021-12-27T10:13:25.008Z"
   },
   {
    "duration": 27,
    "start_time": "2021-12-27T10:13:38.290Z"
   },
   {
    "duration": 12,
    "start_time": "2021-12-27T10:13:46.680Z"
   },
   {
    "duration": 14,
    "start_time": "2021-12-27T10:13:53.570Z"
   },
   {
    "duration": 13,
    "start_time": "2021-12-27T10:13:59.460Z"
   },
   {
    "duration": 52,
    "start_time": "2021-12-27T10:20:39.906Z"
   },
   {
    "duration": 1010,
    "start_time": "2021-12-27T10:23:04.549Z"
   },
   {
    "duration": 534,
    "start_time": "2021-12-27T10:23:45.421Z"
   },
   {
    "duration": 618,
    "start_time": "2021-12-27T10:23:49.541Z"
   },
   {
    "duration": 20,
    "start_time": "2021-12-27T10:23:50.540Z"
   },
   {
    "duration": 11,
    "start_time": "2021-12-27T10:24:02.649Z"
   },
   {
    "duration": 12,
    "start_time": "2021-12-27T10:24:09.401Z"
   },
   {
    "duration": 10,
    "start_time": "2021-12-27T10:24:17.030Z"
   },
   {
    "duration": 615,
    "start_time": "2021-12-27T10:26:09.311Z"
   },
   {
    "duration": 10,
    "start_time": "2021-12-27T10:26:09.980Z"
   },
   {
    "duration": 47,
    "start_time": "2021-12-27T10:27:19.370Z"
   },
   {
    "duration": 8,
    "start_time": "2021-12-27T10:27:20.590Z"
   },
   {
    "duration": 8,
    "start_time": "2021-12-27T10:27:22.478Z"
   },
   {
    "duration": 7,
    "start_time": "2021-12-27T10:27:26.098Z"
   },
   {
    "duration": 49,
    "start_time": "2021-12-27T10:33:49.493Z"
   },
   {
    "duration": 237,
    "start_time": "2021-12-27T10:36:49.040Z"
   },
   {
    "duration": 22,
    "start_time": "2021-12-27T10:37:06.930Z"
   },
   {
    "duration": 29,
    "start_time": "2021-12-27T10:37:40.241Z"
   },
   {
    "duration": 13,
    "start_time": "2021-12-27T10:39:33.433Z"
   },
   {
    "duration": 6,
    "start_time": "2021-12-27T10:40:46.486Z"
   },
   {
    "duration": 7,
    "start_time": "2021-12-27T10:41:05.100Z"
   },
   {
    "duration": 6,
    "start_time": "2021-12-27T10:41:05.733Z"
   },
   {
    "duration": 5,
    "start_time": "2021-12-27T10:41:06.351Z"
   },
   {
    "duration": 62,
    "start_time": "2021-12-27T10:49:53.625Z"
   },
   {
    "duration": 50,
    "start_time": "2021-12-27T10:49:58.014Z"
   },
   {
    "duration": 74,
    "start_time": "2021-12-27T10:50:18.960Z"
   },
   {
    "duration": 53,
    "start_time": "2021-12-27T10:50:21.815Z"
   },
   {
    "duration": 15,
    "start_time": "2021-12-27T10:53:10.723Z"
   },
   {
    "duration": 59,
    "start_time": "2021-12-27T10:54:23.314Z"
   },
   {
    "duration": 21,
    "start_time": "2021-12-27T10:54:27.709Z"
   },
   {
    "duration": 4,
    "start_time": "2021-12-27T10:57:58.784Z"
   },
   {
    "duration": 13,
    "start_time": "2021-12-27T10:58:06.404Z"
   },
   {
    "duration": 12,
    "start_time": "2021-12-27T10:58:35.142Z"
   },
   {
    "duration": 11,
    "start_time": "2021-12-27T10:58:48.087Z"
   },
   {
    "duration": 4,
    "start_time": "2021-12-27T10:59:48.743Z"
   },
   {
    "duration": 11,
    "start_time": "2021-12-27T10:59:50.682Z"
   },
   {
    "duration": 35,
    "start_time": "2021-12-27T10:59:56.143Z"
   },
   {
    "duration": 9,
    "start_time": "2021-12-27T11:13:10.417Z"
   },
   {
    "duration": 37,
    "start_time": "2021-12-27T11:21:30.497Z"
   },
   {
    "duration": 60,
    "start_time": "2021-12-27T11:21:49.207Z"
   },
   {
    "duration": 143,
    "start_time": "2021-12-27T11:22:08.655Z"
   },
   {
    "duration": 56,
    "start_time": "2021-12-27T11:23:03.197Z"
   },
   {
    "duration": 45,
    "start_time": "2021-12-27T11:23:05.514Z"
   },
   {
    "duration": 5,
    "start_time": "2021-12-27T11:37:04.966Z"
   },
   {
    "duration": 11,
    "start_time": "2021-12-27T11:37:16.385Z"
   },
   {
    "duration": 18,
    "start_time": "2021-12-27T11:40:49.188Z"
   },
   {
    "duration": 7,
    "start_time": "2021-12-27T11:41:12.491Z"
   },
   {
    "duration": 7,
    "start_time": "2021-12-27T11:41:56.640Z"
   },
   {
    "duration": 9,
    "start_time": "2021-12-27T11:43:10.670Z"
   },
   {
    "duration": 10,
    "start_time": "2021-12-27T11:43:39.271Z"
   },
   {
    "duration": 10,
    "start_time": "2021-12-27T11:49:29.023Z"
   },
   {
    "duration": 10,
    "start_time": "2021-12-27T11:49:42.973Z"
   },
   {
    "duration": 248,
    "start_time": "2021-12-27T12:04:04.495Z"
   },
   {
    "duration": 6,
    "start_time": "2021-12-27T12:04:14.237Z"
   },
   {
    "duration": 16,
    "start_time": "2021-12-27T12:05:10.549Z"
   },
   {
    "duration": 8,
    "start_time": "2021-12-27T13:16:55.512Z"
   },
   {
    "duration": 6,
    "start_time": "2021-12-27T13:17:16.028Z"
   },
   {
    "duration": 13,
    "start_time": "2021-12-27T13:18:20.096Z"
   },
   {
    "duration": 4613,
    "start_time": "2021-12-27T13:19:30.097Z"
   },
   {
    "duration": 73,
    "start_time": "2021-12-27T13:19:41.836Z"
   },
   {
    "duration": 114,
    "start_time": "2021-12-27T13:19:51.415Z"
   },
   {
    "duration": 82,
    "start_time": "2021-12-27T13:20:41.175Z"
   },
   {
    "duration": 77,
    "start_time": "2021-12-27T13:20:49.136Z"
   },
   {
    "duration": 20,
    "start_time": "2021-12-27T13:20:54.146Z"
   },
   {
    "duration": 14,
    "start_time": "2021-12-27T13:22:24.497Z"
   },
   {
    "duration": 12,
    "start_time": "2021-12-27T13:40:46.194Z"
   },
   {
    "duration": 5,
    "start_time": "2021-12-27T13:42:16.710Z"
   },
   {
    "duration": 13,
    "start_time": "2021-12-27T13:42:24.130Z"
   },
   {
    "duration": 979,
    "start_time": "2021-12-27T13:44:48.635Z"
   },
   {
    "duration": 597,
    "start_time": "2021-12-27T13:44:49.616Z"
   },
   {
    "duration": 16,
    "start_time": "2021-12-27T13:44:50.216Z"
   },
   {
    "duration": 24,
    "start_time": "2021-12-27T13:44:50.236Z"
   },
   {
    "duration": 31,
    "start_time": "2021-12-27T13:44:50.263Z"
   },
   {
    "duration": 31,
    "start_time": "2021-12-27T13:44:50.297Z"
   },
   {
    "duration": 16,
    "start_time": "2021-12-27T13:44:50.331Z"
   },
   {
    "duration": 74,
    "start_time": "2021-12-27T13:44:50.349Z"
   },
   {
    "duration": 23,
    "start_time": "2021-12-27T13:44:50.426Z"
   },
   {
    "duration": 25,
    "start_time": "2021-12-27T13:44:50.452Z"
   },
   {
    "duration": 18,
    "start_time": "2021-12-27T13:44:50.481Z"
   },
   {
    "duration": 39,
    "start_time": "2021-12-27T13:44:50.502Z"
   },
   {
    "duration": 59,
    "start_time": "2021-12-27T13:44:50.544Z"
   },
   {
    "duration": 34,
    "start_time": "2021-12-27T13:44:50.605Z"
   },
   {
    "duration": 58,
    "start_time": "2021-12-27T13:44:50.642Z"
   },
   {
    "duration": 103,
    "start_time": "2021-12-27T13:44:50.703Z"
   },
   {
    "duration": 7,
    "start_time": "2021-12-27T13:44:50.809Z"
   },
   {
    "duration": 117,
    "start_time": "2021-12-27T13:44:50.819Z"
   },
   {
    "duration": 3,
    "start_time": "2021-12-27T13:44:50.939Z"
   },
   {
    "duration": 48,
    "start_time": "2021-12-27T13:44:50.945Z"
   },
   {
    "duration": 11,
    "start_time": "2021-12-27T13:44:50.995Z"
   },
   {
    "duration": 64,
    "start_time": "2021-12-27T13:44:51.009Z"
   },
   {
    "duration": 46,
    "start_time": "2021-12-27T13:44:51.076Z"
   },
   {
    "duration": 75,
    "start_time": "2021-12-27T13:44:51.124Z"
   },
   {
    "duration": 10,
    "start_time": "2021-12-27T13:44:51.201Z"
   },
   {
    "duration": 18,
    "start_time": "2021-12-27T13:44:51.213Z"
   },
   {
    "duration": 10,
    "start_time": "2021-12-27T13:44:51.266Z"
   },
   {
    "duration": 8,
    "start_time": "2021-12-27T13:44:51.280Z"
   },
   {
    "duration": 15,
    "start_time": "2021-12-27T13:44:51.290Z"
   },
   {
    "duration": 19,
    "start_time": "2021-12-27T13:44:51.307Z"
   },
   {
    "duration": 83,
    "start_time": "2021-12-27T13:44:51.365Z"
   },
   {
    "duration": -108,
    "start_time": "2021-12-27T13:44:51.558Z"
   },
   {
    "duration": -109,
    "start_time": "2021-12-27T13:44:51.561Z"
   },
   {
    "duration": -112,
    "start_time": "2021-12-27T13:44:51.565Z"
   },
   {
    "duration": -113,
    "start_time": "2021-12-27T13:44:51.568Z"
   },
   {
    "duration": 6,
    "start_time": "2021-12-27T13:45:10.596Z"
   },
   {
    "duration": 20,
    "start_time": "2021-12-27T13:45:22.764Z"
   },
   {
    "duration": 14,
    "start_time": "2021-12-27T13:45:22.787Z"
   },
   {
    "duration": 6,
    "start_time": "2021-12-27T13:50:03.994Z"
   },
   {
    "duration": 5,
    "start_time": "2021-12-27T13:50:14.561Z"
   },
   {
    "duration": 341,
    "start_time": "2021-12-27T13:52:15.682Z"
   },
   {
    "duration": 2407,
    "start_time": "2021-12-27T13:52:35.079Z"
   },
   {
    "duration": 15,
    "start_time": "2021-12-27T13:53:03.578Z"
   },
   {
    "duration": 888,
    "start_time": "2021-12-27T13:58:28.871Z"
   },
   {
    "duration": 548,
    "start_time": "2021-12-27T13:58:29.761Z"
   },
   {
    "duration": 18,
    "start_time": "2021-12-27T13:58:30.313Z"
   },
   {
    "duration": 13,
    "start_time": "2021-12-27T13:58:30.335Z"
   },
   {
    "duration": 19,
    "start_time": "2021-12-27T13:58:30.351Z"
   },
   {
    "duration": 12,
    "start_time": "2021-12-27T13:58:30.373Z"
   },
   {
    "duration": 17,
    "start_time": "2021-12-27T13:58:30.388Z"
   },
   {
    "duration": 73,
    "start_time": "2021-12-27T13:58:30.408Z"
   },
   {
    "duration": 23,
    "start_time": "2021-12-27T13:58:30.485Z"
   },
   {
    "duration": 65,
    "start_time": "2021-12-27T13:58:30.511Z"
   },
   {
    "duration": 14,
    "start_time": "2021-12-27T13:58:30.579Z"
   },
   {
    "duration": 15,
    "start_time": "2021-12-27T13:58:30.596Z"
   },
   {
    "duration": 88,
    "start_time": "2021-12-27T13:58:30.613Z"
   },
   {
    "duration": 36,
    "start_time": "2021-12-27T13:58:30.704Z"
   },
   {
    "duration": 29,
    "start_time": "2021-12-27T13:58:30.763Z"
   },
   {
    "duration": 103,
    "start_time": "2021-12-27T13:58:30.794Z"
   },
   {
    "duration": 8,
    "start_time": "2021-12-27T13:58:30.900Z"
   },
   {
    "duration": 101,
    "start_time": "2021-12-27T13:58:30.911Z"
   },
   {
    "duration": 4,
    "start_time": "2021-12-27T13:58:31.015Z"
   },
   {
    "duration": 61,
    "start_time": "2021-12-27T13:58:31.022Z"
   },
   {
    "duration": 10,
    "start_time": "2021-12-27T13:58:31.086Z"
   },
   {
    "duration": 2103,
    "start_time": "2021-12-27T13:58:31.099Z"
   },
   {
    "duration": 14,
    "start_time": "2021-12-27T13:58:33.204Z"
   },
   {
    "duration": 62,
    "start_time": "2021-12-27T13:58:33.220Z"
   },
   {
    "duration": 48,
    "start_time": "2021-12-27T13:58:33.285Z"
   },
   {
    "duration": 45,
    "start_time": "2021-12-27T13:58:33.364Z"
   },
   {
    "duration": 49,
    "start_time": "2021-12-27T13:58:33.418Z"
   },
   {
    "duration": 15,
    "start_time": "2021-12-27T13:58:33.471Z"
   },
   {
    "duration": 7,
    "start_time": "2021-12-27T13:58:33.488Z"
   },
   {
    "duration": 9,
    "start_time": "2021-12-27T13:58:33.498Z"
   },
   {
    "duration": 54,
    "start_time": "2021-12-27T13:58:33.509Z"
   },
   {
    "duration": 11,
    "start_time": "2021-12-27T13:58:33.565Z"
   },
   {
    "duration": 87,
    "start_time": "2021-12-27T13:58:33.578Z"
   },
   {
    "duration": -404,
    "start_time": "2021-12-27T13:58:34.071Z"
   },
   {
    "duration": -408,
    "start_time": "2021-12-27T13:58:34.077Z"
   },
   {
    "duration": -409,
    "start_time": "2021-12-27T13:58:34.080Z"
   },
   {
    "duration": -410,
    "start_time": "2021-12-27T13:58:34.083Z"
   },
   {
    "duration": 5,
    "start_time": "2021-12-27T14:00:06.877Z"
   },
   {
    "duration": 369,
    "start_time": "2021-12-27T14:00:08.587Z"
   },
   {
    "duration": 465,
    "start_time": "2021-12-27T14:00:22.368Z"
   },
   {
    "duration": 5,
    "start_time": "2021-12-27T14:05:51.392Z"
   },
   {
    "duration": 25,
    "start_time": "2021-12-27T14:05:55.753Z"
   },
   {
    "duration": 865,
    "start_time": "2021-12-27T14:06:34.207Z"
   },
   {
    "duration": 569,
    "start_time": "2021-12-27T14:06:35.076Z"
   },
   {
    "duration": 16,
    "start_time": "2021-12-27T14:06:35.648Z"
   },
   {
    "duration": 15,
    "start_time": "2021-12-27T14:06:35.670Z"
   },
   {
    "duration": 9,
    "start_time": "2021-12-27T14:06:35.688Z"
   },
   {
    "duration": 11,
    "start_time": "2021-12-27T14:06:35.700Z"
   },
   {
    "duration": 22,
    "start_time": "2021-12-27T14:06:35.763Z"
   },
   {
    "duration": 32,
    "start_time": "2021-12-27T14:06:35.789Z"
   },
   {
    "duration": 69,
    "start_time": "2021-12-27T14:06:35.824Z"
   },
   {
    "duration": 20,
    "start_time": "2021-12-27T14:06:35.895Z"
   },
   {
    "duration": 8,
    "start_time": "2021-12-27T14:06:35.917Z"
   },
   {
    "duration": 37,
    "start_time": "2021-12-27T14:06:35.928Z"
   },
   {
    "duration": 48,
    "start_time": "2021-12-27T14:06:35.968Z"
   },
   {
    "duration": 34,
    "start_time": "2021-12-27T14:06:36.018Z"
   },
   {
    "duration": 33,
    "start_time": "2021-12-27T14:06:36.063Z"
   },
   {
    "duration": 78,
    "start_time": "2021-12-27T14:06:36.099Z"
   },
   {
    "duration": 7,
    "start_time": "2021-12-27T14:06:36.181Z"
   },
   {
    "duration": 91,
    "start_time": "2021-12-27T14:06:36.190Z"
   },
   {
    "duration": 4,
    "start_time": "2021-12-27T14:06:36.284Z"
   },
   {
    "duration": 32,
    "start_time": "2021-12-27T14:06:36.291Z"
   },
   {
    "duration": 10,
    "start_time": "2021-12-27T14:06:36.325Z"
   },
   {
    "duration": 4,
    "start_time": "2021-12-27T14:06:36.337Z"
   },
   {
    "duration": 35,
    "start_time": "2021-12-27T14:06:36.346Z"
   },
   {
    "duration": 28,
    "start_time": "2021-12-27T14:06:36.384Z"
   },
   {
    "duration": 58,
    "start_time": "2021-12-27T14:06:36.414Z"
   },
   {
    "duration": 52,
    "start_time": "2021-12-27T14:06:36.475Z"
   },
   {
    "duration": 10,
    "start_time": "2021-12-27T14:06:36.530Z"
   },
   {
    "duration": 40,
    "start_time": "2021-12-27T14:06:36.543Z"
   },
   {
    "duration": 7,
    "start_time": "2021-12-27T14:06:36.585Z"
   },
   {
    "duration": 10,
    "start_time": "2021-12-27T14:06:36.596Z"
   },
   {
    "duration": 13,
    "start_time": "2021-12-27T14:06:36.609Z"
   },
   {
    "duration": 12,
    "start_time": "2021-12-27T14:06:36.624Z"
   },
   {
    "duration": 167,
    "start_time": "2021-12-27T14:06:36.638Z"
   },
   {
    "duration": -927,
    "start_time": "2021-12-27T14:06:37.735Z"
   },
   {
    "duration": -930,
    "start_time": "2021-12-27T14:06:37.739Z"
   },
   {
    "duration": -934,
    "start_time": "2021-12-27T14:06:37.745Z"
   },
   {
    "duration": -935,
    "start_time": "2021-12-27T14:06:37.748Z"
   },
   {
    "duration": 8,
    "start_time": "2021-12-27T14:08:08.367Z"
   },
   {
    "duration": 4,
    "start_time": "2021-12-27T14:17:49.814Z"
   },
   {
    "duration": 7113,
    "start_time": "2021-12-27T14:19:11.455Z"
   },
   {
    "duration": 1091,
    "start_time": "2021-12-27T14:22:17.260Z"
   },
   {
    "duration": -277,
    "start_time": "2021-12-27T14:31:33.186Z"
   },
   {
    "duration": -290,
    "start_time": "2021-12-27T14:31:33.200Z"
   },
   {
    "duration": 3,
    "start_time": "2021-12-27T14:31:38.971Z"
   },
   {
    "duration": 6034,
    "start_time": "2021-12-27T14:31:40.089Z"
   },
   {
    "duration": 4,
    "start_time": "2021-12-27T14:31:53.853Z"
   },
   {
    "duration": 9969,
    "start_time": "2021-12-27T14:31:56.297Z"
   },
   {
    "duration": 4,
    "start_time": "2021-12-27T14:32:28.940Z"
   },
   {
    "duration": 509,
    "start_time": "2021-12-27T14:32:30.550Z"
   },
   {
    "duration": 78,
    "start_time": "2021-12-27T14:32:52.720Z"
   },
   {
    "duration": 4,
    "start_time": "2021-12-27T14:33:55.652Z"
   },
   {
    "duration": 5448,
    "start_time": "2021-12-27T14:33:56.490Z"
   },
   {
    "duration": 16,
    "start_time": "2021-12-27T14:34:16.111Z"
   },
   {
    "duration": 16,
    "start_time": "2021-12-27T14:34:33.020Z"
   },
   {
    "duration": 941,
    "start_time": "2021-12-27T14:35:36.015Z"
   },
   {
    "duration": 582,
    "start_time": "2021-12-27T14:35:36.958Z"
   },
   {
    "duration": 16,
    "start_time": "2021-12-27T14:35:37.544Z"
   },
   {
    "duration": 12,
    "start_time": "2021-12-27T14:35:37.562Z"
   },
   {
    "duration": 10,
    "start_time": "2021-12-27T14:35:37.576Z"
   },
   {
    "duration": 15,
    "start_time": "2021-12-27T14:35:37.590Z"
   },
   {
    "duration": 63,
    "start_time": "2021-12-27T14:35:37.608Z"
   },
   {
    "duration": 33,
    "start_time": "2021-12-27T14:35:37.675Z"
   },
   {
    "duration": 65,
    "start_time": "2021-12-27T14:35:37.715Z"
   },
   {
    "duration": 21,
    "start_time": "2021-12-27T14:35:37.784Z"
   },
   {
    "duration": 55,
    "start_time": "2021-12-27T14:35:37.808Z"
   },
   {
    "duration": 10,
    "start_time": "2021-12-27T14:35:37.866Z"
   },
   {
    "duration": 46,
    "start_time": "2021-12-27T14:35:37.879Z"
   },
   {
    "duration": 35,
    "start_time": "2021-12-27T14:35:37.964Z"
   },
   {
    "duration": 26,
    "start_time": "2021-12-27T14:35:38.002Z"
   },
   {
    "duration": 103,
    "start_time": "2021-12-27T14:35:38.031Z"
   },
   {
    "duration": 29,
    "start_time": "2021-12-27T14:35:38.137Z"
   },
   {
    "duration": 96,
    "start_time": "2021-12-27T14:35:38.169Z"
   },
   {
    "duration": 6,
    "start_time": "2021-12-27T14:35:38.267Z"
   },
   {
    "duration": 30,
    "start_time": "2021-12-27T14:35:38.276Z"
   },
   {
    "duration": 8,
    "start_time": "2021-12-27T14:35:38.308Z"
   },
   {
    "duration": 43,
    "start_time": "2021-12-27T14:35:38.319Z"
   },
   {
    "duration": 21,
    "start_time": "2021-12-27T14:35:38.365Z"
   },
   {
    "duration": 26,
    "start_time": "2021-12-27T14:35:38.389Z"
   },
   {
    "duration": 89,
    "start_time": "2021-12-27T14:35:38.418Z"
   },
   {
    "duration": 81,
    "start_time": "2021-12-27T14:35:38.510Z"
   },
   {
    "duration": 12,
    "start_time": "2021-12-27T14:35:38.599Z"
   },
   {
    "duration": 53,
    "start_time": "2021-12-27T14:35:38.614Z"
   },
   {
    "duration": 7,
    "start_time": "2021-12-27T14:35:38.669Z"
   },
   {
    "duration": 6,
    "start_time": "2021-12-27T14:35:38.679Z"
   },
   {
    "duration": 9,
    "start_time": "2021-12-27T14:35:38.687Z"
   },
   {
    "duration": 65,
    "start_time": "2021-12-27T14:35:38.698Z"
   },
   {
    "duration": 4,
    "start_time": "2021-12-27T14:35:38.765Z"
   },
   {
    "duration": 11591,
    "start_time": "2021-12-27T14:35:38.771Z"
   },
   {
    "duration": -475,
    "start_time": "2021-12-27T14:35:50.840Z"
   },
   {
    "duration": 894,
    "start_time": "2021-12-27T14:36:23.964Z"
   },
   {
    "duration": 585,
    "start_time": "2021-12-27T14:36:24.861Z"
   },
   {
    "duration": 20,
    "start_time": "2021-12-27T14:36:25.450Z"
   },
   {
    "duration": 19,
    "start_time": "2021-12-27T14:36:25.473Z"
   },
   {
    "duration": 23,
    "start_time": "2021-12-27T14:36:25.494Z"
   },
   {
    "duration": 43,
    "start_time": "2021-12-27T14:36:25.520Z"
   },
   {
    "duration": 19,
    "start_time": "2021-12-27T14:36:25.573Z"
   },
   {
    "duration": 29,
    "start_time": "2021-12-27T14:36:25.595Z"
   },
   {
    "duration": 56,
    "start_time": "2021-12-27T14:36:25.629Z"
   },
   {
    "duration": 24,
    "start_time": "2021-12-27T14:36:25.689Z"
   },
   {
    "duration": 48,
    "start_time": "2021-12-27T14:36:25.716Z"
   },
   {
    "duration": 20,
    "start_time": "2021-12-27T14:36:25.768Z"
   },
   {
    "duration": 81,
    "start_time": "2021-12-27T14:36:25.791Z"
   },
   {
    "duration": 38,
    "start_time": "2021-12-27T14:36:25.875Z"
   },
   {
    "duration": 62,
    "start_time": "2021-12-27T14:36:25.916Z"
   },
   {
    "duration": 98,
    "start_time": "2021-12-27T14:36:25.981Z"
   },
   {
    "duration": 7,
    "start_time": "2021-12-27T14:36:26.082Z"
   },
   {
    "duration": 99,
    "start_time": "2021-12-27T14:36:26.091Z"
   },
   {
    "duration": 4,
    "start_time": "2021-12-27T14:36:26.193Z"
   },
   {
    "duration": 64,
    "start_time": "2021-12-27T14:36:26.200Z"
   },
   {
    "duration": 9,
    "start_time": "2021-12-27T14:36:26.266Z"
   },
   {
    "duration": 25,
    "start_time": "2021-12-27T14:36:26.278Z"
   },
   {
    "duration": 58,
    "start_time": "2021-12-27T14:36:26.306Z"
   },
   {
    "duration": 35,
    "start_time": "2021-12-27T14:36:26.367Z"
   },
   {
    "duration": 89,
    "start_time": "2021-12-27T14:36:26.405Z"
   },
   {
    "duration": 67,
    "start_time": "2021-12-27T14:36:26.496Z"
   },
   {
    "duration": 12,
    "start_time": "2021-12-27T14:36:26.568Z"
   },
   {
    "duration": 38,
    "start_time": "2021-12-27T14:36:26.583Z"
   },
   {
    "duration": 25,
    "start_time": "2021-12-27T14:36:26.624Z"
   },
   {
    "duration": 18,
    "start_time": "2021-12-27T14:36:26.651Z"
   },
   {
    "duration": 30,
    "start_time": "2021-12-27T14:36:26.672Z"
   },
   {
    "duration": 13,
    "start_time": "2021-12-27T14:36:26.704Z"
   },
   {
    "duration": 14,
    "start_time": "2021-12-27T14:36:26.720Z"
   },
   {
    "duration": 960,
    "start_time": "2021-12-27T14:36:26.736Z"
   },
   {
    "duration": -315,
    "start_time": "2021-12-27T14:36:28.015Z"
   },
   {
    "duration": 12240,
    "start_time": "2021-12-27T14:37:59.260Z"
   },
   {
    "duration": 5,
    "start_time": "2021-12-27T14:38:14.560Z"
   },
   {
    "duration": 12395,
    "start_time": "2021-12-27T14:38:15.805Z"
   },
   {
    "duration": 4,
    "start_time": "2021-12-27T14:38:40.481Z"
   },
   {
    "duration": 75,
    "start_time": "2021-12-27T14:38:41.661Z"
   },
   {
    "duration": 17,
    "start_time": "2021-12-27T14:38:44.393Z"
   },
   {
    "duration": 4,
    "start_time": "2021-12-27T14:39:53.601Z"
   },
   {
    "duration": 4451,
    "start_time": "2021-12-27T14:39:55.531Z"
   },
   {
    "duration": 56,
    "start_time": "2021-12-27T14:39:59.984Z"
   },
   {
    "duration": 14,
    "start_time": "2021-12-27T14:40:16.766Z"
   },
   {
    "duration": 6129,
    "start_time": "2021-12-27T14:40:18.560Z"
   },
   {
    "duration": 15,
    "start_time": "2021-12-27T14:40:26.342Z"
   },
   {
    "duration": 15,
    "start_time": "2021-12-27T14:40:46.801Z"
   },
   {
    "duration": 16,
    "start_time": "2021-12-27T14:42:33.242Z"
   },
   {
    "duration": 8,
    "start_time": "2021-12-27T14:43:05.563Z"
   },
   {
    "duration": 6766,
    "start_time": "2021-12-27T14:45:39.896Z"
   },
   {
    "duration": 84,
    "start_time": "2021-12-27T14:45:55.415Z"
   },
   {
    "duration": 8,
    "start_time": "2021-12-27T14:46:04.136Z"
   },
   {
    "duration": 182,
    "start_time": "2021-12-27T14:47:14.434Z"
   },
   {
    "duration": 93,
    "start_time": "2021-12-27T14:47:25.506Z"
   },
   {
    "duration": 8,
    "start_time": "2021-12-27T14:50:16.926Z"
   },
   {
    "duration": 4,
    "start_time": "2021-12-27T14:50:54.426Z"
   },
   {
    "duration": 4728,
    "start_time": "2021-12-27T14:50:55.916Z"
   },
   {
    "duration": 16,
    "start_time": "2021-12-27T14:51:01.246Z"
   },
   {
    "duration": 3809,
    "start_time": "2021-12-27T14:51:32.274Z"
   },
   {
    "duration": 9,
    "start_time": "2021-12-27T14:51:40.706Z"
   },
   {
    "duration": 7,
    "start_time": "2021-12-27T14:51:56.106Z"
   },
   {
    "duration": 8,
    "start_time": "2021-12-27T14:52:23.316Z"
   },
   {
    "duration": 7565,
    "start_time": "2021-12-27T14:55:02.606Z"
   },
   {
    "duration": 10,
    "start_time": "2021-12-27T14:55:18.557Z"
   },
   {
    "duration": 24,
    "start_time": "2021-12-27T14:55:22.746Z"
   },
   {
    "duration": 893,
    "start_time": "2021-12-27T14:55:40.872Z"
   },
   {
    "duration": 560,
    "start_time": "2021-12-27T14:55:41.768Z"
   },
   {
    "duration": 16,
    "start_time": "2021-12-27T14:55:42.330Z"
   },
   {
    "duration": 11,
    "start_time": "2021-12-27T14:55:42.348Z"
   },
   {
    "duration": 10,
    "start_time": "2021-12-27T14:55:42.362Z"
   },
   {
    "duration": 11,
    "start_time": "2021-12-27T14:55:42.375Z"
   },
   {
    "duration": 14,
    "start_time": "2021-12-27T14:55:42.392Z"
   },
   {
    "duration": 78,
    "start_time": "2021-12-27T14:55:42.411Z"
   },
   {
    "duration": 22,
    "start_time": "2021-12-27T14:55:42.491Z"
   },
   {
    "duration": 55,
    "start_time": "2021-12-27T14:55:42.516Z"
   },
   {
    "duration": 9,
    "start_time": "2021-12-27T14:55:42.574Z"
   },
   {
    "duration": 10,
    "start_time": "2021-12-27T14:55:42.585Z"
   },
   {
    "duration": 94,
    "start_time": "2021-12-27T14:55:42.597Z"
   },
   {
    "duration": 35,
    "start_time": "2021-12-27T14:55:42.693Z"
   },
   {
    "duration": 52,
    "start_time": "2021-12-27T14:55:42.730Z"
   },
   {
    "duration": 94,
    "start_time": "2021-12-27T14:55:42.784Z"
   },
   {
    "duration": 9,
    "start_time": "2021-12-27T14:55:42.881Z"
   },
   {
    "duration": 112,
    "start_time": "2021-12-27T14:55:42.893Z"
   },
   {
    "duration": 5,
    "start_time": "2021-12-27T14:55:43.008Z"
   },
   {
    "duration": 51,
    "start_time": "2021-12-27T14:55:43.016Z"
   },
   {
    "duration": 11,
    "start_time": "2021-12-27T14:55:43.069Z"
   },
   {
    "duration": 4,
    "start_time": "2021-12-27T14:55:43.084Z"
   },
   {
    "duration": 19,
    "start_time": "2021-12-27T14:55:43.091Z"
   },
   {
    "duration": 72,
    "start_time": "2021-12-27T14:55:43.112Z"
   },
   {
    "duration": 46,
    "start_time": "2021-12-27T14:55:43.186Z"
   },
   {
    "duration": 69,
    "start_time": "2021-12-27T14:55:43.234Z"
   },
   {
    "duration": 10,
    "start_time": "2021-12-27T14:55:43.306Z"
   },
   {
    "duration": 51,
    "start_time": "2021-12-27T14:55:43.318Z"
   },
   {
    "duration": 6,
    "start_time": "2021-12-27T14:55:43.372Z"
   },
   {
    "duration": 7,
    "start_time": "2021-12-27T14:55:43.380Z"
   },
   {
    "duration": 10,
    "start_time": "2021-12-27T14:55:43.389Z"
   },
   {
    "duration": 62,
    "start_time": "2021-12-27T14:55:43.402Z"
   },
   {
    "duration": 10,
    "start_time": "2021-12-27T14:55:43.467Z"
   },
   {
    "duration": 20,
    "start_time": "2021-12-27T14:55:43.480Z"
   },
   {
    "duration": 15,
    "start_time": "2021-12-27T14:55:55.589Z"
   },
   {
    "duration": 12,
    "start_time": "2021-12-27T15:55:32.808Z"
   },
   {
    "duration": 349,
    "start_time": "2021-12-27T15:56:32.206Z"
   },
   {
    "duration": 972,
    "start_time": "2021-12-27T15:57:08.717Z"
   },
   {
    "duration": 567,
    "start_time": "2021-12-27T15:57:09.692Z"
   },
   {
    "duration": 17,
    "start_time": "2021-12-27T15:57:10.261Z"
   },
   {
    "duration": 13,
    "start_time": "2021-12-27T15:57:10.281Z"
   },
   {
    "duration": 13,
    "start_time": "2021-12-27T15:57:10.297Z"
   },
   {
    "duration": 13,
    "start_time": "2021-12-27T15:57:10.312Z"
   },
   {
    "duration": 15,
    "start_time": "2021-12-27T15:57:10.364Z"
   },
   {
    "duration": 31,
    "start_time": "2021-12-27T15:57:10.382Z"
   },
   {
    "duration": 54,
    "start_time": "2021-12-27T15:57:10.416Z"
   },
   {
    "duration": 20,
    "start_time": "2021-12-27T15:57:10.472Z"
   },
   {
    "duration": 9,
    "start_time": "2021-12-27T15:57:10.495Z"
   },
   {
    "duration": 14,
    "start_time": "2021-12-27T15:57:10.507Z"
   },
   {
    "duration": 80,
    "start_time": "2021-12-27T15:57:10.523Z"
   },
   {
    "duration": 58,
    "start_time": "2021-12-27T15:57:10.605Z"
   },
   {
    "duration": 30,
    "start_time": "2021-12-27T15:57:10.666Z"
   },
   {
    "duration": 99,
    "start_time": "2021-12-27T15:57:10.698Z"
   },
   {
    "duration": 7,
    "start_time": "2021-12-27T15:57:10.799Z"
   },
   {
    "duration": 113,
    "start_time": "2021-12-27T15:57:10.808Z"
   },
   {
    "duration": 6,
    "start_time": "2021-12-27T15:57:10.924Z"
   },
   {
    "duration": 55,
    "start_time": "2021-12-27T15:57:10.933Z"
   },
   {
    "duration": 12,
    "start_time": "2021-12-27T15:57:10.991Z"
   },
   {
    "duration": 5,
    "start_time": "2021-12-27T15:57:11.006Z"
   },
   {
    "duration": 50,
    "start_time": "2021-12-27T15:57:11.015Z"
   },
   {
    "duration": 29,
    "start_time": "2021-12-27T15:57:11.068Z"
   },
   {
    "duration": 79,
    "start_time": "2021-12-27T15:57:11.100Z"
   },
   {
    "duration": 48,
    "start_time": "2021-12-27T15:57:11.182Z"
   },
   {
    "duration": 35,
    "start_time": "2021-12-27T15:57:11.233Z"
   },
   {
    "duration": 19,
    "start_time": "2021-12-27T15:57:11.270Z"
   },
   {
    "duration": 11,
    "start_time": "2021-12-27T15:57:11.291Z"
   },
   {
    "duration": 8,
    "start_time": "2021-12-27T15:57:11.304Z"
   },
   {
    "duration": 47,
    "start_time": "2021-12-27T15:57:11.315Z"
   },
   {
    "duration": 13,
    "start_time": "2021-12-27T15:57:11.366Z"
   },
   {
    "duration": 10,
    "start_time": "2021-12-27T15:57:11.382Z"
   },
   {
    "duration": 21,
    "start_time": "2021-12-27T15:57:11.395Z"
   },
   {
    "duration": 18,
    "start_time": "2021-12-27T15:57:11.419Z"
   },
   {
    "duration": 24,
    "start_time": "2021-12-27T15:57:11.439Z"
   },
   {
    "duration": 489,
    "start_time": "2021-12-27T15:57:11.466Z"
   },
   {
    "duration": 17,
    "start_time": "2021-12-27T15:57:20.184Z"
   },
   {
    "duration": 92,
    "start_time": "2021-12-27T16:06:05.788Z"
   },
   {
    "duration": 8,
    "start_time": "2021-12-27T16:06:12.454Z"
   },
   {
    "duration": 519,
    "start_time": "2021-12-27T16:06:15.161Z"
   },
   {
    "duration": 7,
    "start_time": "2021-12-27T16:06:59.886Z"
   },
   {
    "duration": 1423,
    "start_time": "2021-12-27T16:07:05.211Z"
   },
   {
    "duration": 731,
    "start_time": "2021-12-27T16:07:45.701Z"
   },
   {
    "duration": 7,
    "start_time": "2021-12-27T16:07:59.032Z"
   },
   {
    "duration": 270,
    "start_time": "2021-12-27T16:08:01.985Z"
   },
   {
    "duration": 17,
    "start_time": "2021-12-27T16:08:03.666Z"
   },
   {
    "duration": 7,
    "start_time": "2021-12-27T16:08:50.977Z"
   },
   {
    "duration": 384,
    "start_time": "2021-12-27T16:08:54.096Z"
   },
   {
    "duration": 18,
    "start_time": "2021-12-27T16:08:55.147Z"
   },
   {
    "duration": 7,
    "start_time": "2021-12-27T16:09:46.720Z"
   },
   {
    "duration": 18,
    "start_time": "2021-12-27T16:09:49.253Z"
   },
   {
    "duration": 277,
    "start_time": "2021-12-27T16:09:53.108Z"
   },
   {
    "duration": 17,
    "start_time": "2021-12-27T16:09:53.888Z"
   },
   {
    "duration": 101,
    "start_time": "2021-12-27T16:13:17.218Z"
   },
   {
    "duration": 16,
    "start_time": "2021-12-27T16:13:51.523Z"
   },
   {
    "duration": 15,
    "start_time": "2021-12-27T16:14:07.604Z"
   },
   {
    "duration": 11,
    "start_time": "2021-12-27T16:14:57.374Z"
   },
   {
    "duration": 11,
    "start_time": "2021-12-27T16:14:58.814Z"
   },
   {
    "duration": 9,
    "start_time": "2021-12-27T16:15:19.290Z"
   },
   {
    "duration": 10,
    "start_time": "2021-12-27T16:15:20.039Z"
   },
   {
    "duration": 323,
    "start_time": "2021-12-27T16:15:57.544Z"
   },
   {
    "duration": 294,
    "start_time": "2021-12-27T16:16:23.852Z"
   },
   {
    "duration": 102,
    "start_time": "2021-12-27T16:20:49.611Z"
   },
   {
    "duration": 158,
    "start_time": "2021-12-27T16:21:09.516Z"
   },
   {
    "duration": 4,
    "start_time": "2021-12-27T16:21:29.076Z"
   },
   {
    "duration": 94,
    "start_time": "2021-12-27T16:21:45.009Z"
   },
   {
    "duration": 327,
    "start_time": "2021-12-27T16:22:11.182Z"
   },
   {
    "duration": 1172,
    "start_time": "2021-12-27T16:22:31.898Z"
   },
   {
    "duration": 1259,
    "start_time": "2021-12-27T16:22:42.878Z"
   },
   {
    "duration": 1146,
    "start_time": "2021-12-27T16:23:38.229Z"
   },
   {
    "duration": 1124,
    "start_time": "2021-12-27T16:24:05.815Z"
   },
   {
    "duration": 792,
    "start_time": "2021-12-27T16:24:18.085Z"
   },
   {
    "duration": 685,
    "start_time": "2021-12-27T16:24:32.484Z"
   },
   {
    "duration": 998,
    "start_time": "2021-12-27T16:24:42.177Z"
   },
   {
    "duration": 741,
    "start_time": "2021-12-27T16:25:57.612Z"
   },
   {
    "duration": 998,
    "start_time": "2021-12-27T16:26:13.078Z"
   },
   {
    "duration": 1145,
    "start_time": "2021-12-27T16:26:54.147Z"
   },
   {
    "duration": 1019,
    "start_time": "2021-12-27T16:27:01.737Z"
   },
   {
    "duration": 1034,
    "start_time": "2021-12-27T16:27:30.929Z"
   },
   {
    "duration": 255,
    "start_time": "2021-12-27T16:31:08.717Z"
   },
   {
    "duration": 250,
    "start_time": "2021-12-27T16:31:11.658Z"
   },
   {
    "duration": 249,
    "start_time": "2021-12-27T16:31:47.897Z"
   },
   {
    "duration": 79,
    "start_time": "2021-12-27T16:32:32.915Z"
   },
   {
    "duration": 1685,
    "start_time": "2021-12-27T16:32:40.894Z"
   },
   {
    "duration": 230,
    "start_time": "2021-12-27T16:32:59.299Z"
   },
   {
    "duration": 12,
    "start_time": "2021-12-27T16:33:38.630Z"
   },
   {
    "duration": 3,
    "start_time": "2021-12-27T16:37:17.934Z"
   },
   {
    "duration": 1157,
    "start_time": "2021-12-27T16:37:26.456Z"
   },
   {
    "duration": 265,
    "start_time": "2021-12-27T17:20:09.813Z"
   },
   {
    "duration": 423,
    "start_time": "2021-12-27T17:20:49.714Z"
   },
   {
    "duration": 461,
    "start_time": "2021-12-27T17:21:02.074Z"
   },
   {
    "duration": 457,
    "start_time": "2021-12-27T17:22:40.326Z"
   },
   {
    "duration": 453,
    "start_time": "2021-12-27T17:23:08.572Z"
   },
   {
    "duration": 453,
    "start_time": "2021-12-27T17:24:02.152Z"
   },
   {
    "duration": 440,
    "start_time": "2021-12-27T17:24:31.014Z"
   },
   {
    "duration": 443,
    "start_time": "2021-12-27T17:24:56.723Z"
   },
   {
    "duration": 443,
    "start_time": "2021-12-27T17:25:34.479Z"
   },
   {
    "duration": 441,
    "start_time": "2021-12-27T17:25:45.099Z"
   },
   {
    "duration": 451,
    "start_time": "2021-12-27T17:25:57.882Z"
   },
   {
    "duration": 251,
    "start_time": "2021-12-27T17:28:39.478Z"
   },
   {
    "duration": 443,
    "start_time": "2021-12-27T17:28:54.687Z"
   },
   {
    "duration": 81,
    "start_time": "2021-12-27T17:32:37.142Z"
   },
   {
    "duration": 638,
    "start_time": "2021-12-27T17:32:42.347Z"
   },
   {
    "duration": 242,
    "start_time": "2021-12-27T17:32:48.782Z"
   },
   {
    "duration": 274,
    "start_time": "2021-12-27T17:33:05.540Z"
   },
   {
    "duration": 35,
    "start_time": "2021-12-27T17:33:23.223Z"
   },
   {
    "duration": 35,
    "start_time": "2021-12-27T17:33:32.764Z"
   },
   {
    "duration": 35,
    "start_time": "2021-12-27T17:33:39.633Z"
   },
   {
    "duration": 24,
    "start_time": "2021-12-27T17:34:39.500Z"
   },
   {
    "duration": 9,
    "start_time": "2021-12-27T17:38:36.803Z"
   },
   {
    "duration": 10,
    "start_time": "2021-12-27T17:39:08.064Z"
   },
   {
    "duration": 289,
    "start_time": "2021-12-27T17:46:37.818Z"
   },
   {
    "duration": 22,
    "start_time": "2021-12-27T17:46:45.093Z"
   },
   {
    "duration": 26,
    "start_time": "2021-12-27T17:47:05.252Z"
   },
   {
    "duration": 23,
    "start_time": "2021-12-27T17:51:15.097Z"
   },
   {
    "duration": 38,
    "start_time": "2021-12-27T17:51:33.307Z"
   },
   {
    "duration": 47,
    "start_time": "2021-12-27T17:51:52.238Z"
   },
   {
    "duration": 286,
    "start_time": "2021-12-27T18:03:07.385Z"
   },
   {
    "duration": 49,
    "start_time": "2021-12-27T18:03:10.745Z"
   },
   {
    "duration": 7,
    "start_time": "2021-12-27T18:04:31.822Z"
   },
   {
    "duration": 468,
    "start_time": "2021-12-27T18:04:56.122Z"
   },
   {
    "duration": 7,
    "start_time": "2021-12-27T18:04:59.557Z"
   },
   {
    "duration": 82,
    "start_time": "2021-12-27T18:05:00.936Z"
   },
   {
    "duration": 34,
    "start_time": "2021-12-27T18:06:42.624Z"
   },
   {
    "duration": 9,
    "start_time": "2021-12-27T18:10:55.708Z"
   },
   {
    "duration": 903,
    "start_time": "2021-12-27T18:11:14.541Z"
   },
   {
    "duration": 572,
    "start_time": "2021-12-27T18:11:15.447Z"
   },
   {
    "duration": 21,
    "start_time": "2021-12-27T18:11:16.022Z"
   },
   {
    "duration": 14,
    "start_time": "2021-12-27T18:11:16.047Z"
   },
   {
    "duration": 15,
    "start_time": "2021-12-27T18:11:16.063Z"
   },
   {
    "duration": 12,
    "start_time": "2021-12-27T18:11:16.081Z"
   },
   {
    "duration": 16,
    "start_time": "2021-12-27T18:11:16.096Z"
   },
   {
    "duration": 60,
    "start_time": "2021-12-27T18:11:16.116Z"
   },
   {
    "duration": 23,
    "start_time": "2021-12-27T18:11:16.179Z"
   },
   {
    "duration": 20,
    "start_time": "2021-12-27T18:11:16.205Z"
   },
   {
    "duration": 41,
    "start_time": "2021-12-27T18:11:16.227Z"
   },
   {
    "duration": 10,
    "start_time": "2021-12-27T18:11:16.271Z"
   },
   {
    "duration": 52,
    "start_time": "2021-12-27T18:11:16.283Z"
   },
   {
    "duration": 57,
    "start_time": "2021-12-27T18:11:16.337Z"
   },
   {
    "duration": 27,
    "start_time": "2021-12-27T18:11:16.396Z"
   },
   {
    "duration": 99,
    "start_time": "2021-12-27T18:11:16.426Z"
   },
   {
    "duration": 8,
    "start_time": "2021-12-27T18:11:16.528Z"
   },
   {
    "duration": 99,
    "start_time": "2021-12-27T18:11:16.539Z"
   },
   {
    "duration": 4,
    "start_time": "2021-12-27T18:11:16.641Z"
   },
   {
    "duration": 31,
    "start_time": "2021-12-27T18:11:16.663Z"
   },
   {
    "duration": 10,
    "start_time": "2021-12-27T18:11:16.696Z"
   },
   {
    "duration": 4,
    "start_time": "2021-12-27T18:11:16.708Z"
   },
   {
    "duration": 54,
    "start_time": "2021-12-27T18:11:16.717Z"
   },
   {
    "duration": 28,
    "start_time": "2021-12-27T18:11:16.775Z"
   },
   {
    "duration": 71,
    "start_time": "2021-12-27T18:11:16.806Z"
   },
   {
    "duration": 43,
    "start_time": "2021-12-27T18:11:16.880Z"
   },
   {
    "duration": 37,
    "start_time": "2021-12-27T18:11:16.926Z"
   },
   {
    "duration": 15,
    "start_time": "2021-12-27T18:11:16.965Z"
   },
   {
    "duration": 11,
    "start_time": "2021-12-27T18:11:16.982Z"
   },
   {
    "duration": 10,
    "start_time": "2021-12-27T18:11:16.995Z"
   },
   {
    "duration": 23,
    "start_time": "2021-12-27T18:11:17.007Z"
   },
   {
    "duration": 35,
    "start_time": "2021-12-27T18:11:17.032Z"
   },
   {
    "duration": 8,
    "start_time": "2021-12-27T18:11:17.069Z"
   },
   {
    "duration": 58,
    "start_time": "2021-12-27T18:11:17.080Z"
   },
   {
    "duration": 27,
    "start_time": "2021-12-27T18:11:17.141Z"
   },
   {
    "duration": 13,
    "start_time": "2021-12-27T18:11:17.171Z"
   },
   {
    "duration": 14,
    "start_time": "2021-12-27T18:11:17.186Z"
   },
   {
    "duration": 8,
    "start_time": "2021-12-27T18:11:17.203Z"
   },
   {
    "duration": 322,
    "start_time": "2021-12-27T18:11:17.214Z"
   },
   {
    "duration": 26,
    "start_time": "2021-12-27T18:11:17.539Z"
   },
   {
    "duration": 16,
    "start_time": "2021-12-27T18:11:17.567Z"
   },
   {
    "duration": 16,
    "start_time": "2021-12-27T18:11:17.586Z"
   },
   {
    "duration": 479,
    "start_time": "2021-12-27T18:11:17.604Z"
   },
   {
    "duration": 465,
    "start_time": "2021-12-27T18:11:18.085Z"
   },
   {
    "duration": 459,
    "start_time": "2021-12-27T18:11:18.553Z"
   },
   {
    "duration": 52,
    "start_time": "2021-12-27T18:11:19.015Z"
   },
   {
    "duration": 51,
    "start_time": "2021-12-27T18:11:19.070Z"
   },
   {
    "duration": 51,
    "start_time": "2021-12-27T18:11:55.481Z"
   },
   {
    "duration": 10,
    "start_time": "2021-12-27T18:14:14.638Z"
   },
   {
    "duration": 52,
    "start_time": "2021-12-27T18:14:15.958Z"
   },
   {
    "duration": 913,
    "start_time": "2021-12-27T18:14:29.630Z"
   },
   {
    "duration": 577,
    "start_time": "2021-12-27T18:14:30.545Z"
   },
   {
    "duration": 16,
    "start_time": "2021-12-27T18:14:31.125Z"
   },
   {
    "duration": 22,
    "start_time": "2021-12-27T18:14:31.144Z"
   },
   {
    "duration": 13,
    "start_time": "2021-12-27T18:14:31.169Z"
   },
   {
    "duration": 16,
    "start_time": "2021-12-27T18:14:31.185Z"
   },
   {
    "duration": 19,
    "start_time": "2021-12-27T18:14:31.205Z"
   },
   {
    "duration": 57,
    "start_time": "2021-12-27T18:14:31.230Z"
   },
   {
    "duration": 25,
    "start_time": "2021-12-27T18:14:31.291Z"
   },
   {
    "duration": 55,
    "start_time": "2021-12-27T18:14:31.319Z"
   },
   {
    "duration": 10,
    "start_time": "2021-12-27T18:14:31.377Z"
   },
   {
    "duration": 23,
    "start_time": "2021-12-27T18:14:31.390Z"
   },
   {
    "duration": 70,
    "start_time": "2021-12-27T18:14:31.416Z"
   },
   {
    "duration": 34,
    "start_time": "2021-12-27T18:14:31.488Z"
   },
   {
    "duration": 52,
    "start_time": "2021-12-27T18:14:31.525Z"
   },
   {
    "duration": 84,
    "start_time": "2021-12-27T18:14:31.579Z"
   },
   {
    "duration": 7,
    "start_time": "2021-12-27T18:14:31.666Z"
   },
   {
    "duration": 95,
    "start_time": "2021-12-27T18:14:31.676Z"
   },
   {
    "duration": 5,
    "start_time": "2021-12-27T18:14:31.774Z"
   },
   {
    "duration": 33,
    "start_time": "2021-12-27T18:14:31.782Z"
   },
   {
    "duration": 9,
    "start_time": "2021-12-27T18:14:31.818Z"
   },
   {
    "duration": 34,
    "start_time": "2021-12-27T18:14:31.830Z"
   },
   {
    "duration": 22,
    "start_time": "2021-12-27T18:14:31.869Z"
   },
   {
    "duration": 28,
    "start_time": "2021-12-27T18:14:31.894Z"
   },
   {
    "duration": 79,
    "start_time": "2021-12-27T18:14:31.924Z"
   },
   {
    "duration": 68,
    "start_time": "2021-12-27T18:14:32.005Z"
   },
   {
    "duration": 12,
    "start_time": "2021-12-27T18:14:32.076Z"
   },
   {
    "duration": 14,
    "start_time": "2021-12-27T18:14:32.090Z"
   },
   {
    "duration": 7,
    "start_time": "2021-12-27T18:14:32.107Z"
   },
   {
    "duration": 50,
    "start_time": "2021-12-27T18:14:32.117Z"
   },
   {
    "duration": 11,
    "start_time": "2021-12-27T18:14:32.169Z"
   },
   {
    "duration": 10,
    "start_time": "2021-12-27T18:14:32.183Z"
   },
   {
    "duration": 7,
    "start_time": "2021-12-27T18:14:32.195Z"
   },
   {
    "duration": 74,
    "start_time": "2021-12-27T18:14:32.204Z"
   },
   {
    "duration": 10,
    "start_time": "2021-12-27T18:14:32.280Z"
   },
   {
    "duration": 47,
    "start_time": "2021-12-27T18:14:32.292Z"
   },
   {
    "duration": 28,
    "start_time": "2021-12-27T18:14:32.341Z"
   },
   {
    "duration": 11,
    "start_time": "2021-12-27T18:14:32.372Z"
   },
   {
    "duration": 7,
    "start_time": "2021-12-27T18:14:32.385Z"
   },
   {
    "duration": 301,
    "start_time": "2021-12-27T18:14:32.395Z"
   },
   {
    "duration": 17,
    "start_time": "2021-12-27T18:14:32.699Z"
   },
   {
    "duration": 10,
    "start_time": "2021-12-27T18:14:32.719Z"
   },
   {
    "duration": 35,
    "start_time": "2021-12-27T18:14:32.731Z"
   },
   {
    "duration": 458,
    "start_time": "2021-12-27T18:14:32.768Z"
   },
   {
    "duration": 466,
    "start_time": "2021-12-27T18:14:33.229Z"
   },
   {
    "duration": 470,
    "start_time": "2021-12-27T18:14:33.697Z"
   },
   {
    "duration": 34,
    "start_time": "2021-12-27T18:14:34.170Z"
   },
   {
    "duration": 80,
    "start_time": "2021-12-27T18:14:34.206Z"
   },
   {
    "duration": 430,
    "start_time": "2021-12-28T07:26:56.948Z"
   },
   {
    "duration": 8,
    "start_time": "2021-12-28T07:40:11.397Z"
   },
   {
    "duration": 6,
    "start_time": "2021-12-28T07:40:20.027Z"
   },
   {
    "duration": 3,
    "start_time": "2021-12-28T07:41:32.266Z"
   },
   {
    "duration": 5,
    "start_time": "2021-12-28T07:42:39.897Z"
   },
   {
    "duration": 415,
    "start_time": "2021-12-28T07:43:10.337Z"
   },
   {
    "duration": 7,
    "start_time": "2021-12-28T07:43:21.791Z"
   },
   {
    "duration": 7,
    "start_time": "2021-12-28T07:49:45.241Z"
   },
   {
    "duration": 16,
    "start_time": "2021-12-28T07:59:29.575Z"
   },
   {
    "duration": 27,
    "start_time": "2021-12-28T07:59:49.327Z"
   },
   {
    "duration": 5948,
    "start_time": "2021-12-28T08:01:50.908Z"
   },
   {
    "duration": 28,
    "start_time": "2021-12-28T08:02:11.379Z"
   },
   {
    "duration": -74,
    "start_time": "2021-12-28T08:02:23.546Z"
   },
   {
    "duration": 6616,
    "start_time": "2021-12-28T08:02:28.038Z"
   },
   {
    "duration": 9,
    "start_time": "2021-12-28T08:02:52.006Z"
   },
   {
    "duration": 7,
    "start_time": "2021-12-28T08:03:17.508Z"
   },
   {
    "duration": 251,
    "start_time": "2021-12-28T08:03:28.638Z"
   },
   {
    "duration": 5,
    "start_time": "2021-12-28T08:03:56.916Z"
   },
   {
    "duration": 5,
    "start_time": "2021-12-28T08:04:01.448Z"
   },
   {
    "duration": 8,
    "start_time": "2021-12-28T08:05:51.497Z"
   },
   {
    "duration": 43,
    "start_time": "2021-12-28T08:14:04.786Z"
   },
   {
    "duration": 441,
    "start_time": "2021-12-28T08:14:56.511Z"
   },
   {
    "duration": 461,
    "start_time": "2021-12-28T08:15:19.532Z"
   },
   {
    "duration": 19,
    "start_time": "2021-12-28T08:18:00.724Z"
   },
   {
    "duration": 6,
    "start_time": "2021-12-28T08:24:43.062Z"
   },
   {
    "duration": 7,
    "start_time": "2021-12-28T08:24:50.845Z"
   },
   {
    "duration": 456,
    "start_time": "2021-12-28T08:26:27.914Z"
   },
   {
    "duration": 306,
    "start_time": "2021-12-28T08:27:54.364Z"
   },
   {
    "duration": 415,
    "start_time": "2021-12-28T08:28:40.212Z"
   },
   {
    "duration": 901,
    "start_time": "2021-12-28T08:28:59.162Z"
   },
   {
    "duration": 94,
    "start_time": "2021-12-28T08:31:46.893Z"
   },
   {
    "duration": 474,
    "start_time": "2021-12-28T08:31:55.374Z"
   },
   {
    "duration": 89,
    "start_time": "2021-12-28T08:32:17.144Z"
   },
   {
    "duration": 473,
    "start_time": "2021-12-28T08:32:22.902Z"
   },
   {
    "duration": 489,
    "start_time": "2021-12-28T08:32:44.244Z"
   },
   {
    "duration": 472,
    "start_time": "2021-12-28T08:32:54.524Z"
   },
   {
    "duration": 464,
    "start_time": "2021-12-28T08:34:46.624Z"
   },
   {
    "duration": 488,
    "start_time": "2021-12-28T08:36:24.368Z"
   },
   {
    "duration": 502,
    "start_time": "2021-12-28T08:37:01.930Z"
   },
   {
    "duration": 482,
    "start_time": "2021-12-28T08:37:28.716Z"
   },
   {
    "duration": 505,
    "start_time": "2021-12-28T08:37:36.447Z"
   },
   {
    "duration": 469,
    "start_time": "2021-12-28T08:38:10.736Z"
   },
   {
    "duration": 175,
    "start_time": "2021-12-28T08:38:54.147Z"
   },
   {
    "duration": 594,
    "start_time": "2021-12-28T08:39:00.218Z"
   },
   {
    "duration": 480,
    "start_time": "2021-12-28T08:39:07.997Z"
   },
   {
    "duration": 481,
    "start_time": "2021-12-28T08:39:23.496Z"
   },
   {
    "duration": 511,
    "start_time": "2021-12-28T08:39:49.936Z"
   },
   {
    "duration": 479,
    "start_time": "2021-12-28T08:40:27.267Z"
   },
   {
    "duration": 92,
    "start_time": "2021-12-28T08:40:38.745Z"
   },
   {
    "duration": 504,
    "start_time": "2021-12-28T08:40:42.497Z"
   },
   {
    "duration": 467,
    "start_time": "2021-12-28T08:41:35.437Z"
   },
   {
    "duration": 473,
    "start_time": "2021-12-28T08:42:08.127Z"
   },
   {
    "duration": 473,
    "start_time": "2021-12-28T08:42:14.370Z"
   },
   {
    "duration": 468,
    "start_time": "2021-12-28T08:42:41.117Z"
   },
   {
    "duration": 492,
    "start_time": "2021-12-28T08:42:48.657Z"
   },
   {
    "duration": 656,
    "start_time": "2021-12-28T08:42:54.657Z"
   },
   {
    "duration": 493,
    "start_time": "2021-12-28T08:43:10.157Z"
   },
   {
    "duration": 692,
    "start_time": "2021-12-28T08:45:43.107Z"
   },
   {
    "duration": 832,
    "start_time": "2021-12-28T08:45:58.576Z"
   },
   {
    "duration": 740,
    "start_time": "2021-12-28T08:46:36.504Z"
   },
   {
    "duration": 710,
    "start_time": "2021-12-28T08:46:52.847Z"
   },
   {
    "duration": 709,
    "start_time": "2021-12-28T08:47:35.597Z"
   },
   {
    "duration": 495,
    "start_time": "2021-12-28T08:48:30.357Z"
   },
   {
    "duration": 529,
    "start_time": "2021-12-28T08:48:45.386Z"
   },
   {
    "duration": 462,
    "start_time": "2021-12-28T08:48:54.984Z"
   },
   {
    "duration": 509,
    "start_time": "2021-12-28T08:49:06.625Z"
   },
   {
    "duration": 695,
    "start_time": "2021-12-28T08:50:54.286Z"
   },
   {
    "duration": 624,
    "start_time": "2021-12-28T08:51:22.849Z"
   },
   {
    "duration": 560,
    "start_time": "2021-12-28T08:53:39.667Z"
   },
   {
    "duration": 449,
    "start_time": "2021-12-28T08:53:46.387Z"
   },
   {
    "duration": 492,
    "start_time": "2021-12-28T08:54:06.495Z"
   },
   {
    "duration": 466,
    "start_time": "2021-12-28T08:54:19.077Z"
   },
   {
    "duration": 452,
    "start_time": "2021-12-28T08:54:32.254Z"
   },
   {
    "duration": 453,
    "start_time": "2021-12-28T08:54:43.348Z"
   },
   {
    "duration": 461,
    "start_time": "2021-12-28T08:56:36.648Z"
   },
   {
    "duration": 477,
    "start_time": "2021-12-28T08:57:05.517Z"
   },
   {
    "duration": 22,
    "start_time": "2021-12-28T08:58:33.878Z"
   },
   {
    "duration": 16,
    "start_time": "2021-12-28T08:58:49.996Z"
   },
   {
    "duration": 20,
    "start_time": "2021-12-28T08:59:08.735Z"
   },
   {
    "duration": 259,
    "start_time": "2021-12-28T08:59:30.897Z"
   },
   {
    "duration": 278,
    "start_time": "2021-12-28T08:59:39.141Z"
   },
   {
    "duration": 1110,
    "start_time": "2021-12-28T09:01:44.011Z"
   },
   {
    "duration": 1010,
    "start_time": "2021-12-28T09:01:58.278Z"
   },
   {
    "duration": 23,
    "start_time": "2021-12-28T09:02:21.407Z"
   },
   {
    "duration": 255,
    "start_time": "2021-12-28T09:02:34.238Z"
   },
   {
    "duration": 1028,
    "start_time": "2021-12-28T09:02:58.868Z"
   },
   {
    "duration": 264,
    "start_time": "2021-12-28T09:03:35.878Z"
   },
   {
    "duration": 1763,
    "start_time": "2021-12-28T09:03:40.947Z"
   },
   {
    "duration": 23,
    "start_time": "2021-12-28T09:03:59.498Z"
   },
   {
    "duration": 35,
    "start_time": "2021-12-28T09:05:01.078Z"
   },
   {
    "duration": 300,
    "start_time": "2021-12-28T09:05:04.198Z"
   },
   {
    "duration": 22,
    "start_time": "2021-12-28T09:05:28.606Z"
   },
   {
    "duration": 256,
    "start_time": "2021-12-28T09:05:33.538Z"
   },
   {
    "duration": 499,
    "start_time": "2021-12-28T09:06:08.577Z"
   },
   {
    "duration": 34,
    "start_time": "2021-12-28T09:06:38.168Z"
   },
   {
    "duration": 453,
    "start_time": "2021-12-28T09:06:41.187Z"
   },
   {
    "duration": 27,
    "start_time": "2021-12-28T09:07:09.995Z"
   },
   {
    "duration": 28,
    "start_time": "2021-12-28T09:07:51.656Z"
   },
   {
    "duration": 637,
    "start_time": "2021-12-28T09:07:53.996Z"
   },
   {
    "duration": 441,
    "start_time": "2021-12-28T09:08:07.596Z"
   },
   {
    "duration": 445,
    "start_time": "2021-12-28T09:09:28.518Z"
   },
   {
    "duration": 6,
    "start_time": "2021-12-28T09:10:01.268Z"
   },
   {
    "duration": 7,
    "start_time": "2021-12-28T09:10:23.157Z"
   },
   {
    "duration": 1402,
    "start_time": "2021-12-28T10:08:40.220Z"
   },
   {
    "duration": 527,
    "start_time": "2021-12-28T10:08:41.625Z"
   },
   {
    "duration": 16,
    "start_time": "2021-12-28T10:08:42.155Z"
   },
   {
    "duration": 11,
    "start_time": "2021-12-28T10:08:42.175Z"
   },
   {
    "duration": 13,
    "start_time": "2021-12-28T10:08:42.189Z"
   },
   {
    "duration": 11,
    "start_time": "2021-12-28T10:08:42.205Z"
   },
   {
    "duration": 57,
    "start_time": "2021-12-28T10:08:42.219Z"
   },
   {
    "duration": 28,
    "start_time": "2021-12-28T10:08:42.279Z"
   },
   {
    "duration": 60,
    "start_time": "2021-12-28T10:08:42.311Z"
   },
   {
    "duration": 19,
    "start_time": "2021-12-28T10:08:42.374Z"
   },
   {
    "duration": 9,
    "start_time": "2021-12-28T10:08:42.396Z"
   },
   {
    "duration": 14,
    "start_time": "2021-12-28T10:08:42.407Z"
   },
   {
    "duration": 46,
    "start_time": "2021-12-28T10:08:42.464Z"
   },
   {
    "duration": 64,
    "start_time": "2021-12-28T10:08:42.513Z"
   },
   {
    "duration": 33,
    "start_time": "2021-12-28T10:08:42.581Z"
   },
   {
    "duration": 107,
    "start_time": "2021-12-28T10:08:42.617Z"
   },
   {
    "duration": 10,
    "start_time": "2021-12-28T10:08:42.727Z"
   },
   {
    "duration": 101,
    "start_time": "2021-12-28T10:08:42.740Z"
   },
   {
    "duration": 20,
    "start_time": "2021-12-28T10:08:42.843Z"
   },
   {
    "duration": 30,
    "start_time": "2021-12-28T10:08:42.866Z"
   },
   {
    "duration": 9,
    "start_time": "2021-12-28T10:08:42.898Z"
   },
   {
    "duration": 3,
    "start_time": "2021-12-28T10:08:42.910Z"
   },
   {
    "duration": 61,
    "start_time": "2021-12-28T10:08:42.916Z"
   },
   {
    "duration": 26,
    "start_time": "2021-12-28T10:08:42.980Z"
   },
   {
    "duration": 81,
    "start_time": "2021-12-28T10:08:43.008Z"
   },
   {
    "duration": 44,
    "start_time": "2021-12-28T10:08:43.091Z"
   },
   {
    "duration": 8,
    "start_time": "2021-12-28T10:08:43.162Z"
   },
   {
    "duration": 14,
    "start_time": "2021-12-28T10:08:43.174Z"
   },
   {
    "duration": 10,
    "start_time": "2021-12-28T10:08:43.190Z"
   },
   {
    "duration": 6,
    "start_time": "2021-12-28T10:08:43.202Z"
   },
   {
    "duration": 60,
    "start_time": "2021-12-28T10:08:43.211Z"
   },
   {
    "duration": 10,
    "start_time": "2021-12-28T10:08:43.273Z"
   },
   {
    "duration": 7,
    "start_time": "2021-12-28T10:08:43.285Z"
   },
   {
    "duration": 85,
    "start_time": "2021-12-28T10:08:43.294Z"
   },
   {
    "duration": 8,
    "start_time": "2021-12-28T10:08:43.382Z"
   },
   {
    "duration": 75,
    "start_time": "2021-12-28T10:08:43.393Z"
   },
   {
    "duration": 10,
    "start_time": "2021-12-28T10:08:43.471Z"
   },
   {
    "duration": 12,
    "start_time": "2021-12-28T10:08:43.483Z"
   },
   {
    "duration": 7,
    "start_time": "2021-12-28T10:08:43.497Z"
   },
   {
    "duration": 321,
    "start_time": "2021-12-28T10:08:43.507Z"
   },
   {
    "duration": 31,
    "start_time": "2021-12-28T10:08:43.831Z"
   },
   {
    "duration": 10,
    "start_time": "2021-12-28T10:08:43.865Z"
   },
   {
    "duration": 11,
    "start_time": "2021-12-28T10:08:43.878Z"
   },
   {
    "duration": 494,
    "start_time": "2021-12-28T10:08:43.892Z"
   },
   {
    "duration": 464,
    "start_time": "2021-12-28T10:08:44.389Z"
   },
   {
    "duration": 456,
    "start_time": "2021-12-28T10:08:44.862Z"
   },
   {
    "duration": 51,
    "start_time": "2021-12-28T10:08:45.320Z"
   },
   {
    "duration": 47,
    "start_time": "2021-12-28T10:08:45.374Z"
   },
   {
    "duration": 40,
    "start_time": "2021-12-28T10:08:45.424Z"
   },
   {
    "duration": 3,
    "start_time": "2021-12-28T10:08:45.466Z"
   },
   {
    "duration": 9,
    "start_time": "2021-12-28T10:08:45.471Z"
   },
   {
    "duration": 20,
    "start_time": "2021-12-28T10:08:45.482Z"
   },
   {
    "duration": 499,
    "start_time": "2021-12-28T10:08:45.504Z"
   },
   {
    "duration": 27,
    "start_time": "2021-12-28T10:08:46.005Z"
   },
   {
    "duration": 33,
    "start_time": "2021-12-28T10:08:46.035Z"
   },
   {
    "duration": 8,
    "start_time": "2021-12-28T10:08:46.070Z"
   },
   {
    "duration": 13,
    "start_time": "2021-12-28T10:08:46.080Z"
   },
   {
    "duration": 6,
    "start_time": "2021-12-28T10:08:46.096Z"
   },
   {
    "duration": 76,
    "start_time": "2021-12-28T10:08:46.104Z"
   },
   {
    "duration": 456,
    "start_time": "2021-12-28T10:08:46.182Z"
   },
   {
    "duration": 97,
    "start_time": "2021-12-29T08:03:15.895Z"
   },
   {
    "duration": 100,
    "start_time": "2021-12-29T08:03:50.507Z"
   },
   {
    "duration": 385,
    "start_time": "2021-12-29T08:20:44.338Z"
   },
   {
    "duration": 1135,
    "start_time": "2021-12-29T08:20:59.562Z"
   },
   {
    "duration": 386,
    "start_time": "2021-12-29T08:21:00.699Z"
   },
   {
    "duration": 15,
    "start_time": "2021-12-29T08:21:01.090Z"
   },
   {
    "duration": 10,
    "start_time": "2021-12-29T08:21:01.107Z"
   },
   {
    "duration": 8,
    "start_time": "2021-12-29T08:21:01.119Z"
   },
   {
    "duration": 14,
    "start_time": "2021-12-29T08:21:01.129Z"
   },
   {
    "duration": 12,
    "start_time": "2021-12-29T08:21:01.145Z"
   },
   {
    "duration": 30,
    "start_time": "2021-12-29T08:21:01.159Z"
   },
   {
    "duration": 16,
    "start_time": "2021-12-29T08:21:01.190Z"
   },
   {
    "duration": 23,
    "start_time": "2021-12-29T08:21:01.208Z"
   },
   {
    "duration": 9,
    "start_time": "2021-12-29T08:21:01.233Z"
   },
   {
    "duration": 14,
    "start_time": "2021-12-29T08:21:01.243Z"
   },
   {
    "duration": 35,
    "start_time": "2021-12-29T08:21:01.259Z"
   },
   {
    "duration": 31,
    "start_time": "2021-12-29T08:21:01.296Z"
   },
   {
    "duration": 18,
    "start_time": "2021-12-29T08:21:01.329Z"
   },
   {
    "duration": 48,
    "start_time": "2021-12-29T08:21:01.349Z"
   },
   {
    "duration": 5,
    "start_time": "2021-12-29T08:21:01.398Z"
   },
   {
    "duration": 84,
    "start_time": "2021-12-29T08:21:01.405Z"
   },
   {
    "duration": 3,
    "start_time": "2021-12-29T08:21:01.490Z"
   },
   {
    "duration": 32,
    "start_time": "2021-12-29T08:21:01.495Z"
   },
   {
    "duration": 8,
    "start_time": "2021-12-29T08:21:01.529Z"
   },
   {
    "duration": 3,
    "start_time": "2021-12-29T08:21:01.541Z"
   },
   {
    "duration": 23,
    "start_time": "2021-12-29T08:21:01.547Z"
   },
   {
    "duration": 17,
    "start_time": "2021-12-29T08:21:01.572Z"
   },
   {
    "duration": 51,
    "start_time": "2021-12-29T08:21:01.590Z"
   },
   {
    "duration": 28,
    "start_time": "2021-12-29T08:21:01.642Z"
   },
   {
    "duration": 5,
    "start_time": "2021-12-29T08:21:01.672Z"
   },
   {
    "duration": 11,
    "start_time": "2021-12-29T08:21:01.679Z"
   },
   {
    "duration": 37,
    "start_time": "2021-12-29T08:21:01.692Z"
   },
   {
    "duration": 5,
    "start_time": "2021-12-29T08:21:01.731Z"
   },
   {
    "duration": 11,
    "start_time": "2021-12-29T08:21:01.738Z"
   },
   {
    "duration": 13,
    "start_time": "2021-12-29T08:21:01.751Z"
   },
   {
    "duration": 11,
    "start_time": "2021-12-29T08:21:01.766Z"
   },
   {
    "duration": 8,
    "start_time": "2021-12-29T08:21:01.779Z"
   },
   {
    "duration": 49,
    "start_time": "2021-12-29T08:21:01.788Z"
   },
   {
    "duration": 6,
    "start_time": "2021-12-29T08:21:01.839Z"
   },
   {
    "duration": 44,
    "start_time": "2021-12-29T08:21:01.847Z"
   },
   {
    "duration": 10,
    "start_time": "2021-12-29T08:21:01.893Z"
   },
   {
    "duration": 26,
    "start_time": "2021-12-29T08:21:01.905Z"
   },
   {
    "duration": 15,
    "start_time": "2021-12-29T08:21:01.933Z"
   },
   {
    "duration": 153,
    "start_time": "2021-12-29T08:21:01.949Z"
   },
   {
    "duration": 12,
    "start_time": "2021-12-29T08:21:02.103Z"
   },
   {
    "duration": 12,
    "start_time": "2021-12-29T08:21:02.116Z"
   },
   {
    "duration": 6,
    "start_time": "2021-12-29T08:21:02.130Z"
   },
   {
    "duration": 275,
    "start_time": "2021-12-29T08:21:02.138Z"
   },
   {
    "duration": 258,
    "start_time": "2021-12-29T08:21:02.414Z"
   },
   {
    "duration": 274,
    "start_time": "2021-12-29T08:21:02.674Z"
   },
   {
    "duration": 22,
    "start_time": "2021-12-29T08:21:02.950Z"
   },
   {
    "duration": 35,
    "start_time": "2021-12-29T08:21:02.974Z"
   },
   {
    "duration": 20,
    "start_time": "2021-12-29T08:21:03.011Z"
   },
   {
    "duration": 7,
    "start_time": "2021-12-29T08:21:03.033Z"
   },
   {
    "duration": 11,
    "start_time": "2021-12-29T08:21:03.042Z"
   },
   {
    "duration": 13,
    "start_time": "2021-12-29T08:21:03.054Z"
   },
   {
    "duration": 275,
    "start_time": "2021-12-29T08:21:03.069Z"
   },
   {
    "duration": 18,
    "start_time": "2021-12-29T08:21:03.346Z"
   },
   {
    "duration": 5,
    "start_time": "2021-12-29T08:21:03.366Z"
   },
   {
    "duration": 5,
    "start_time": "2021-12-29T08:21:03.373Z"
   },
   {
    "duration": 5,
    "start_time": "2021-12-29T08:21:03.379Z"
   },
   {
    "duration": 5,
    "start_time": "2021-12-29T08:21:03.385Z"
   },
   {
    "duration": 16,
    "start_time": "2021-12-29T08:21:03.428Z"
   },
   {
    "duration": 373,
    "start_time": "2021-12-29T08:21:03.445Z"
   },
   {
    "duration": 5,
    "start_time": "2021-12-29T08:23:34.645Z"
   },
   {
    "duration": 5,
    "start_time": "2021-12-29T08:23:35.590Z"
   },
   {
    "duration": 10,
    "start_time": "2021-12-29T08:25:27.432Z"
   },
   {
    "duration": 6,
    "start_time": "2021-12-29T08:25:54.006Z"
   },
   {
    "duration": 6,
    "start_time": "2021-12-29T08:26:02.397Z"
   },
   {
    "duration": 7,
    "start_time": "2021-12-29T08:27:51.585Z"
   },
   {
    "duration": 364,
    "start_time": "2021-12-29T08:31:07.506Z"
   },
   {
    "duration": 6,
    "start_time": "2021-12-29T08:31:18.289Z"
   },
   {
    "duration": 6,
    "start_time": "2021-12-29T08:31:27.769Z"
   },
   {
    "duration": 8,
    "start_time": "2021-12-29T08:32:10.714Z"
   },
   {
    "duration": 35,
    "start_time": "2021-12-29T08:32:31.971Z"
   },
   {
    "duration": 8,
    "start_time": "2021-12-29T08:32:45.471Z"
   },
   {
    "duration": 8,
    "start_time": "2021-12-29T08:33:37.386Z"
   },
   {
    "duration": 30,
    "start_time": "2021-12-29T08:33:54.883Z"
   },
   {
    "duration": 22,
    "start_time": "2021-12-29T08:33:55.881Z"
   },
   {
    "duration": 38,
    "start_time": "2021-12-29T08:34:10.732Z"
   },
   {
    "duration": 25,
    "start_time": "2021-12-29T08:34:11.196Z"
   },
   {
    "duration": 24,
    "start_time": "2021-12-29T08:34:11.616Z"
   },
   {
    "duration": 7,
    "start_time": "2021-12-29T08:34:12.171Z"
   },
   {
    "duration": 28,
    "start_time": "2021-12-29T08:34:56.994Z"
   },
   {
    "duration": 26,
    "start_time": "2021-12-29T08:34:57.503Z"
   },
   {
    "duration": 24,
    "start_time": "2021-12-29T08:34:57.998Z"
   },
   {
    "duration": 13,
    "start_time": "2021-12-29T08:35:04.703Z"
   },
   {
    "duration": 35,
    "start_time": "2021-12-29T08:36:12.564Z"
   },
   {
    "duration": 14,
    "start_time": "2021-12-29T08:36:47.845Z"
   },
   {
    "duration": 43,
    "start_time": "2021-12-29T08:36:56.441Z"
   },
   {
    "duration": 9,
    "start_time": "2021-12-29T08:38:39.612Z"
   },
   {
    "duration": 22,
    "start_time": "2021-12-29T08:39:28.497Z"
   },
   {
    "duration": 9,
    "start_time": "2021-12-29T08:41:36.061Z"
   },
   {
    "duration": 40,
    "start_time": "2021-12-29T08:45:57.709Z"
   },
   {
    "duration": 51,
    "start_time": "2021-12-29T08:45:58.460Z"
   },
   {
    "duration": 23,
    "start_time": "2021-12-29T08:45:59.239Z"
   },
   {
    "duration": 36,
    "start_time": "2021-12-29T08:48:18.623Z"
   },
   {
    "duration": 31,
    "start_time": "2021-12-29T08:48:23.018Z"
   },
   {
    "duration": 88,
    "start_time": "2021-12-29T08:55:57.842Z"
   },
   {
    "duration": 7748,
    "start_time": "2021-12-29T08:56:02.522Z"
   },
   {
    "duration": 5,
    "start_time": "2021-12-29T08:56:35.192Z"
   },
   {
    "duration": 4,
    "start_time": "2021-12-29T08:56:52.262Z"
   },
   {
    "duration": 284,
    "start_time": "2021-12-29T08:58:30.170Z"
   },
   {
    "duration": 4,
    "start_time": "2021-12-29T08:59:31.191Z"
   },
   {
    "duration": 5,
    "start_time": "2021-12-29T09:00:09.576Z"
   },
   {
    "duration": 396,
    "start_time": "2021-12-29T09:02:35.123Z"
   },
   {
    "duration": 4,
    "start_time": "2021-12-29T09:03:08.934Z"
   },
   {
    "duration": 1675,
    "start_time": "2021-12-29T09:10:11.583Z"
   },
   {
    "duration": 7,
    "start_time": "2021-12-29T09:10:18.421Z"
   },
   {
    "duration": 1258,
    "start_time": "2021-12-29T09:10:23.690Z"
   },
   {
    "duration": 11,
    "start_time": "2021-12-29T09:10:26.446Z"
   },
   {
    "duration": 7,
    "start_time": "2021-12-29T09:11:39.772Z"
   },
   {
    "duration": 189,
    "start_time": "2021-12-29T09:14:42.787Z"
   },
   {
    "duration": 104,
    "start_time": "2021-12-29T09:53:07.590Z"
   },
   {
    "duration": 185,
    "start_time": "2021-12-29T09:53:12.407Z"
   },
   {
    "duration": 97,
    "start_time": "2021-12-29T09:54:18.138Z"
   },
   {
    "duration": 304,
    "start_time": "2021-12-29T09:54:25.757Z"
   },
   {
    "duration": 214,
    "start_time": "2021-12-29T09:54:30.648Z"
   },
   {
    "duration": 326,
    "start_time": "2021-12-29T09:55:24.364Z"
   },
   {
    "duration": 359,
    "start_time": "2021-12-29T09:55:42.021Z"
   },
   {
    "duration": 368,
    "start_time": "2021-12-29T09:55:46.504Z"
   },
   {
    "duration": 329,
    "start_time": "2021-12-29T09:55:55.310Z"
   },
   {
    "duration": 347,
    "start_time": "2021-12-29T09:56:20.992Z"
   },
   {
    "duration": 426,
    "start_time": "2021-12-29T09:56:59.075Z"
   },
   {
    "duration": 367,
    "start_time": "2021-12-29T09:57:32.271Z"
   },
   {
    "duration": 422,
    "start_time": "2021-12-29T09:57:52.373Z"
   },
   {
    "duration": 477,
    "start_time": "2021-12-29T09:58:09.622Z"
   },
   {
    "duration": 462,
    "start_time": "2021-12-29T09:58:28.177Z"
   },
   {
    "duration": 611,
    "start_time": "2021-12-29T09:58:37.283Z"
   },
   {
    "duration": 830,
    "start_time": "2021-12-29T09:58:54.174Z"
   },
   {
    "duration": 1279,
    "start_time": "2021-12-29T09:59:08.528Z"
   },
   {
    "duration": 1322,
    "start_time": "2021-12-29T09:59:33.774Z"
   },
   {
    "duration": 1184,
    "start_time": "2021-12-29T10:00:56.726Z"
   },
   {
    "duration": 729,
    "start_time": "2021-12-29T10:01:06.896Z"
   },
   {
    "duration": 726,
    "start_time": "2021-12-29T10:01:18.626Z"
   },
   {
    "duration": 481,
    "start_time": "2021-12-29T10:01:29.351Z"
   },
   {
    "duration": 406,
    "start_time": "2021-12-29T10:01:37.321Z"
   },
   {
    "duration": 577,
    "start_time": "2021-12-29T10:01:55.077Z"
   },
   {
    "duration": 485,
    "start_time": "2021-12-29T10:02:11.427Z"
   },
   {
    "duration": 466,
    "start_time": "2021-12-29T10:02:32.382Z"
   },
   {
    "duration": 489,
    "start_time": "2021-12-29T10:20:59.732Z"
   },
   {
    "duration": 542,
    "start_time": "2021-12-29T10:24:43.478Z"
   },
   {
    "duration": 795,
    "start_time": "2021-12-29T10:24:58.058Z"
   },
   {
    "duration": 305,
    "start_time": "2021-12-29T10:25:23.738Z"
   },
   {
    "duration": 476,
    "start_time": "2021-12-29T10:25:36.159Z"
   },
   {
    "duration": 385,
    "start_time": "2021-12-29T10:26:20.004Z"
   },
   {
    "duration": 392,
    "start_time": "2021-12-29T10:27:10.286Z"
   }
  ],
  "kernelspec": {
   "display_name": "Python 3 (ipykernel)",
   "language": "python",
   "name": "python3"
  },
  "language_info": {
   "codemirror_mode": {
    "name": "ipython",
    "version": 3
   },
   "file_extension": ".py",
   "mimetype": "text/x-python",
   "name": "python",
   "nbconvert_exporter": "python",
   "pygments_lexer": "ipython3",
   "version": "3.9.7"
  },
  "toc": {
   "base_numbering": 1,
   "nav_menu": {},
   "number_sections": false,
   "sideBar": true,
   "skip_h1_title": true,
   "title_cell": "Table of Contents",
   "title_sidebar": "Contents",
   "toc_cell": false,
   "toc_position": {},
   "toc_section_display": true,
   "toc_window_display": true
  }
 },
 "nbformat": 4,
 "nbformat_minor": 2
}
